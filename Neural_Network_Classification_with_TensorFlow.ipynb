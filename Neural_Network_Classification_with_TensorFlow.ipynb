{
  "nbformat": 4,
  "nbformat_minor": 0,
  "metadata": {
    "colab": {
      "name": "Neural Network Classification with TensorFlow.ipynb",
      "provenance": [],
      "authorship_tag": "ABX9TyNJ9eZPYN/g4pMKZ+/yiruv",
      "include_colab_link": true
    },
    "kernelspec": {
      "name": "python3",
      "display_name": "Python 3"
    },
    "language_info": {
      "name": "python"
    }
  },
  "cells": [
    {
      "cell_type": "markdown",
      "metadata": {
        "id": "view-in-github",
        "colab_type": "text"
      },
      "source": [
        "<a href=\"https://colab.research.google.com/github/sydoky/Neural-Network-Classification-with-TensorFlow/blob/main/Neural_Network_Classification_with_TensorFlow.ipynb\" target=\"_parent\"><img src=\"https://colab.research.google.com/assets/colab-badge.svg\" alt=\"Open In Colab\"/></a>"
      ]
    },
    {
      "cell_type": "code",
      "execution_count": 62,
      "metadata": {
        "colab": {
          "base_uri": "https://localhost:8080/"
        },
        "id": "7GDp_2J35_Ub",
        "outputId": "6ec182c7-ff82-4a05-9338-7f3340ffd242"
      },
      "outputs": [
        {
          "output_type": "stream",
          "name": "stdout",
          "text": [
            "2.7.0\n"
          ]
        }
      ],
      "source": [
        "import tensorflow as tf\n",
        "print(tf.__version__)"
      ]
    },
    {
      "cell_type": "markdown",
      "source": [
        "# **Creating data to view and fit**"
      ],
      "metadata": {
        "id": "UHrg6mZ96ThL"
      }
    },
    {
      "cell_type": "code",
      "source": [
        "from sklearn.datasets import make_circles\n",
        "\n",
        "#Make 1000 examples\n",
        "\n",
        "n_samples=1000\n",
        "\n",
        "#Create circles\n",
        "\n",
        "X,y=make_circles(n_samples,\n",
        "                 noise=0.03,\n",
        "                 random_state=42)"
      ],
      "metadata": {
        "id": "A8kEtZ8e6XcH"
      },
      "execution_count": 63,
      "outputs": []
    },
    {
      "cell_type": "code",
      "source": [
        "X"
      ],
      "metadata": {
        "colab": {
          "base_uri": "https://localhost:8080/"
        },
        "id": "UvdvXc2C66lC",
        "outputId": "a8f091c5-d0f1-4a3c-8edd-f664190b92b3"
      },
      "execution_count": 64,
      "outputs": [
        {
          "output_type": "execute_result",
          "data": {
            "text/plain": [
              "array([[ 0.75424625,  0.23148074],\n",
              "       [-0.75615888,  0.15325888],\n",
              "       [-0.81539193,  0.17328203],\n",
              "       ...,\n",
              "       [-0.13690036, -0.81001183],\n",
              "       [ 0.67036156, -0.76750154],\n",
              "       [ 0.28105665,  0.96382443]])"
            ]
          },
          "metadata": {},
          "execution_count": 64
        }
      ]
    },
    {
      "cell_type": "code",
      "source": [
        "y"
      ],
      "metadata": {
        "colab": {
          "base_uri": "https://localhost:8080/"
        },
        "id": "8Cjf88Bc7Bm-",
        "outputId": "283f5e8c-ae7f-4c0f-91ee-223a17fbc3db"
      },
      "execution_count": 65,
      "outputs": [
        {
          "output_type": "execute_result",
          "data": {
            "text/plain": [
              "array([1, 1, 1, 1, 0, 1, 1, 1, 1, 0, 1, 0, 1, 1, 1, 1, 0, 1, 1, 0, 1, 0,\n",
              "       0, 1, 0, 0, 0, 1, 1, 1, 0, 0, 1, 0, 0, 0, 1, 1, 1, 0, 0, 0, 0, 1,\n",
              "       0, 0, 1, 1, 0, 1, 1, 1, 0, 1, 0, 0, 1, 0, 0, 1, 0, 0, 1, 0, 1, 1,\n",
              "       1, 1, 0, 1, 0, 0, 1, 1, 0, 0, 1, 0, 1, 0, 1, 0, 0, 0, 0, 1, 1, 1,\n",
              "       1, 0, 0, 0, 1, 0, 1, 0, 1, 0, 0, 1, 1, 0, 1, 0, 1, 1, 1, 1, 0, 1,\n",
              "       1, 1, 1, 1, 0, 0, 0, 1, 1, 0, 1, 0, 1, 0, 0, 1, 1, 0, 1, 1, 1, 1,\n",
              "       0, 1, 1, 0, 0, 0, 0, 0, 0, 0, 1, 0, 1, 1, 1, 0, 1, 0, 1, 0, 1, 0,\n",
              "       1, 0, 0, 1, 0, 1, 1, 1, 1, 1, 1, 1, 0, 1, 0, 0, 0, 0, 0, 1, 0, 0,\n",
              "       0, 0, 1, 1, 0, 1, 0, 1, 1, 0, 0, 0, 1, 1, 1, 1, 1, 0, 0, 0, 0, 0,\n",
              "       1, 0, 0, 1, 1, 1, 1, 1, 0, 1, 0, 1, 0, 0, 1, 1, 1, 0, 1, 0, 1, 1,\n",
              "       0, 1, 1, 0, 1, 0, 1, 0, 1, 1, 0, 1, 0, 1, 0, 0, 0, 1, 0, 0, 0, 0,\n",
              "       1, 1, 0, 0, 0, 0, 0, 0, 0, 1, 1, 1, 0, 0, 1, 1, 1, 0, 1, 0, 0, 0,\n",
              "       0, 1, 1, 0, 1, 0, 0, 0, 1, 0, 1, 0, 0, 1, 0, 1, 1, 1, 0, 0, 0, 1,\n",
              "       0, 0, 0, 1, 1, 1, 1, 0, 0, 0, 1, 0, 0, 0, 1, 0, 0, 0, 1, 1, 0, 1,\n",
              "       1, 1, 1, 1, 1, 1, 0, 0, 0, 0, 1, 0, 0, 0, 0, 1, 1, 1, 0, 0, 1, 0,\n",
              "       1, 0, 1, 1, 0, 0, 1, 1, 1, 1, 0, 0, 0, 0, 0, 0, 1, 1, 0, 1, 0, 0,\n",
              "       1, 0, 0, 0, 0, 0, 0, 0, 0, 1, 0, 0, 0, 0, 1, 0, 0, 1, 0, 1, 0, 0,\n",
              "       0, 1, 0, 0, 1, 1, 0, 0, 1, 0, 0, 1, 1, 0, 1, 1, 0, 0, 1, 0, 1, 0,\n",
              "       0, 0, 1, 1, 0, 0, 1, 1, 1, 1, 1, 0, 0, 1, 1, 1, 1, 0, 1, 1, 1, 1,\n",
              "       1, 0, 0, 1, 0, 1, 0, 0, 0, 0, 1, 0, 0, 0, 0, 0, 0, 0, 0, 0, 1, 1,\n",
              "       0, 1, 1, 1, 1, 1, 1, 0, 1, 1, 1, 1, 0, 0, 0, 1, 1, 1, 0, 0, 0, 0,\n",
              "       1, 1, 0, 0, 0, 0, 1, 0, 0, 0, 1, 0, 0, 1, 1, 1, 1, 1, 1, 0, 0, 0,\n",
              "       1, 0, 0, 0, 0, 0, 1, 1, 1, 0, 0, 0, 0, 0, 1, 1, 1, 0, 0, 1, 1, 1,\n",
              "       1, 0, 1, 1, 0, 1, 0, 0, 0, 1, 0, 0, 1, 0, 0, 1, 1, 0, 0, 1, 1, 0,\n",
              "       1, 0, 1, 0, 1, 0, 1, 0, 0, 0, 1, 0, 0, 0, 0, 0, 0, 1, 1, 1, 1, 0,\n",
              "       0, 0, 1, 0, 1, 1, 0, 0, 0, 0, 0, 1, 1, 1, 0, 0, 1, 0, 0, 1, 0, 0,\n",
              "       1, 0, 0, 1, 0, 0, 0, 1, 0, 0, 1, 1, 1, 0, 1, 1, 0, 0, 0, 1, 1, 1,\n",
              "       1, 0, 0, 1, 1, 1, 0, 0, 0, 0, 1, 1, 0, 0, 1, 1, 0, 0, 1, 1, 1, 1,\n",
              "       1, 1, 1, 0, 1, 0, 1, 0, 0, 1, 0, 1, 1, 1, 1, 0, 0, 1, 1, 0, 0, 1,\n",
              "       0, 1, 0, 0, 0, 1, 0, 0, 1, 1, 1, 1, 0, 1, 1, 1, 1, 1, 1, 1, 0, 1,\n",
              "       0, 1, 1, 1, 0, 0, 1, 0, 0, 0, 1, 1, 1, 1, 0, 0, 0, 0, 1, 0, 1, 1,\n",
              "       1, 0, 1, 0, 0, 1, 0, 0, 1, 1, 1, 1, 1, 0, 1, 0, 0, 0, 1, 1, 1, 1,\n",
              "       1, 0, 0, 0, 1, 1, 1, 1, 0, 0, 0, 0, 0, 1, 1, 0, 1, 0, 1, 0, 0, 0,\n",
              "       0, 0, 0, 0, 0, 0, 1, 1, 1, 1, 1, 0, 1, 0, 1, 1, 1, 1, 0, 1, 1, 1,\n",
              "       1, 1, 1, 1, 1, 0, 1, 1, 0, 1, 0, 0, 0, 1, 0, 1, 1, 1, 0, 1, 1, 0,\n",
              "       1, 1, 0, 1, 0, 1, 1, 0, 0, 1, 1, 1, 0, 0, 0, 0, 1, 1, 0, 0, 1, 1,\n",
              "       1, 1, 1, 1, 1, 1, 1, 1, 1, 1, 1, 1, 0, 0, 1, 0, 1, 0, 1, 0, 1, 1,\n",
              "       1, 1, 1, 1, 0, 1, 0, 1, 1, 1, 0, 1, 1, 0, 0, 1, 0, 1, 1, 0, 0, 1,\n",
              "       1, 1, 1, 1, 1, 1, 1, 0, 1, 1, 1, 0, 1, 0, 0, 1, 1, 0, 0, 0, 1, 0,\n",
              "       0, 1, 0, 0, 0, 1, 0, 1, 0, 0, 0, 0, 1, 0, 1, 1, 1, 1, 0, 1, 0, 0,\n",
              "       0, 0, 0, 0, 1, 0, 1, 0, 1, 0, 1, 1, 1, 0, 1, 0, 1, 0, 0, 1, 1, 1,\n",
              "       0, 0, 0, 1, 1, 0, 1, 0, 1, 1, 0, 1, 0, 0, 1, 1, 1, 0, 0, 0, 1, 1,\n",
              "       0, 0, 0, 0, 0, 1, 1, 0, 1, 0, 0, 0, 1, 0, 0, 0, 1, 1, 1, 1, 0, 1,\n",
              "       1, 1, 0, 1, 1, 1, 1, 0, 1, 1, 0, 1, 1, 0, 0, 1, 1, 1, 0, 0, 0, 0,\n",
              "       0, 0, 1, 0, 0, 1, 0, 0, 0, 1, 0, 1, 0, 1, 1, 0, 0, 0, 0, 0, 0, 0,\n",
              "       0, 1, 0, 1, 0, 0, 0, 1, 0, 0])"
            ]
          },
          "metadata": {},
          "execution_count": 65
        }
      ]
    },
    {
      "cell_type": "code",
      "source": [
        "#Make a dataframe of features and labels\n",
        "import pandas as pd\n",
        "circles=pd.DataFrame({\"X0\":X[:,0],\"X1\":X[:,1],\"label\":y})\n",
        "\n",
        "circles.head()"
      ],
      "metadata": {
        "colab": {
          "base_uri": "https://localhost:8080/",
          "height": 206
        },
        "id": "Gy3ZYsmi7TcZ",
        "outputId": "964b3b89-15b5-4fc5-c1ab-b541e4297d9c"
      },
      "execution_count": 66,
      "outputs": [
        {
          "output_type": "execute_result",
          "data": {
            "text/html": [
              "\n",
              "  <div id=\"df-52bdde8c-4c34-423f-a367-287ccd375075\">\n",
              "    <div class=\"colab-df-container\">\n",
              "      <div>\n",
              "<style scoped>\n",
              "    .dataframe tbody tr th:only-of-type {\n",
              "        vertical-align: middle;\n",
              "    }\n",
              "\n",
              "    .dataframe tbody tr th {\n",
              "        vertical-align: top;\n",
              "    }\n",
              "\n",
              "    .dataframe thead th {\n",
              "        text-align: right;\n",
              "    }\n",
              "</style>\n",
              "<table border=\"1\" class=\"dataframe\">\n",
              "  <thead>\n",
              "    <tr style=\"text-align: right;\">\n",
              "      <th></th>\n",
              "      <th>X0</th>\n",
              "      <th>X1</th>\n",
              "      <th>label</th>\n",
              "    </tr>\n",
              "  </thead>\n",
              "  <tbody>\n",
              "    <tr>\n",
              "      <th>0</th>\n",
              "      <td>0.754246</td>\n",
              "      <td>0.231481</td>\n",
              "      <td>1</td>\n",
              "    </tr>\n",
              "    <tr>\n",
              "      <th>1</th>\n",
              "      <td>-0.756159</td>\n",
              "      <td>0.153259</td>\n",
              "      <td>1</td>\n",
              "    </tr>\n",
              "    <tr>\n",
              "      <th>2</th>\n",
              "      <td>-0.815392</td>\n",
              "      <td>0.173282</td>\n",
              "      <td>1</td>\n",
              "    </tr>\n",
              "    <tr>\n",
              "      <th>3</th>\n",
              "      <td>-0.393731</td>\n",
              "      <td>0.692883</td>\n",
              "      <td>1</td>\n",
              "    </tr>\n",
              "    <tr>\n",
              "      <th>4</th>\n",
              "      <td>0.442208</td>\n",
              "      <td>-0.896723</td>\n",
              "      <td>0</td>\n",
              "    </tr>\n",
              "  </tbody>\n",
              "</table>\n",
              "</div>\n",
              "      <button class=\"colab-df-convert\" onclick=\"convertToInteractive('df-52bdde8c-4c34-423f-a367-287ccd375075')\"\n",
              "              title=\"Convert this dataframe to an interactive table.\"\n",
              "              style=\"display:none;\">\n",
              "        \n",
              "  <svg xmlns=\"http://www.w3.org/2000/svg\" height=\"24px\"viewBox=\"0 0 24 24\"\n",
              "       width=\"24px\">\n",
              "    <path d=\"M0 0h24v24H0V0z\" fill=\"none\"/>\n",
              "    <path d=\"M18.56 5.44l.94 2.06.94-2.06 2.06-.94-2.06-.94-.94-2.06-.94 2.06-2.06.94zm-11 1L8.5 8.5l.94-2.06 2.06-.94-2.06-.94L8.5 2.5l-.94 2.06-2.06.94zm10 10l.94 2.06.94-2.06 2.06-.94-2.06-.94-.94-2.06-.94 2.06-2.06.94z\"/><path d=\"M17.41 7.96l-1.37-1.37c-.4-.4-.92-.59-1.43-.59-.52 0-1.04.2-1.43.59L10.3 9.45l-7.72 7.72c-.78.78-.78 2.05 0 2.83L4 21.41c.39.39.9.59 1.41.59.51 0 1.02-.2 1.41-.59l7.78-7.78 2.81-2.81c.8-.78.8-2.07 0-2.86zM5.41 20L4 18.59l7.72-7.72 1.47 1.35L5.41 20z\"/>\n",
              "  </svg>\n",
              "      </button>\n",
              "      \n",
              "  <style>\n",
              "    .colab-df-container {\n",
              "      display:flex;\n",
              "      flex-wrap:wrap;\n",
              "      gap: 12px;\n",
              "    }\n",
              "\n",
              "    .colab-df-convert {\n",
              "      background-color: #E8F0FE;\n",
              "      border: none;\n",
              "      border-radius: 50%;\n",
              "      cursor: pointer;\n",
              "      display: none;\n",
              "      fill: #1967D2;\n",
              "      height: 32px;\n",
              "      padding: 0 0 0 0;\n",
              "      width: 32px;\n",
              "    }\n",
              "\n",
              "    .colab-df-convert:hover {\n",
              "      background-color: #E2EBFA;\n",
              "      box-shadow: 0px 1px 2px rgba(60, 64, 67, 0.3), 0px 1px 3px 1px rgba(60, 64, 67, 0.15);\n",
              "      fill: #174EA6;\n",
              "    }\n",
              "\n",
              "    [theme=dark] .colab-df-convert {\n",
              "      background-color: #3B4455;\n",
              "      fill: #D2E3FC;\n",
              "    }\n",
              "\n",
              "    [theme=dark] .colab-df-convert:hover {\n",
              "      background-color: #434B5C;\n",
              "      box-shadow: 0px 1px 3px 1px rgba(0, 0, 0, 0.15);\n",
              "      filter: drop-shadow(0px 1px 2px rgba(0, 0, 0, 0.3));\n",
              "      fill: #FFFFFF;\n",
              "    }\n",
              "  </style>\n",
              "\n",
              "      <script>\n",
              "        const buttonEl =\n",
              "          document.querySelector('#df-52bdde8c-4c34-423f-a367-287ccd375075 button.colab-df-convert');\n",
              "        buttonEl.style.display =\n",
              "          google.colab.kernel.accessAllowed ? 'block' : 'none';\n",
              "\n",
              "        async function convertToInteractive(key) {\n",
              "          const element = document.querySelector('#df-52bdde8c-4c34-423f-a367-287ccd375075');\n",
              "          const dataTable =\n",
              "            await google.colab.kernel.invokeFunction('convertToInteractive',\n",
              "                                                     [key], {});\n",
              "          if (!dataTable) return;\n",
              "\n",
              "          const docLinkHtml = 'Like what you see? Visit the ' +\n",
              "            '<a target=\"_blank\" href=https://colab.research.google.com/notebooks/data_table.ipynb>data table notebook</a>'\n",
              "            + ' to learn more about interactive tables.';\n",
              "          element.innerHTML = '';\n",
              "          dataTable['output_type'] = 'display_data';\n",
              "          await google.colab.output.renderOutput(dataTable, element);\n",
              "          const docLink = document.createElement('div');\n",
              "          docLink.innerHTML = docLinkHtml;\n",
              "          element.appendChild(docLink);\n",
              "        }\n",
              "      </script>\n",
              "    </div>\n",
              "  </div>\n",
              "  "
            ],
            "text/plain": [
              "         X0        X1  label\n",
              "0  0.754246  0.231481      1\n",
              "1 -0.756159  0.153259      1\n",
              "2 -0.815392  0.173282      1\n",
              "3 -0.393731  0.692883      1\n",
              "4  0.442208 -0.896723      0"
            ]
          },
          "metadata": {},
          "execution_count": 66
        }
      ]
    },
    {
      "cell_type": "code",
      "source": [
        "#Visualize with plot\n",
        "import matplotlib.pyplot as plt\n",
        "plt.scatter(X[:,0],X[:,1],c=y,cmap=plt.cm.RdYlBu);\n",
        "#c -color, cmap - color map, "
      ],
      "metadata": {
        "colab": {
          "base_uri": "https://localhost:8080/",
          "height": 265
        },
        "id": "QTBgrMAx8efN",
        "outputId": "4ab3f1c2-f16b-4637-f2e2-fc412878a017"
      },
      "execution_count": 67,
      "outputs": [
        {
          "output_type": "display_data",
          "data": {
            "image/png": "[encoded data removed]",
            "text/plain": [
              "<Figure size 432x288 with 1 Axes>"
            ]
          },
          "metadata": {
            "needs_background": "light"
          }
        }
      ]
    },
    {
      "cell_type": "markdown",
      "source": [
        "# **Input Shapes and Output Shapes**"
      ],
      "metadata": {
        "id": "Vpdfk16x9rEb"
      }
    },
    {
      "cell_type": "code",
      "source": [
        "X.shape, y.shape"
      ],
      "metadata": {
        "colab": {
          "base_uri": "https://localhost:8080/"
        },
        "id": "YZ4k-Vyx9v2n",
        "outputId": "61ce1dc7-99ff-4fcb-a502-3290c9a30e67"
      },
      "execution_count": 68,
      "outputs": [
        {
          "output_type": "execute_result",
          "data": {
            "text/plain": [
              "((1000, 2), (1000,))"
            ]
          },
          "metadata": {},
          "execution_count": 68
        }
      ]
    },
    {
      "cell_type": "markdown",
      "source": [
        "# **Steps in Modeling**"
      ],
      "metadata": {
        "id": "AEds9QFT-Df2"
      }
    },
    {
      "cell_type": "code",
      "source": [
        "tf.random.set_seed(42)\n",
        "\n",
        "#Create the model using the Sequential API \n",
        "\n",
        "model_1=tf.keras.Sequential([\n",
        "                             tf.keras.layers.Dense(1)\n",
        "])\n",
        "\n",
        "#Compile the Model\n",
        "\n",
        "model_1.compile(loss=tf.keras.losses.BinaryCrossentropy(),\n",
        "                optimizer=tf.keras.optimizers.SGD(),\n",
        "                metrics=[\"accuracy\"])\n",
        "\n",
        "#Fit the Model \n",
        "model_1.fit(X,y,epochs=5)"
      ],
      "metadata": {
        "colab": {
          "base_uri": "https://localhost:8080/"
        },
        "id": "8MpNzOZk-HG6",
        "outputId": "1ae9092b-6627-44c3-c102-8c028cffba32"
      },
      "execution_count": 69,
      "outputs": [
        {
          "output_type": "stream",
          "name": "stdout",
          "text": [
            "Epoch 1/5\n",
            "32/32 [==============================] - 0s 2ms/step - loss: 2.8544 - accuracy: 0.4600\n",
            "Epoch 2/5\n",
            "32/32 [==============================] - 0s 1ms/step - loss: 0.7131 - accuracy: 0.5430\n",
            "Epoch 3/5\n",
            "32/32 [==============================] - 0s 2ms/step - loss: 0.6973 - accuracy: 0.5090\n",
            "Epoch 4/5\n",
            "32/32 [==============================] - 0s 1ms/step - loss: 0.6950 - accuracy: 0.5010\n",
            "Epoch 5/5\n",
            "32/32 [==============================] - 0s 2ms/step - loss: 0.6942 - accuracy: 0.4830\n"
          ]
        },
        {
          "output_type": "execute_result",
          "data": {
            "text/plain": [
              "<keras.callbacks.History at 0x7f76d69e5850>"
            ]
          },
          "metadata": {},
          "execution_count": 69
        }
      ]
    },
    {
      "cell_type": "code",
      "source": [
        "#Train our Model for longer\n",
        "model_1.fit(X,y,epochs=200)\n"
      ],
      "metadata": {
        "colab": {
          "base_uri": "https://localhost:8080/"
        },
        "id": "CnjgXmgZ_OBC",
        "outputId": "4751b0dd-032b-4bf7-b909-7ca30b2f476a"
      },
      "execution_count": 70,
      "outputs": [
        {
          "output_type": "stream",
          "name": "stdout",
          "text": [
            "Epoch 1/200\n",
            "32/32 [==============================] - 0s 1ms/step - loss: 0.6945 - accuracy: 0.4890\n",
            "Epoch 2/200\n",
            "32/32 [==============================] - 0s 2ms/step - loss: 0.6942 - accuracy: 0.4960\n",
            "Epoch 3/200\n",
            "32/32 [==============================] - 0s 2ms/step - loss: 0.6947 - accuracy: 0.4470\n",
            "Epoch 4/200\n",
            "32/32 [==============================] - 0s 2ms/step - loss: 0.6941 - accuracy: 0.4880\n",
            "Epoch 5/200\n",
            "32/32 [==============================] - 0s 2ms/step - loss: 0.6940 - accuracy: 0.4800\n",
            "Epoch 6/200\n",
            "32/32 [==============================] - 0s 2ms/step - loss: 0.6936 - accuracy: 0.5050\n",
            "Epoch 7/200\n",
            "32/32 [==============================] - 0s 2ms/step - loss: 0.6943 - accuracy: 0.4970\n",
            "Epoch 8/200\n",
            "32/32 [==============================] - 0s 2ms/step - loss: 0.6941 - accuracy: 0.4800\n",
            "Epoch 9/200\n",
            "32/32 [==============================] - 0s 1ms/step - loss: 0.6940 - accuracy: 0.4830\n",
            "Epoch 10/200\n",
            "32/32 [==============================] - 0s 2ms/step - loss: 0.6938 - accuracy: 0.4790\n",
            "Epoch 11/200\n",
            "32/32 [==============================] - 0s 2ms/step - loss: 0.6944 - accuracy: 0.4550\n",
            "Epoch 12/200\n",
            "32/32 [==============================] - 0s 2ms/step - loss: 0.6945 - accuracy: 0.4760\n",
            "Epoch 13/200\n",
            "32/32 [==============================] - 0s 2ms/step - loss: 0.6943 - accuracy: 0.4890\n",
            "Epoch 14/200\n",
            "32/32 [==============================] - 0s 2ms/step - loss: 0.6944 - accuracy: 0.5030\n",
            "Epoch 15/200\n",
            "32/32 [==============================] - 0s 1ms/step - loss: 0.6941 - accuracy: 0.4490\n",
            "Epoch 16/200\n",
            "32/32 [==============================] - 0s 1ms/step - loss: 0.6944 - accuracy: 0.4890\n",
            "Epoch 17/200\n",
            "32/32 [==============================] - 0s 2ms/step - loss: 0.6941 - accuracy: 0.4910\n",
            "Epoch 18/200\n",
            "32/32 [==============================] - 0s 2ms/step - loss: 0.6940 - accuracy: 0.4760\n",
            "Epoch 19/200\n",
            "32/32 [==============================] - 0s 1ms/step - loss: 0.6941 - accuracy: 0.4820\n",
            "Epoch 20/200\n",
            "32/32 [==============================] - 0s 2ms/step - loss: 0.6941 - accuracy: 0.4550\n",
            "Epoch 21/200\n",
            "32/32 [==============================] - 0s 2ms/step - loss: 0.6939 - accuracy: 0.4900\n",
            "Epoch 22/200\n",
            "32/32 [==============================] - 0s 1ms/step - loss: 0.6942 - accuracy: 0.4690\n",
            "Epoch 23/200\n",
            "32/32 [==============================] - 0s 2ms/step - loss: 0.6940 - accuracy: 0.4840\n",
            "Epoch 24/200\n",
            "32/32 [==============================] - 0s 1ms/step - loss: 0.6942 - accuracy: 0.4680\n",
            "Epoch 25/200\n",
            "32/32 [==============================] - 0s 2ms/step - loss: 0.6939 - accuracy: 0.4890\n",
            "Epoch 26/200\n",
            "32/32 [==============================] - 0s 1ms/step - loss: 0.6943 - accuracy: 0.4740\n",
            "Epoch 27/200\n",
            "32/32 [==============================] - 0s 2ms/step - loss: 0.6938 - accuracy: 0.5060\n",
            "Epoch 28/200\n",
            "32/32 [==============================] - 0s 2ms/step - loss: 0.6943 - accuracy: 0.4690\n",
            "Epoch 29/200\n",
            "32/32 [==============================] - 0s 1ms/step - loss: 0.6942 - accuracy: 0.4620\n",
            "Epoch 30/200\n",
            "32/32 [==============================] - 0s 2ms/step - loss: 0.6941 - accuracy: 0.4870\n",
            "Epoch 31/200\n",
            "32/32 [==============================] - 0s 1ms/step - loss: 0.6942 - accuracy: 0.5230\n",
            "Epoch 32/200\n",
            "32/32 [==============================] - 0s 3ms/step - loss: 0.6941 - accuracy: 0.4670\n",
            "Epoch 33/200\n",
            "32/32 [==============================] - 0s 2ms/step - loss: 0.6942 - accuracy: 0.4760\n",
            "Epoch 34/200\n",
            "32/32 [==============================] - 0s 2ms/step - loss: 0.6946 - accuracy: 0.4590\n",
            "Epoch 35/200\n",
            "32/32 [==============================] - 0s 1ms/step - loss: 0.6941 - accuracy: 0.5010\n",
            "Epoch 36/200\n",
            "32/32 [==============================] - 0s 1ms/step - loss: 0.6943 - accuracy: 0.4710\n",
            "Epoch 37/200\n",
            "32/32 [==============================] - 0s 2ms/step - loss: 0.6940 - accuracy: 0.5020\n",
            "Epoch 38/200\n",
            "32/32 [==============================] - 0s 1ms/step - loss: 0.6940 - accuracy: 0.4670\n",
            "Epoch 39/200\n",
            "32/32 [==============================] - 0s 2ms/step - loss: 0.6941 - accuracy: 0.4350\n",
            "Epoch 40/200\n",
            "32/32 [==============================] - 0s 2ms/step - loss: 0.6948 - accuracy: 0.4720\n",
            "Epoch 41/200\n",
            "32/32 [==============================] - 0s 2ms/step - loss: 0.6941 - accuracy: 0.4730\n",
            "Epoch 42/200\n",
            "32/32 [==============================] - 0s 2ms/step - loss: 0.6941 - accuracy: 0.4640\n",
            "Epoch 43/200\n",
            "32/32 [==============================] - 0s 2ms/step - loss: 0.6942 - accuracy: 0.4850\n",
            "Epoch 44/200\n",
            "32/32 [==============================] - 0s 2ms/step - loss: 0.6935 - accuracy: 0.5080\n",
            "Epoch 45/200\n",
            "32/32 [==============================] - 0s 2ms/step - loss: 0.6944 - accuracy: 0.4710\n",
            "Epoch 46/200\n",
            "32/32 [==============================] - 0s 2ms/step - loss: 0.6942 - accuracy: 0.4850\n",
            "Epoch 47/200\n",
            "32/32 [==============================] - 0s 2ms/step - loss: 0.6939 - accuracy: 0.4940\n",
            "Epoch 48/200\n",
            "32/32 [==============================] - 0s 2ms/step - loss: 0.6939 - accuracy: 0.4900\n",
            "Epoch 49/200\n",
            "32/32 [==============================] - 0s 1ms/step - loss: 0.6941 - accuracy: 0.4770\n",
            "Epoch 50/200\n",
            "32/32 [==============================] - 0s 2ms/step - loss: 0.6941 - accuracy: 0.4980\n",
            "Epoch 51/200\n",
            "32/32 [==============================] - 0s 2ms/step - loss: 0.6942 - accuracy: 0.4820\n",
            "Epoch 52/200\n",
            "32/32 [==============================] - 0s 2ms/step - loss: 0.6941 - accuracy: 0.4890\n",
            "Epoch 53/200\n",
            "32/32 [==============================] - 0s 2ms/step - loss: 0.6939 - accuracy: 0.4690\n",
            "Epoch 54/200\n",
            "32/32 [==============================] - 0s 2ms/step - loss: 0.6943 - accuracy: 0.4920\n",
            "Epoch 55/200\n",
            "32/32 [==============================] - 0s 2ms/step - loss: 0.6942 - accuracy: 0.4970\n",
            "Epoch 56/200\n",
            "32/32 [==============================] - 0s 2ms/step - loss: 0.6940 - accuracy: 0.4800\n",
            "Epoch 57/200\n",
            "32/32 [==============================] - 0s 2ms/step - loss: 0.6944 - accuracy: 0.4710\n",
            "Epoch 58/200\n",
            "32/32 [==============================] - 0s 2ms/step - loss: 0.6942 - accuracy: 0.4870\n",
            "Epoch 59/200\n",
            "32/32 [==============================] - 0s 2ms/step - loss: 0.6939 - accuracy: 0.5030\n",
            "Epoch 60/200\n",
            "32/32 [==============================] - 0s 2ms/step - loss: 0.6942 - accuracy: 0.5060\n",
            "Epoch 61/200\n",
            "32/32 [==============================] - 0s 1ms/step - loss: 0.6944 - accuracy: 0.4990\n",
            "Epoch 62/200\n",
            "32/32 [==============================] - 0s 2ms/step - loss: 0.6941 - accuracy: 0.4760\n",
            "Epoch 63/200\n",
            "32/32 [==============================] - 0s 1ms/step - loss: 0.6940 - accuracy: 0.4690\n",
            "Epoch 64/200\n",
            "32/32 [==============================] - 0s 2ms/step - loss: 0.6942 - accuracy: 0.4930\n",
            "Epoch 65/200\n",
            "32/32 [==============================] - 0s 2ms/step - loss: 0.6943 - accuracy: 0.4690\n",
            "Epoch 66/200\n",
            "32/32 [==============================] - 0s 2ms/step - loss: 0.6940 - accuracy: 0.4770\n",
            "Epoch 67/200\n",
            "32/32 [==============================] - 0s 2ms/step - loss: 0.6945 - accuracy: 0.4670\n",
            "Epoch 68/200\n",
            "32/32 [==============================] - 0s 2ms/step - loss: 0.6939 - accuracy: 0.4680\n",
            "Epoch 69/200\n",
            "32/32 [==============================] - 0s 2ms/step - loss: 0.6943 - accuracy: 0.5070\n",
            "Epoch 70/200\n",
            "32/32 [==============================] - 0s 2ms/step - loss: 0.6943 - accuracy: 0.4630\n",
            "Epoch 71/200\n",
            "32/32 [==============================] - 0s 1ms/step - loss: 0.6939 - accuracy: 0.4820\n",
            "Epoch 72/200\n",
            "32/32 [==============================] - 0s 2ms/step - loss: 0.6942 - accuracy: 0.4890\n",
            "Epoch 73/200\n",
            "32/32 [==============================] - 0s 2ms/step - loss: 0.6941 - accuracy: 0.4760\n",
            "Epoch 74/200\n",
            "32/32 [==============================] - 0s 2ms/step - loss: 0.6940 - accuracy: 0.5090\n",
            "Epoch 75/200\n",
            "32/32 [==============================] - 0s 2ms/step - loss: 0.6941 - accuracy: 0.4940\n",
            "Epoch 76/200\n",
            "32/32 [==============================] - 0s 2ms/step - loss: 0.6940 - accuracy: 0.5010\n",
            "Epoch 77/200\n",
            "32/32 [==============================] - 0s 2ms/step - loss: 0.6942 - accuracy: 0.4870\n",
            "Epoch 78/200\n",
            "32/32 [==============================] - 0s 2ms/step - loss: 0.6941 - accuracy: 0.4610\n",
            "Epoch 79/200\n",
            "32/32 [==============================] - 0s 2ms/step - loss: 0.6940 - accuracy: 0.4860\n",
            "Epoch 80/200\n",
            "32/32 [==============================] - 0s 2ms/step - loss: 0.6943 - accuracy: 0.5050\n",
            "Epoch 81/200\n",
            "32/32 [==============================] - 0s 2ms/step - loss: 0.6943 - accuracy: 0.5050\n",
            "Epoch 82/200\n",
            "32/32 [==============================] - 0s 2ms/step - loss: 0.6941 - accuracy: 0.4690\n",
            "Epoch 83/200\n",
            "32/32 [==============================] - 0s 2ms/step - loss: 0.6941 - accuracy: 0.4930\n",
            "Epoch 84/200\n",
            "32/32 [==============================] - 0s 1ms/step - loss: 0.6942 - accuracy: 0.4960\n",
            "Epoch 85/200\n",
            "32/32 [==============================] - 0s 2ms/step - loss: 0.6939 - accuracy: 0.4930\n",
            "Epoch 86/200\n",
            "32/32 [==============================] - 0s 1ms/step - loss: 0.6940 - accuracy: 0.4880\n",
            "Epoch 87/200\n",
            "32/32 [==============================] - 0s 2ms/step - loss: 0.6942 - accuracy: 0.4720\n",
            "Epoch 88/200\n",
            "32/32 [==============================] - 0s 2ms/step - loss: 0.6944 - accuracy: 0.4470\n",
            "Epoch 89/200\n",
            "32/32 [==============================] - 0s 2ms/step - loss: 0.6945 - accuracy: 0.4720\n",
            "Epoch 90/200\n",
            "32/32 [==============================] - 0s 2ms/step - loss: 0.6941 - accuracy: 0.4820\n",
            "Epoch 91/200\n",
            "32/32 [==============================] - 0s 2ms/step - loss: 0.6944 - accuracy: 0.4860\n",
            "Epoch 92/200\n",
            "32/32 [==============================] - 0s 1ms/step - loss: 0.6941 - accuracy: 0.5050\n",
            "Epoch 93/200\n",
            "32/32 [==============================] - 0s 1ms/step - loss: 0.6941 - accuracy: 0.4720\n",
            "Epoch 94/200\n",
            "32/32 [==============================] - 0s 2ms/step - loss: 0.6946 - accuracy: 0.4770\n",
            "Epoch 95/200\n",
            "32/32 [==============================] - 0s 2ms/step - loss: 0.6940 - accuracy: 0.4760\n",
            "Epoch 96/200\n",
            "32/32 [==============================] - 0s 2ms/step - loss: 0.6945 - accuracy: 0.4610\n",
            "Epoch 97/200\n",
            "32/32 [==============================] - 0s 1ms/step - loss: 0.6942 - accuracy: 0.4690\n",
            "Epoch 98/200\n",
            "32/32 [==============================] - 0s 2ms/step - loss: 0.6942 - accuracy: 0.4840\n",
            "Epoch 99/200\n",
            "32/32 [==============================] - 0s 2ms/step - loss: 0.6944 - accuracy: 0.4980\n",
            "Epoch 100/200\n",
            "32/32 [==============================] - 0s 2ms/step - loss: 0.6943 - accuracy: 0.4850\n",
            "Epoch 101/200\n",
            "32/32 [==============================] - 0s 1ms/step - loss: 0.6939 - accuracy: 0.5060\n",
            "Epoch 102/200\n",
            "32/32 [==============================] - 0s 2ms/step - loss: 0.6946 - accuracy: 0.4750\n",
            "Epoch 103/200\n",
            "32/32 [==============================] - 0s 2ms/step - loss: 0.6944 - accuracy: 0.4760\n",
            "Epoch 104/200\n",
            "32/32 [==============================] - 0s 2ms/step - loss: 0.6941 - accuracy: 0.4900\n",
            "Epoch 105/200\n",
            "32/32 [==============================] - 0s 2ms/step - loss: 0.6939 - accuracy: 0.4960\n",
            "Epoch 106/200\n",
            "32/32 [==============================] - 0s 2ms/step - loss: 0.6940 - accuracy: 0.4950\n",
            "Epoch 107/200\n",
            "32/32 [==============================] - 0s 2ms/step - loss: 0.6938 - accuracy: 0.4690\n",
            "Epoch 108/200\n",
            "32/32 [==============================] - 0s 2ms/step - loss: 0.6943 - accuracy: 0.4940\n",
            "Epoch 109/200\n",
            "32/32 [==============================] - 0s 2ms/step - loss: 0.6942 - accuracy: 0.4510\n",
            "Epoch 110/200\n",
            "32/32 [==============================] - 0s 2ms/step - loss: 0.6944 - accuracy: 0.4570\n",
            "Epoch 111/200\n",
            "32/32 [==============================] - 0s 2ms/step - loss: 0.6943 - accuracy: 0.4820\n",
            "Epoch 112/200\n",
            "32/32 [==============================] - 0s 2ms/step - loss: 0.6946 - accuracy: 0.4770\n",
            "Epoch 113/200\n",
            "32/32 [==============================] - 0s 2ms/step - loss: 0.6944 - accuracy: 0.4740\n",
            "Epoch 114/200\n",
            "32/32 [==============================] - 0s 2ms/step - loss: 0.6944 - accuracy: 0.4660\n",
            "Epoch 115/200\n",
            "32/32 [==============================] - 0s 2ms/step - loss: 0.6941 - accuracy: 0.4690\n",
            "Epoch 116/200\n",
            "32/32 [==============================] - 0s 2ms/step - loss: 0.6942 - accuracy: 0.4830\n",
            "Epoch 117/200\n",
            "32/32 [==============================] - 0s 2ms/step - loss: 0.6943 - accuracy: 0.5000\n",
            "Epoch 118/200\n",
            "32/32 [==============================] - 0s 2ms/step - loss: 0.6939 - accuracy: 0.4990\n",
            "Epoch 119/200\n",
            "32/32 [==============================] - 0s 2ms/step - loss: 0.6944 - accuracy: 0.4750\n",
            "Epoch 120/200\n",
            "32/32 [==============================] - 0s 1ms/step - loss: 0.6940 - accuracy: 0.4980\n",
            "Epoch 121/200\n",
            "32/32 [==============================] - 0s 2ms/step - loss: 0.6942 - accuracy: 0.4740\n",
            "Epoch 122/200\n",
            "32/32 [==============================] - 0s 2ms/step - loss: 0.6941 - accuracy: 0.4920\n",
            "Epoch 123/200\n",
            "32/32 [==============================] - 0s 2ms/step - loss: 0.6944 - accuracy: 0.4640\n",
            "Epoch 124/200\n",
            "32/32 [==============================] - 0s 2ms/step - loss: 0.6943 - accuracy: 0.4660\n",
            "Epoch 125/200\n",
            "32/32 [==============================] - 0s 2ms/step - loss: 0.6940 - accuracy: 0.4800\n",
            "Epoch 126/200\n",
            "32/32 [==============================] - 0s 2ms/step - loss: 0.6941 - accuracy: 0.4960\n",
            "Epoch 127/200\n",
            "32/32 [==============================] - 0s 2ms/step - loss: 0.6942 - accuracy: 0.4760\n",
            "Epoch 128/200\n",
            "32/32 [==============================] - 0s 2ms/step - loss: 0.6943 - accuracy: 0.4920\n",
            "Epoch 129/200\n",
            "32/32 [==============================] - 0s 2ms/step - loss: 0.6939 - accuracy: 0.5100\n",
            "Epoch 130/200\n",
            "32/32 [==============================] - 0s 2ms/step - loss: 0.6936 - accuracy: 0.4840\n",
            "Epoch 131/200\n",
            "32/32 [==============================] - 0s 2ms/step - loss: 0.6944 - accuracy: 0.4780\n",
            "Epoch 132/200\n",
            "32/32 [==============================] - 0s 2ms/step - loss: 0.6939 - accuracy: 0.4760\n",
            "Epoch 133/200\n",
            "32/32 [==============================] - 0s 1ms/step - loss: 0.6942 - accuracy: 0.4800\n",
            "Epoch 134/200\n",
            "32/32 [==============================] - 0s 2ms/step - loss: 0.6944 - accuracy: 0.4740\n",
            "Epoch 135/200\n",
            "32/32 [==============================] - 0s 1ms/step - loss: 0.6943 - accuracy: 0.4670\n",
            "Epoch 136/200\n",
            "32/32 [==============================] - 0s 2ms/step - loss: 0.6944 - accuracy: 0.4590\n",
            "Epoch 137/200\n",
            "32/32 [==============================] - 0s 1ms/step - loss: 0.6943 - accuracy: 0.4840\n",
            "Epoch 138/200\n",
            "32/32 [==============================] - 0s 2ms/step - loss: 0.6943 - accuracy: 0.4610\n",
            "Epoch 139/200\n",
            "32/32 [==============================] - 0s 2ms/step - loss: 0.6942 - accuracy: 0.4810\n",
            "Epoch 140/200\n",
            "32/32 [==============================] - 0s 2ms/step - loss: 0.6942 - accuracy: 0.4610\n",
            "Epoch 141/200\n",
            "32/32 [==============================] - 0s 2ms/step - loss: 0.6941 - accuracy: 0.4630\n",
            "Epoch 142/200\n",
            "32/32 [==============================] - 0s 2ms/step - loss: 0.6941 - accuracy: 0.4790\n",
            "Epoch 143/200\n",
            "32/32 [==============================] - 0s 2ms/step - loss: 0.6943 - accuracy: 0.4790\n",
            "Epoch 144/200\n",
            "32/32 [==============================] - 0s 2ms/step - loss: 0.6943 - accuracy: 0.4650\n",
            "Epoch 145/200\n",
            "32/32 [==============================] - 0s 2ms/step - loss: 0.6943 - accuracy: 0.4990\n",
            "Epoch 146/200\n",
            "32/32 [==============================] - 0s 2ms/step - loss: 0.6945 - accuracy: 0.4570\n",
            "Epoch 147/200\n",
            "32/32 [==============================] - 0s 2ms/step - loss: 0.6943 - accuracy: 0.5110\n",
            "Epoch 148/200\n",
            "32/32 [==============================] - 0s 2ms/step - loss: 0.6943 - accuracy: 0.4880\n",
            "Epoch 149/200\n",
            "32/32 [==============================] - 0s 2ms/step - loss: 0.6941 - accuracy: 0.4500\n",
            "Epoch 150/200\n",
            "32/32 [==============================] - 0s 2ms/step - loss: 0.6943 - accuracy: 0.4700\n",
            "Epoch 151/200\n",
            "32/32 [==============================] - 0s 2ms/step - loss: 0.6938 - accuracy: 0.4620\n",
            "Epoch 152/200\n",
            "32/32 [==============================] - 0s 2ms/step - loss: 0.6940 - accuracy: 0.4990\n",
            "Epoch 153/200\n",
            "32/32 [==============================] - 0s 2ms/step - loss: 0.6942 - accuracy: 0.4870\n",
            "Epoch 154/200\n",
            "32/32 [==============================] - 0s 2ms/step - loss: 0.6936 - accuracy: 0.4810\n",
            "Epoch 155/200\n",
            "32/32 [==============================] - 0s 2ms/step - loss: 0.6944 - accuracy: 0.4780\n",
            "Epoch 156/200\n",
            "32/32 [==============================] - 0s 1ms/step - loss: 0.6944 - accuracy: 0.4680\n",
            "Epoch 157/200\n",
            "32/32 [==============================] - 0s 2ms/step - loss: 0.6944 - accuracy: 0.4990\n",
            "Epoch 158/200\n",
            "32/32 [==============================] - 0s 2ms/step - loss: 0.6940 - accuracy: 0.4940\n",
            "Epoch 159/200\n",
            "32/32 [==============================] - 0s 2ms/step - loss: 0.6943 - accuracy: 0.4710\n",
            "Epoch 160/200\n",
            "32/32 [==============================] - 0s 2ms/step - loss: 0.6943 - accuracy: 0.4880\n",
            "Epoch 161/200\n",
            "32/32 [==============================] - 0s 2ms/step - loss: 0.6942 - accuracy: 0.4770\n",
            "Epoch 162/200\n",
            "32/32 [==============================] - 0s 2ms/step - loss: 0.6943 - accuracy: 0.4920\n",
            "Epoch 163/200\n",
            "32/32 [==============================] - 0s 2ms/step - loss: 0.6946 - accuracy: 0.4690\n",
            "Epoch 164/200\n",
            "32/32 [==============================] - 0s 2ms/step - loss: 0.6943 - accuracy: 0.4610\n",
            "Epoch 165/200\n",
            "32/32 [==============================] - 0s 2ms/step - loss: 0.6939 - accuracy: 0.4970\n",
            "Epoch 166/200\n",
            "32/32 [==============================] - 0s 2ms/step - loss: 0.6942 - accuracy: 0.4800\n",
            "Epoch 167/200\n",
            "32/32 [==============================] - 0s 2ms/step - loss: 0.6948 - accuracy: 0.4930\n",
            "Epoch 168/200\n",
            "32/32 [==============================] - 0s 2ms/step - loss: 0.6941 - accuracy: 0.4690\n",
            "Epoch 169/200\n",
            "32/32 [==============================] - 0s 2ms/step - loss: 0.6940 - accuracy: 0.4880\n",
            "Epoch 170/200\n",
            "32/32 [==============================] - 0s 1ms/step - loss: 0.6938 - accuracy: 0.4850\n",
            "Epoch 171/200\n",
            "32/32 [==============================] - 0s 2ms/step - loss: 0.6939 - accuracy: 0.4980\n",
            "Epoch 172/200\n",
            "32/32 [==============================] - 0s 2ms/step - loss: 0.6942 - accuracy: 0.4770\n",
            "Epoch 173/200\n",
            "32/32 [==============================] - 0s 2ms/step - loss: 0.6942 - accuracy: 0.4730\n",
            "Epoch 174/200\n",
            "32/32 [==============================] - 0s 2ms/step - loss: 0.6943 - accuracy: 0.4950\n",
            "Epoch 175/200\n",
            "32/32 [==============================] - 0s 2ms/step - loss: 0.6946 - accuracy: 0.4900\n",
            "Epoch 176/200\n",
            "32/32 [==============================] - 0s 2ms/step - loss: 0.6942 - accuracy: 0.4770\n",
            "Epoch 177/200\n",
            "32/32 [==============================] - 0s 2ms/step - loss: 0.6941 - accuracy: 0.4670\n",
            "Epoch 178/200\n",
            "32/32 [==============================] - 0s 2ms/step - loss: 0.6941 - accuracy: 0.4840\n",
            "Epoch 179/200\n",
            "32/32 [==============================] - 0s 2ms/step - loss: 0.6943 - accuracy: 0.4880\n",
            "Epoch 180/200\n",
            "32/32 [==============================] - 0s 2ms/step - loss: 0.6942 - accuracy: 0.4960\n",
            "Epoch 181/200\n",
            "32/32 [==============================] - 0s 2ms/step - loss: 0.6943 - accuracy: 0.4890\n",
            "Epoch 182/200\n",
            "32/32 [==============================] - 0s 1ms/step - loss: 0.6941 - accuracy: 0.4760\n",
            "Epoch 183/200\n",
            "32/32 [==============================] - 0s 2ms/step - loss: 0.6942 - accuracy: 0.5030\n",
            "Epoch 184/200\n",
            "32/32 [==============================] - 0s 2ms/step - loss: 0.6943 - accuracy: 0.4890\n",
            "Epoch 185/200\n",
            "32/32 [==============================] - 0s 2ms/step - loss: 0.6944 - accuracy: 0.4890\n",
            "Epoch 186/200\n",
            "32/32 [==============================] - 0s 2ms/step - loss: 0.6945 - accuracy: 0.4810\n",
            "Epoch 187/200\n",
            "32/32 [==============================] - 0s 2ms/step - loss: 0.6943 - accuracy: 0.4760\n",
            "Epoch 188/200\n",
            "32/32 [==============================] - 0s 2ms/step - loss: 0.6943 - accuracy: 0.4910\n",
            "Epoch 189/200\n",
            "32/32 [==============================] - 0s 2ms/step - loss: 0.6940 - accuracy: 0.5120\n",
            "Epoch 190/200\n",
            "32/32 [==============================] - 0s 2ms/step - loss: 0.6943 - accuracy: 0.4720\n",
            "Epoch 191/200\n",
            "32/32 [==============================] - 0s 2ms/step - loss: 0.6941 - accuracy: 0.4770\n",
            "Epoch 192/200\n",
            "32/32 [==============================] - 0s 2ms/step - loss: 0.6940 - accuracy: 0.4970\n",
            "Epoch 193/200\n",
            "32/32 [==============================] - 0s 1ms/step - loss: 0.6939 - accuracy: 0.4720\n",
            "Epoch 194/200\n",
            "32/32 [==============================] - 0s 2ms/step - loss: 0.6941 - accuracy: 0.4940\n",
            "Epoch 195/200\n",
            "32/32 [==============================] - 0s 2ms/step - loss: 0.6942 - accuracy: 0.4660\n",
            "Epoch 196/200\n",
            "32/32 [==============================] - 0s 2ms/step - loss: 0.6943 - accuracy: 0.4740\n",
            "Epoch 197/200\n",
            "32/32 [==============================] - 0s 2ms/step - loss: 0.6942 - accuracy: 0.4890\n",
            "Epoch 198/200\n",
            "32/32 [==============================] - 0s 2ms/step - loss: 0.6943 - accuracy: 0.4830\n",
            "Epoch 199/200\n",
            "32/32 [==============================] - 0s 2ms/step - loss: 0.6937 - accuracy: 0.5120\n",
            "Epoch 200/200\n",
            "32/32 [==============================] - 0s 2ms/step - loss: 0.6941 - accuracy: 0.4810\n"
          ]
        },
        {
          "output_type": "execute_result",
          "data": {
            "text/plain": [
              "<keras.callbacks.History at 0x7f76d68f6290>"
            ]
          },
          "metadata": {},
          "execution_count": 70
        }
      ]
    },
    {
      "cell_type": "code",
      "source": [
        "model_1.evaluate(X,y)"
      ],
      "metadata": {
        "colab": {
          "base_uri": "https://localhost:8080/"
        },
        "id": "ivlPBJun_76t",
        "outputId": "0d164925-45c2-4845-b8b0-7140ed08db58"
      },
      "execution_count": 71,
      "outputs": [
        {
          "output_type": "stream",
          "name": "stdout",
          "text": [
            "32/32 [==============================] - 0s 1ms/step - loss: 0.6935 - accuracy: 0.5000\n"
          ]
        },
        {
          "output_type": "execute_result",
          "data": {
            "text/plain": [
              "[0.6934829950332642, 0.5]"
            ]
          },
          "metadata": {},
          "execution_count": 71
        }
      ]
    },
    {
      "cell_type": "code",
      "source": [
        "tf.random.set_seed(42)\n",
        "\n",
        "#Create the model using the Sequential API \n",
        "\n",
        "model_2=tf.keras.Sequential([\n",
        "                             tf.keras.layers.Dense(1),\n",
        "                             tf.keras.layers.Dense(1)\n",
        "])\n",
        "\n",
        "#Compile the Model\n",
        "\n",
        "model_2.compile(loss=tf.keras.losses.BinaryCrossentropy(),\n",
        "                optimizer=tf.keras.optimizers.SGD(),\n",
        "                metrics=[\"accuracy\"])\n",
        "\n",
        "#Fit the Model \n",
        "model_2.fit(X,y,epochs=100)"
      ],
      "metadata": {
        "colab": {
          "base_uri": "https://localhost:8080/"
        },
        "id": "X4SsjqIsAI_g",
        "outputId": "fc08912e-23c4-4cd6-c316-d73d825bf0b5"
      },
      "execution_count": 72,
      "outputs": [
        {
          "output_type": "stream",
          "name": "stdout",
          "text": [
            "Epoch 1/100\n",
            "32/32 [==============================] - 1s 1ms/step - loss: 1.8044 - accuracy: 0.5090\n",
            "Epoch 2/100\n",
            "32/32 [==============================] - 0s 2ms/step - loss: 0.7235 - accuracy: 0.5030\n",
            "Epoch 3/100\n",
            "32/32 [==============================] - 0s 2ms/step - loss: 0.7145 - accuracy: 0.4950\n",
            "Epoch 4/100\n",
            "32/32 [==============================] - 0s 2ms/step - loss: 0.7078 - accuracy: 0.5010\n",
            "Epoch 5/100\n",
            "32/32 [==============================] - 0s 2ms/step - loss: 0.7037 - accuracy: 0.5010\n",
            "Epoch 6/100\n",
            "32/32 [==============================] - 0s 2ms/step - loss: 0.7008 - accuracy: 0.4960\n",
            "Epoch 7/100\n",
            "32/32 [==============================] - 0s 2ms/step - loss: 0.7001 - accuracy: 0.4990\n",
            "Epoch 8/100\n",
            "32/32 [==============================] - 0s 2ms/step - loss: 0.6984 - accuracy: 0.4980\n",
            "Epoch 9/100\n",
            "32/32 [==============================] - 0s 2ms/step - loss: 0.6973 - accuracy: 0.4960\n",
            "Epoch 10/100\n",
            "32/32 [==============================] - 0s 2ms/step - loss: 0.6962 - accuracy: 0.4920\n",
            "Epoch 11/100\n",
            "32/32 [==============================] - 0s 2ms/step - loss: 0.6962 - accuracy: 0.4950\n",
            "Epoch 12/100\n",
            "32/32 [==============================] - 0s 2ms/step - loss: 0.6961 - accuracy: 0.4980\n",
            "Epoch 13/100\n",
            "32/32 [==============================] - 0s 2ms/step - loss: 0.6955 - accuracy: 0.4930\n",
            "Epoch 14/100\n",
            "32/32 [==============================] - 0s 2ms/step - loss: 0.6954 - accuracy: 0.4980\n",
            "Epoch 15/100\n",
            "32/32 [==============================] - 0s 2ms/step - loss: 0.6947 - accuracy: 0.4900\n",
            "Epoch 16/100\n",
            "32/32 [==============================] - 0s 2ms/step - loss: 0.6950 - accuracy: 0.5010\n",
            "Epoch 17/100\n",
            "32/32 [==============================] - 0s 2ms/step - loss: 0.6944 - accuracy: 0.5190\n",
            "Epoch 18/100\n",
            "32/32 [==============================] - 0s 2ms/step - loss: 0.6944 - accuracy: 0.4820\n",
            "Epoch 19/100\n",
            "32/32 [==============================] - 0s 2ms/step - loss: 0.6943 - accuracy: 0.5120\n",
            "Epoch 20/100\n",
            "32/32 [==============================] - 0s 1ms/step - loss: 0.6942 - accuracy: 0.5060\n",
            "Epoch 21/100\n",
            "32/32 [==============================] - 0s 2ms/step - loss: 0.6939 - accuracy: 0.5060\n",
            "Epoch 22/100\n",
            "32/32 [==============================] - 0s 1ms/step - loss: 0.6943 - accuracy: 0.4630\n",
            "Epoch 23/100\n",
            "32/32 [==============================] - 0s 2ms/step - loss: 0.6940 - accuracy: 0.5130\n",
            "Epoch 24/100\n",
            "32/32 [==============================] - 0s 1ms/step - loss: 0.6942 - accuracy: 0.4710\n",
            "Epoch 25/100\n",
            "32/32 [==============================] - 0s 2ms/step - loss: 0.6938 - accuracy: 0.4730\n",
            "Epoch 26/100\n",
            "32/32 [==============================] - 0s 2ms/step - loss: 0.6941 - accuracy: 0.4920\n",
            "Epoch 27/100\n",
            "32/32 [==============================] - 0s 2ms/step - loss: 0.6934 - accuracy: 0.5080\n",
            "Epoch 28/100\n",
            "32/32 [==============================] - 0s 2ms/step - loss: 0.6942 - accuracy: 0.4510\n",
            "Epoch 29/100\n",
            "32/32 [==============================] - 0s 2ms/step - loss: 0.6940 - accuracy: 0.4830\n",
            "Epoch 30/100\n",
            "32/32 [==============================] - 0s 2ms/step - loss: 0.6938 - accuracy: 0.4940\n",
            "Epoch 31/100\n",
            "32/32 [==============================] - 0s 2ms/step - loss: 0.6939 - accuracy: 0.5340\n",
            "Epoch 32/100\n",
            "32/32 [==============================] - 0s 2ms/step - loss: 0.6940 - accuracy: 0.4940\n",
            "Epoch 33/100\n",
            "32/32 [==============================] - 0s 2ms/step - loss: 0.6939 - accuracy: 0.4750\n",
            "Epoch 34/100\n",
            "32/32 [==============================] - 0s 1ms/step - loss: 0.6944 - accuracy: 0.4910\n",
            "Epoch 35/100\n",
            "32/32 [==============================] - 0s 2ms/step - loss: 0.6938 - accuracy: 0.5150\n",
            "Epoch 36/100\n",
            "32/32 [==============================] - 0s 2ms/step - loss: 0.6942 - accuracy: 0.4680\n",
            "Epoch 37/100\n",
            "32/32 [==============================] - 0s 2ms/step - loss: 0.6937 - accuracy: 0.5160\n",
            "Epoch 38/100\n",
            "32/32 [==============================] - 0s 2ms/step - loss: 0.6938 - accuracy: 0.4900\n",
            "Epoch 39/100\n",
            "32/32 [==============================] - 0s 2ms/step - loss: 0.6937 - accuracy: 0.4890\n",
            "Epoch 40/100\n",
            "32/32 [==============================] - 0s 1ms/step - loss: 0.6947 - accuracy: 0.4640\n",
            "Epoch 41/100\n",
            "32/32 [==============================] - 0s 2ms/step - loss: 0.6938 - accuracy: 0.4900\n",
            "Epoch 42/100\n",
            "32/32 [==============================] - 0s 2ms/step - loss: 0.6939 - accuracy: 0.4990\n",
            "Epoch 43/100\n",
            "32/32 [==============================] - 0s 2ms/step - loss: 0.6939 - accuracy: 0.4860\n",
            "Epoch 44/100\n",
            "32/32 [==============================] - 0s 2ms/step - loss: 0.6932 - accuracy: 0.5130\n",
            "Epoch 45/100\n",
            "32/32 [==============================] - 0s 1ms/step - loss: 0.6942 - accuracy: 0.4890\n",
            "Epoch 46/100\n",
            "32/32 [==============================] - 0s 2ms/step - loss: 0.6939 - accuracy: 0.4900\n",
            "Epoch 47/100\n",
            "32/32 [==============================] - 0s 2ms/step - loss: 0.6935 - accuracy: 0.5090\n",
            "Epoch 48/100\n",
            "32/32 [==============================] - 0s 2ms/step - loss: 0.6937 - accuracy: 0.4930\n",
            "Epoch 49/100\n",
            "32/32 [==============================] - 0s 1ms/step - loss: 0.6939 - accuracy: 0.4830\n",
            "Epoch 50/100\n",
            "32/32 [==============================] - 0s 2ms/step - loss: 0.6938 - accuracy: 0.5000\n",
            "Epoch 51/100\n",
            "32/32 [==============================] - 0s 2ms/step - loss: 0.6939 - accuracy: 0.4960\n",
            "Epoch 52/100\n",
            "32/32 [==============================] - 0s 2ms/step - loss: 0.6938 - accuracy: 0.4980\n",
            "Epoch 53/100\n",
            "32/32 [==============================] - 0s 2ms/step - loss: 0.6938 - accuracy: 0.4720\n",
            "Epoch 54/100\n",
            "32/32 [==============================] - 0s 2ms/step - loss: 0.6940 - accuracy: 0.4910\n",
            "Epoch 55/100\n",
            "32/32 [==============================] - 0s 2ms/step - loss: 0.6939 - accuracy: 0.4970\n",
            "Epoch 56/100\n",
            "32/32 [==============================] - 0s 2ms/step - loss: 0.6938 - accuracy: 0.4870\n",
            "Epoch 57/100\n",
            "32/32 [==============================] - 0s 2ms/step - loss: 0.6940 - accuracy: 0.4870\n",
            "Epoch 58/100\n",
            "32/32 [==============================] - 0s 2ms/step - loss: 0.6940 - accuracy: 0.4870\n",
            "Epoch 59/100\n",
            "32/32 [==============================] - 0s 2ms/step - loss: 0.6934 - accuracy: 0.5130\n",
            "Epoch 60/100\n",
            "32/32 [==============================] - 0s 2ms/step - loss: 0.6938 - accuracy: 0.4920\n",
            "Epoch 61/100\n",
            "32/32 [==============================] - 0s 1ms/step - loss: 0.6942 - accuracy: 0.4950\n",
            "Epoch 62/100\n",
            "32/32 [==============================] - 0s 2ms/step - loss: 0.6937 - accuracy: 0.4950\n",
            "Epoch 63/100\n",
            "32/32 [==============================] - 0s 2ms/step - loss: 0.6939 - accuracy: 0.4860\n",
            "Epoch 64/100\n",
            "32/32 [==============================] - 0s 2ms/step - loss: 0.6939 - accuracy: 0.4810\n",
            "Epoch 65/100\n",
            "32/32 [==============================] - 0s 2ms/step - loss: 0.6939 - accuracy: 0.4980\n",
            "Epoch 66/100\n",
            "32/32 [==============================] - 0s 2ms/step - loss: 0.6938 - accuracy: 0.4910\n",
            "Epoch 67/100\n",
            "32/32 [==============================] - 0s 2ms/step - loss: 0.6944 - accuracy: 0.4950\n",
            "Epoch 68/100\n",
            "32/32 [==============================] - 0s 2ms/step - loss: 0.6936 - accuracy: 0.4960\n",
            "Epoch 69/100\n",
            "32/32 [==============================] - 0s 2ms/step - loss: 0.6940 - accuracy: 0.5000\n",
            "Epoch 70/100\n",
            "32/32 [==============================] - 0s 2ms/step - loss: 0.6940 - accuracy: 0.4780\n",
            "Epoch 71/100\n",
            "32/32 [==============================] - 0s 2ms/step - loss: 0.6936 - accuracy: 0.4970\n",
            "Epoch 72/100\n",
            "32/32 [==============================] - 0s 2ms/step - loss: 0.6940 - accuracy: 0.4800\n",
            "Epoch 73/100\n",
            "32/32 [==============================] - 0s 2ms/step - loss: 0.6937 - accuracy: 0.4840\n",
            "Epoch 74/100\n",
            "32/32 [==============================] - 0s 2ms/step - loss: 0.6937 - accuracy: 0.4900\n",
            "Epoch 75/100\n",
            "32/32 [==============================] - 0s 2ms/step - loss: 0.6938 - accuracy: 0.4940\n",
            "Epoch 76/100\n",
            "32/32 [==============================] - 0s 2ms/step - loss: 0.6937 - accuracy: 0.5040\n",
            "Epoch 77/100\n",
            "32/32 [==============================] - 0s 1ms/step - loss: 0.6941 - accuracy: 0.4910\n",
            "Epoch 78/100\n",
            "32/32 [==============================] - 0s 2ms/step - loss: 0.6938 - accuracy: 0.4860\n",
            "Epoch 79/100\n",
            "32/32 [==============================] - 0s 2ms/step - loss: 0.6937 - accuracy: 0.5020\n",
            "Epoch 80/100\n",
            "32/32 [==============================] - 0s 2ms/step - loss: 0.6941 - accuracy: 0.5000\n",
            "Epoch 81/100\n",
            "32/32 [==============================] - 0s 2ms/step - loss: 0.6941 - accuracy: 0.4820\n",
            "Epoch 82/100\n",
            "32/32 [==============================] - 0s 2ms/step - loss: 0.6937 - accuracy: 0.4920\n",
            "Epoch 83/100\n",
            "32/32 [==============================] - 0s 2ms/step - loss: 0.6938 - accuracy: 0.5120\n",
            "Epoch 84/100\n",
            "32/32 [==============================] - 0s 2ms/step - loss: 0.6941 - accuracy: 0.5000\n",
            "Epoch 85/100\n",
            "32/32 [==============================] - 0s 2ms/step - loss: 0.6936 - accuracy: 0.4830\n",
            "Epoch 86/100\n",
            "32/32 [==============================] - 0s 2ms/step - loss: 0.6937 - accuracy: 0.4830\n",
            "Epoch 87/100\n",
            "32/32 [==============================] - 0s 2ms/step - loss: 0.6940 - accuracy: 0.4880\n",
            "Epoch 88/100\n",
            "32/32 [==============================] - 0s 2ms/step - loss: 0.6941 - accuracy: 0.4860\n",
            "Epoch 89/100\n",
            "32/32 [==============================] - 0s 2ms/step - loss: 0.6943 - accuracy: 0.4910\n",
            "Epoch 90/100\n",
            "32/32 [==============================] - 0s 2ms/step - loss: 0.6939 - accuracy: 0.4960\n",
            "Epoch 91/100\n",
            "32/32 [==============================] - 0s 2ms/step - loss: 0.6941 - accuracy: 0.4970\n",
            "Epoch 92/100\n",
            "32/32 [==============================] - 0s 2ms/step - loss: 0.6939 - accuracy: 0.4910\n",
            "Epoch 93/100\n",
            "32/32 [==============================] - 0s 2ms/step - loss: 0.6938 - accuracy: 0.5040\n",
            "Epoch 94/100\n",
            "32/32 [==============================] - 0s 2ms/step - loss: 0.6944 - accuracy: 0.4750\n",
            "Epoch 95/100\n",
            "32/32 [==============================] - 0s 2ms/step - loss: 0.6936 - accuracy: 0.4840\n",
            "Epoch 96/100\n",
            "32/32 [==============================] - 0s 2ms/step - loss: 0.6942 - accuracy: 0.4690\n",
            "Epoch 97/100\n",
            "32/32 [==============================] - 0s 1ms/step - loss: 0.6939 - accuracy: 0.4970\n",
            "Epoch 98/100\n",
            "32/32 [==============================] - 0s 2ms/step - loss: 0.6938 - accuracy: 0.5000\n",
            "Epoch 99/100\n",
            "32/32 [==============================] - 0s 2ms/step - loss: 0.6943 - accuracy: 0.4980\n",
            "Epoch 100/100\n",
            "32/32 [==============================] - 0s 2ms/step - loss: 0.6941 - accuracy: 0.4690\n"
          ]
        },
        {
          "output_type": "execute_result",
          "data": {
            "text/plain": [
              "<keras.callbacks.History at 0x7f76d5a0a610>"
            ]
          },
          "metadata": {},
          "execution_count": 72
        }
      ]
    },
    {
      "cell_type": "code",
      "source": [
        "model_2.evaluate(X,y)"
      ],
      "metadata": {
        "id": "efPviqX_AXDX",
        "outputId": "5ef4a71a-574e-461c-a52d-539914a1fa65",
        "colab": {
          "base_uri": "https://localhost:8080/"
        }
      },
      "execution_count": 73,
      "outputs": [
        {
          "output_type": "stream",
          "name": "stdout",
          "text": [
            "32/32 [==============================] - 0s 1ms/step - loss: 0.6933 - accuracy: 0.5000\n"
          ]
        },
        {
          "output_type": "execute_result",
          "data": {
            "text/plain": [
              "[0.6933314800262451, 0.5]"
            ]
          },
          "metadata": {},
          "execution_count": 73
        }
      ]
    },
    {
      "cell_type": "markdown",
      "source": [
        "# **Improving the Model**"
      ],
      "metadata": {
        "id": "8A5jjzIWwjXN"
      }
    },
    {
      "cell_type": "code",
      "source": [
        "tf.random.set_seed(42)\n",
        "\n",
        "model_3=tf.keras.Sequential([\n",
        "                             tf.keras.layers.Dense(100,input_shape=(None,1)),\n",
        "                             tf.keras.layers.Dense(10),\n",
        "                             tf.keras.layers.Dense(1)\n",
        "])\n",
        "model_3.compile(loss=tf.keras.losses.BinaryCrossentropy(),\n",
        "                optimizer=tf.keras.optimizers.Adam(),\n",
        "                metrics=[\"Accuracy\"])\n",
        "\n",
        "model_3.fit(X,y,epochs=100)"
      ],
      "metadata": {
        "colab": {
          "base_uri": "https://localhost:8080/"
        },
        "id": "BxbKR8OewnTN",
        "outputId": "86e0b4a1-fd37-4ccb-a00b-18c0bfc67eac"
      },
      "execution_count": 74,
      "outputs": [
        {
          "output_type": "stream",
          "name": "stdout",
          "text": [
            "Epoch 1/100\n",
            "32/32 [==============================] - 1s 2ms/step - loss: 2.3571 - Accuracy: 0.4968\n",
            "Epoch 2/100\n",
            "32/32 [==============================] - 0s 2ms/step - loss: 0.7097 - Accuracy: 0.4915\n",
            "Epoch 3/100\n",
            "32/32 [==============================] - 0s 2ms/step - loss: 0.6941 - Accuracy: 0.5044\n",
            "Epoch 4/100\n",
            "32/32 [==============================] - 0s 2ms/step - loss: 0.6936 - Accuracy: 0.4928\n",
            "Epoch 5/100\n",
            "32/32 [==============================] - 0s 3ms/step - loss: 0.6943 - Accuracy: 0.4865\n",
            "Epoch 6/100\n",
            "32/32 [==============================] - 0s 3ms/step - loss: 0.6937 - Accuracy: 0.5131\n",
            "Epoch 7/100\n",
            "32/32 [==============================] - 0s 2ms/step - loss: 0.6955 - Accuracy: 0.4978\n",
            "Epoch 8/100\n",
            "32/32 [==============================] - 0s 3ms/step - loss: 0.6940 - Accuracy: 0.4926\n",
            "Epoch 9/100\n",
            "32/32 [==============================] - 0s 2ms/step - loss: 0.6938 - Accuracy: 0.5023\n",
            "Epoch 10/100\n",
            "32/32 [==============================] - 0s 2ms/step - loss: 0.6932 - Accuracy: 0.5089\n",
            "Epoch 11/100\n",
            "32/32 [==============================] - 0s 2ms/step - loss: 0.6956 - Accuracy: 0.4848\n",
            "Epoch 12/100\n",
            "32/32 [==============================] - 0s 2ms/step - loss: 0.6951 - Accuracy: 0.4884\n",
            "Epoch 13/100\n",
            "32/32 [==============================] - 0s 2ms/step - loss: 0.6940 - Accuracy: 0.4927\n",
            "Epoch 14/100\n",
            "32/32 [==============================] - 0s 3ms/step - loss: 0.6949 - Accuracy: 0.4935\n",
            "Epoch 15/100\n",
            "32/32 [==============================] - 0s 2ms/step - loss: 0.6937 - Accuracy: 0.5012\n",
            "Epoch 16/100\n",
            "32/32 [==============================] - 0s 2ms/step - loss: 0.6938 - Accuracy: 0.4959\n",
            "Epoch 17/100\n",
            "32/32 [==============================] - 0s 2ms/step - loss: 0.6944 - Accuracy: 0.4867\n",
            "Epoch 18/100\n",
            "32/32 [==============================] - 0s 2ms/step - loss: 0.6951 - Accuracy: 0.4980\n",
            "Epoch 19/100\n",
            "32/32 [==============================] - 0s 2ms/step - loss: 0.6958 - Accuracy: 0.5069\n",
            "Epoch 20/100\n",
            "32/32 [==============================] - 0s 3ms/step - loss: 0.6947 - Accuracy: 0.4878\n",
            "Epoch 21/100\n",
            "32/32 [==============================] - 0s 2ms/step - loss: 0.6960 - Accuracy: 0.4797\n",
            "Epoch 22/100\n",
            "32/32 [==============================] - 0s 2ms/step - loss: 0.6955 - Accuracy: 0.5000\n",
            "Epoch 23/100\n",
            "32/32 [==============================] - 0s 2ms/step - loss: 0.6939 - Accuracy: 0.4972\n",
            "Epoch 24/100\n",
            "32/32 [==============================] - 0s 2ms/step - loss: 0.6959 - Accuracy: 0.5027\n",
            "Epoch 25/100\n",
            "32/32 [==============================] - 0s 2ms/step - loss: 0.6982 - Accuracy: 0.4636\n",
            "Epoch 26/100\n",
            "32/32 [==============================] - 0s 2ms/step - loss: 0.6946 - Accuracy: 0.4851\n",
            "Epoch 27/100\n",
            "32/32 [==============================] - 0s 3ms/step - loss: 0.6937 - Accuracy: 0.5260\n",
            "Epoch 28/100\n",
            "32/32 [==============================] - 0s 2ms/step - loss: 0.6976 - Accuracy: 0.4772\n",
            "Epoch 29/100\n",
            "32/32 [==============================] - 0s 2ms/step - loss: 0.6944 - Accuracy: 0.4996\n",
            "Epoch 30/100\n",
            "32/32 [==============================] - 0s 2ms/step - loss: 0.6959 - Accuracy: 0.4904\n",
            "Epoch 31/100\n",
            "32/32 [==============================] - 0s 2ms/step - loss: 0.6948 - Accuracy: 0.4963\n",
            "Epoch 32/100\n",
            "32/32 [==============================] - 0s 3ms/step - loss: 0.6958 - Accuracy: 0.4950\n",
            "Epoch 33/100\n",
            "32/32 [==============================] - 0s 2ms/step - loss: 0.6959 - Accuracy: 0.4945\n",
            "Epoch 34/100\n",
            "32/32 [==============================] - 0s 3ms/step - loss: 0.6971 - Accuracy: 0.4730\n",
            "Epoch 35/100\n",
            "32/32 [==============================] - 0s 2ms/step - loss: 0.6959 - Accuracy: 0.4763\n",
            "Epoch 36/100\n",
            "32/32 [==============================] - 0s 3ms/step - loss: 0.6943 - Accuracy: 0.5035\n",
            "Epoch 37/100\n",
            "32/32 [==============================] - 0s 2ms/step - loss: 0.6946 - Accuracy: 0.4864\n",
            "Epoch 38/100\n",
            "32/32 [==============================] - 0s 2ms/step - loss: 0.6962 - Accuracy: 0.4933\n",
            "Epoch 39/100\n",
            "32/32 [==============================] - 0s 2ms/step - loss: 0.6945 - Accuracy: 0.4899\n",
            "Epoch 40/100\n",
            "32/32 [==============================] - 0s 2ms/step - loss: 0.6939 - Accuracy: 0.5049\n",
            "Epoch 41/100\n",
            "32/32 [==============================] - 0s 2ms/step - loss: 0.6960 - Accuracy: 0.4931\n",
            "Epoch 42/100\n",
            "32/32 [==============================] - 0s 2ms/step - loss: 0.6966 - Accuracy: 0.4580\n",
            "Epoch 43/100\n",
            "32/32 [==============================] - 0s 3ms/step - loss: 0.6949 - Accuracy: 0.4942\n",
            "Epoch 44/100\n",
            "32/32 [==============================] - 0s 3ms/step - loss: 0.6931 - Accuracy: 0.5236\n",
            "Epoch 45/100\n",
            "32/32 [==============================] - 0s 2ms/step - loss: 0.7016 - Accuracy: 0.4790\n",
            "Epoch 46/100\n",
            "32/32 [==============================] - 0s 2ms/step - loss: 0.6944 - Accuracy: 0.4880\n",
            "Epoch 47/100\n",
            "32/32 [==============================] - 0s 2ms/step - loss: 0.6959 - Accuracy: 0.4882\n",
            "Epoch 48/100\n",
            "32/32 [==============================] - 0s 2ms/step - loss: 0.7002 - Accuracy: 0.4728\n",
            "Epoch 49/100\n",
            "32/32 [==============================] - 0s 3ms/step - loss: 0.6947 - Accuracy: 0.5082\n",
            "Epoch 50/100\n",
            "32/32 [==============================] - 0s 2ms/step - loss: 0.6959 - Accuracy: 0.4872\n",
            "Epoch 51/100\n",
            "32/32 [==============================] - 0s 2ms/step - loss: 0.6976 - Accuracy: 0.4714\n",
            "Epoch 52/100\n",
            "32/32 [==============================] - 0s 3ms/step - loss: 0.6956 - Accuracy: 0.4990\n",
            "Epoch 53/100\n",
            "32/32 [==============================] - 0s 2ms/step - loss: 0.6951 - Accuracy: 0.4983\n",
            "Epoch 54/100\n",
            "32/32 [==============================] - 0s 3ms/step - loss: 0.6951 - Accuracy: 0.4903\n",
            "Epoch 55/100\n",
            "32/32 [==============================] - 0s 3ms/step - loss: 0.6958 - Accuracy: 0.5010\n",
            "Epoch 56/100\n",
            "32/32 [==============================] - 0s 3ms/step - loss: 0.6949 - Accuracy: 0.4882\n",
            "Epoch 57/100\n",
            "32/32 [==============================] - 0s 3ms/step - loss: 0.6961 - Accuracy: 0.4865\n",
            "Epoch 58/100\n",
            "32/32 [==============================] - 0s 2ms/step - loss: 0.6991 - Accuracy: 0.4942\n",
            "Epoch 59/100\n",
            "32/32 [==============================] - 0s 2ms/step - loss: 0.6997 - Accuracy: 0.4955\n",
            "Epoch 60/100\n",
            "32/32 [==============================] - 0s 3ms/step - loss: 0.6995 - Accuracy: 0.4883\n",
            "Epoch 61/100\n",
            "32/32 [==============================] - 0s 2ms/step - loss: 0.6991 - Accuracy: 0.5035\n",
            "Epoch 62/100\n",
            "32/32 [==============================] - 0s 2ms/step - loss: 0.6931 - Accuracy: 0.5100\n",
            "Epoch 63/100\n",
            "32/32 [==============================] - 0s 2ms/step - loss: 0.6948 - Accuracy: 0.4898\n",
            "Epoch 64/100\n",
            "32/32 [==============================] - 0s 2ms/step - loss: 0.6944 - Accuracy: 0.4974\n",
            "Epoch 65/100\n",
            "32/32 [==============================] - 0s 2ms/step - loss: 0.6963 - Accuracy: 0.4838\n",
            "Epoch 66/100\n",
            "32/32 [==============================] - 0s 3ms/step - loss: 0.6948 - Accuracy: 0.4992\n",
            "Epoch 67/100\n",
            "32/32 [==============================] - 0s 3ms/step - loss: 0.6960 - Accuracy: 0.4841\n",
            "Epoch 68/100\n",
            "32/32 [==============================] - 0s 3ms/step - loss: 0.6942 - Accuracy: 0.4976\n",
            "Epoch 69/100\n",
            "32/32 [==============================] - 0s 3ms/step - loss: 0.6945 - Accuracy: 0.5000\n",
            "Epoch 70/100\n",
            "32/32 [==============================] - 0s 2ms/step - loss: 0.6951 - Accuracy: 0.4777\n",
            "Epoch 71/100\n",
            "32/32 [==============================] - 0s 2ms/step - loss: 0.6945 - Accuracy: 0.4843\n",
            "Epoch 72/100\n",
            "32/32 [==============================] - 0s 2ms/step - loss: 0.6962 - Accuracy: 0.4753\n",
            "Epoch 73/100\n",
            "32/32 [==============================] - 0s 2ms/step - loss: 0.6942 - Accuracy: 0.4852\n",
            "Epoch 74/100\n",
            "32/32 [==============================] - 0s 2ms/step - loss: 0.6939 - Accuracy: 0.5038\n",
            "Epoch 75/100\n",
            "32/32 [==============================] - 0s 3ms/step - loss: 0.6959 - Accuracy: 0.4857\n",
            "Epoch 76/100\n",
            "32/32 [==============================] - 0s 2ms/step - loss: 0.6945 - Accuracy: 0.5128\n",
            "Epoch 77/100\n",
            "32/32 [==============================] - 0s 3ms/step - loss: 0.6962 - Accuracy: 0.5046\n",
            "Epoch 78/100\n",
            "32/32 [==============================] - 0s 3ms/step - loss: 0.6939 - Accuracy: 0.5099\n",
            "Epoch 79/100\n",
            "32/32 [==============================] - 0s 2ms/step - loss: 0.6979 - Accuracy: 0.4835\n",
            "Epoch 80/100\n",
            "32/32 [==============================] - 0s 2ms/step - loss: 0.6968 - Accuracy: 0.4938\n",
            "Epoch 81/100\n",
            "32/32 [==============================] - 0s 3ms/step - loss: 0.6948 - Accuracy: 0.4972\n",
            "Epoch 82/100\n",
            "32/32 [==============================] - 0s 3ms/step - loss: 0.6961 - Accuracy: 0.4963\n",
            "Epoch 83/100\n",
            "32/32 [==============================] - 0s 2ms/step - loss: 0.6952 - Accuracy: 0.4901\n",
            "Epoch 84/100\n",
            "32/32 [==============================] - 0s 3ms/step - loss: 0.6962 - Accuracy: 0.4967\n",
            "Epoch 85/100\n",
            "32/32 [==============================] - 0s 3ms/step - loss: 0.6932 - Accuracy: 0.5060\n",
            "Epoch 86/100\n",
            "32/32 [==============================] - 0s 3ms/step - loss: 0.6954 - Accuracy: 0.5029\n",
            "Epoch 87/100\n",
            "32/32 [==============================] - 0s 2ms/step - loss: 0.6960 - Accuracy: 0.4876\n",
            "Epoch 88/100\n",
            "32/32 [==============================] - 0s 3ms/step - loss: 0.6954 - Accuracy: 0.4858\n",
            "Epoch 89/100\n",
            "32/32 [==============================] - 0s 3ms/step - loss: 0.6954 - Accuracy: 0.4834\n",
            "Epoch 90/100\n",
            "32/32 [==============================] - 0s 3ms/step - loss: 0.6970 - Accuracy: 0.5060\n",
            "Epoch 91/100\n",
            "32/32 [==============================] - 0s 3ms/step - loss: 0.6979 - Accuracy: 0.4813\n",
            "Epoch 92/100\n",
            "32/32 [==============================] - 0s 3ms/step - loss: 0.6942 - Accuracy: 0.5135\n",
            "Epoch 93/100\n",
            "32/32 [==============================] - 0s 2ms/step - loss: 0.6953 - Accuracy: 0.5124\n",
            "Epoch 94/100\n",
            "32/32 [==============================] - 0s 3ms/step - loss: 0.6970 - Accuracy: 0.4900\n",
            "Epoch 95/100\n",
            "32/32 [==============================] - 0s 2ms/step - loss: 0.6937 - Accuracy: 0.5186\n",
            "Epoch 96/100\n",
            "32/32 [==============================] - 0s 2ms/step - loss: 0.6973 - Accuracy: 0.4693\n",
            "Epoch 97/100\n",
            "32/32 [==============================] - 0s 2ms/step - loss: 0.6953 - Accuracy: 0.4938\n",
            "Epoch 98/100\n",
            "32/32 [==============================] - 0s 3ms/step - loss: 0.6969 - Accuracy: 0.4782\n",
            "Epoch 99/100\n",
            "32/32 [==============================] - 0s 2ms/step - loss: 0.6972 - Accuracy: 0.5099\n",
            "Epoch 100/100\n",
            "32/32 [==============================] - 0s 2ms/step - loss: 0.6942 - Accuracy: 0.5061\n"
          ]
        },
        {
          "output_type": "execute_result",
          "data": {
            "text/plain": [
              "<keras.callbacks.History at 0x7f76d5075350>"
            ]
          },
          "metadata": {},
          "execution_count": 74
        }
      ]
    },
    {
      "cell_type": "code",
      "source": [
        "model_3.evaluate(X,y)"
      ],
      "metadata": {
        "colab": {
          "base_uri": "https://localhost:8080/"
        },
        "id": "X8B_XDQJxyAB",
        "outputId": "3bc12bf0-e8d5-46df-e4e5-41ead73694e3"
      },
      "execution_count": 75,
      "outputs": [
        {
          "output_type": "stream",
          "name": "stdout",
          "text": [
            "32/32 [==============================] - 0s 2ms/step - loss: 0.6939 - Accuracy: 0.5000\n"
          ]
        },
        {
          "output_type": "execute_result",
          "data": {
            "text/plain": [
              "[0.6939496994018555, 0.5]"
            ]
          },
          "metadata": {},
          "execution_count": 75
        }
      ]
    },
    {
      "cell_type": "markdown",
      "source": [
        "# **Visualizing**"
      ],
      "metadata": {
        "id": "pFBFsMM7yB-Y"
      }
    },
    {
      "cell_type": "code",
      "source": [
        "import numpy as np\n",
        "def plot_decision_boundary(model,X,y):\n",
        "  #Define the axis boundaries of the plot and create a meshgrid\n",
        "  x_min,x_max=X[:,0].min()-0.1,X[:,0].max()+0.1\n",
        "  y_min,y_max=X[:,0].min()-0.1,X[:,0].max()+0.1\n",
        "  #we do min and max to create a boundary\n",
        "\n",
        "  xx,yy=np.meshgrid(np.linspace(x_min,x_max,100),\n",
        "                    np.linspace(y_min,y_max,100))\n",
        "  \n",
        "  #Create X Values(We're going to predict on all of these values)\n",
        "  x_in=np.c_[xx.ravel(),yy.ravel()] #Stack 2d Arrays Together\n",
        "\n",
        "  #Make the Predictions\n",
        "  y_pred=model.predict(x_in)\n",
        "\n",
        "  #check Multiclass\n",
        "\n",
        "  if len(y_pred[0])>1:\n",
        "    print(\"Doing multiclass classification...\")\n",
        "    y_pred=np.argmax(y_pred,axis=1).reshape(xx.shape)\n",
        "  else:\n",
        "    print(\"Doing Binary Classification...\")\n",
        "    y_pred=np.round(y_pred).reshape(xx.shape)\n",
        "  #Plot the Decision Boundary\n",
        "\n",
        "  plt.contourf(xx,yy,y_pred,cmap=plt.cm.RdYlBu,alpha=0.7)\n",
        "  plt.scatter(X[:,0],X[:,1],c=y,s=40,cmap=plt.cm.RdYlBu)\n",
        "\n",
        "  plt.xlim(xx.min(),xx.max())\n",
        "  plt.ylim(yy.min(),yy.max())\n",
        "\n",
        "\n"
      ],
      "metadata": {
        "id": "ZxSEzj_ayD5K"
      },
      "execution_count": 76,
      "outputs": []
    },
    {
      "cell_type": "code",
      "source": [
        "#Check out the predictions on our model making\n",
        "plot_decision_boundary(model_3,X,y)\n",
        "\n",
        "#In this classification the model isn't permorfing well because the data is not seperated"
      ],
      "metadata": {
        "colab": {
          "base_uri": "https://localhost:8080/",
          "height": 284
        },
        "id": "b3DN510S2OnU",
        "outputId": "15990ddf-237d-4295-a986-760fe616df70"
      },
      "execution_count": 77,
      "outputs": [
        {
          "output_type": "stream",
          "name": "stdout",
          "text": [
            "Doing multiclass classification...\n"
          ]
        },
        {
          "output_type": "display_data",
          "data": {
            "image/png": "[encoded data removed]",
            "text/plain": [
              "<Figure size 432x288 with 1 Axes>"
            ]
          },
          "metadata": {
            "needs_background": "light"
          }
        }
      ]
    },
    {
      "cell_type": "markdown",
      "source": [
        "# Here our model is trying to draw a straight line through the data \n",
        "# The main issue here, our data isn't seperable by a straight line. "
      ],
      "metadata": {
        "id": "mFrcyYjj6J2U"
      }
    },
    {
      "cell_type": "code",
      "source": [
        "#Let's try the model with a regression problem \n",
        "tf.random.set_seed(42)\n",
        "\n",
        "#Create some regression data \n",
        "X_regression=np.arange(0,1000,5)\n",
        "y_regresssion=np.arange(100,1100,5)\n",
        "\n",
        "#Split it into training and tests sets\n",
        "X_reg_train=X_regression[:150]\n",
        "X_reg_test=X_regression[150:]\n",
        "y_reg_train=y_regresssion[:150]\n",
        "y_reg_test=y_regresssion[150:]\n",
        "\n",
        "model_3.fit(tf.expand_dims(X_reg_train,axis=-1),y_reg_train,epochs=300)"
      ],
      "metadata": {
        "colab": {
          "base_uri": "https://localhost:8080/"
        },
        "id": "wkJz8uPU6X_7",
        "outputId": "177f37c9-291c-41ad-a724-52700e7302ab"
      },
      "execution_count": 78,
      "outputs": [
        {
          "output_type": "stream",
          "name": "stdout",
          "text": [
            "Epoch 1/300\n",
            "5/5 [==============================] - 0s 4ms/step - loss: -4016.9167 - Accuracy: 0.0000e+00\n",
            "Epoch 2/300\n",
            "5/5 [==============================] - 0s 4ms/step - loss: -7145.1201 - Accuracy: 0.0000e+00\n",
            "Epoch 3/300\n",
            "5/5 [==============================] - 0s 4ms/step - loss: -7154.2476 - Accuracy: 0.0000e+00\n",
            "Epoch 4/300\n",
            "5/5 [==============================] - 0s 4ms/step - loss: -7190.0156 - Accuracy: 0.0000e+00\n",
            "Epoch 5/300\n",
            "5/5 [==============================] - 0s 4ms/step - loss: -7190.0156 - Accuracy: 0.0000e+00\n",
            "Epoch 6/300\n",
            "5/5 [==============================] - 0s 7ms/step - loss: -7190.0156 - Accuracy: 0.0000e+00\n",
            "Epoch 7/300\n",
            "5/5 [==============================] - 0s 4ms/step - loss: -7190.0156 - Accuracy: 0.0000e+00\n",
            "Epoch 8/300\n",
            "5/5 [==============================] - 0s 4ms/step - loss: -7190.0156 - Accuracy: 0.0000e+00\n",
            "Epoch 9/300\n",
            "5/5 [==============================] - 0s 4ms/step - loss: -7190.0156 - Accuracy: 0.0000e+00\n",
            "Epoch 10/300\n",
            "5/5 [==============================] - 0s 4ms/step - loss: -7190.0156 - Accuracy: 0.0000e+00\n",
            "Epoch 11/300\n",
            "5/5 [==============================] - 0s 4ms/step - loss: -7190.0156 - Accuracy: 0.0000e+00\n",
            "Epoch 12/300\n",
            "5/5 [==============================] - 0s 5ms/step - loss: -7190.0156 - Accuracy: 0.0000e+00\n",
            "Epoch 13/300\n",
            "5/5 [==============================] - 0s 4ms/step - loss: -7190.0156 - Accuracy: 0.0000e+00\n",
            "Epoch 14/300\n",
            "5/5 [==============================] - 0s 4ms/step - loss: -7190.0156 - Accuracy: 0.0000e+00\n",
            "Epoch 15/300\n",
            "5/5 [==============================] - 0s 4ms/step - loss: -7190.0156 - Accuracy: 0.0000e+00\n",
            "Epoch 16/300\n",
            "5/5 [==============================] - 0s 3ms/step - loss: -7190.0156 - Accuracy: 0.0000e+00\n",
            "Epoch 17/300\n",
            "5/5 [==============================] - 0s 4ms/step - loss: -7190.0156 - Accuracy: 0.0000e+00\n",
            "Epoch 18/300\n",
            "5/5 [==============================] - 0s 4ms/step - loss: -7190.0151 - Accuracy: 0.0000e+00\n",
            "Epoch 19/300\n",
            "5/5 [==============================] - 0s 4ms/step - loss: -7190.0151 - Accuracy: 0.0000e+00\n",
            "Epoch 20/300\n",
            "5/5 [==============================] - 0s 7ms/step - loss: -7190.0156 - Accuracy: 0.0000e+00\n",
            "Epoch 21/300\n",
            "5/5 [==============================] - 0s 4ms/step - loss: -7190.0156 - Accuracy: 0.0000e+00\n",
            "Epoch 22/300\n",
            "5/5 [==============================] - 0s 5ms/step - loss: -7190.0156 - Accuracy: 0.0000e+00\n",
            "Epoch 23/300\n",
            "5/5 [==============================] - 0s 4ms/step - loss: -7190.0156 - Accuracy: 0.0000e+00\n",
            "Epoch 24/300\n",
            "5/5 [==============================] - 0s 4ms/step - loss: -7190.0151 - Accuracy: 0.0000e+00\n",
            "Epoch 25/300\n",
            "5/5 [==============================] - 0s 6ms/step - loss: -7190.0156 - Accuracy: 0.0000e+00\n",
            "Epoch 26/300\n",
            "5/5 [==============================] - 0s 4ms/step - loss: -7190.0156 - Accuracy: 0.0000e+00\n",
            "Epoch 27/300\n",
            "5/5 [==============================] - 0s 4ms/step - loss: -7190.0151 - Accuracy: 0.0000e+00\n",
            "Epoch 28/300\n",
            "5/5 [==============================] - 0s 4ms/step - loss: -7190.0156 - Accuracy: 0.0000e+00\n",
            "Epoch 29/300\n",
            "5/5 [==============================] - 0s 5ms/step - loss: -7190.0156 - Accuracy: 0.0000e+00\n",
            "Epoch 30/300\n",
            "5/5 [==============================] - 0s 6ms/step - loss: -7190.0156 - Accuracy: 0.0000e+00\n",
            "Epoch 31/300\n",
            "5/5 [==============================] - 0s 5ms/step - loss: -7190.0156 - Accuracy: 0.0000e+00\n",
            "Epoch 32/300\n",
            "5/5 [==============================] - 0s 4ms/step - loss: -7190.0156 - Accuracy: 0.0000e+00\n",
            "Epoch 33/300\n",
            "5/5 [==============================] - 0s 5ms/step - loss: -7190.0156 - Accuracy: 0.0000e+00\n",
            "Epoch 34/300\n",
            "5/5 [==============================] - 0s 4ms/step - loss: -7190.0156 - Accuracy: 0.0000e+00\n",
            "Epoch 35/300\n",
            "5/5 [==============================] - 0s 6ms/step - loss: -7190.0156 - Accuracy: 0.0000e+00\n",
            "Epoch 36/300\n",
            "5/5 [==============================] - 0s 4ms/step - loss: -7190.0151 - Accuracy: 0.0000e+00\n",
            "Epoch 37/300\n",
            "5/5 [==============================] - 0s 4ms/step - loss: -7190.0156 - Accuracy: 0.0000e+00\n",
            "Epoch 38/300\n",
            "5/5 [==============================] - 0s 4ms/step - loss: -7190.0156 - Accuracy: 0.0000e+00\n",
            "Epoch 39/300\n",
            "5/5 [==============================] - 0s 7ms/step - loss: -7190.0151 - Accuracy: 0.0000e+00\n",
            "Epoch 40/300\n",
            "5/5 [==============================] - 0s 5ms/step - loss: -7190.0156 - Accuracy: 0.0000e+00\n",
            "Epoch 41/300\n",
            "5/5 [==============================] - 0s 6ms/step - loss: -7190.0156 - Accuracy: 0.0000e+00\n",
            "Epoch 42/300\n",
            "5/5 [==============================] - 0s 5ms/step - loss: -7190.0156 - Accuracy: 0.0000e+00\n",
            "Epoch 43/300\n",
            "5/5 [==============================] - 0s 6ms/step - loss: -7190.0156 - Accuracy: 0.0000e+00\n",
            "Epoch 44/300\n",
            "5/5 [==============================] - 0s 4ms/step - loss: -7190.0156 - Accuracy: 0.0000e+00\n",
            "Epoch 45/300\n",
            "5/5 [==============================] - 0s 4ms/step - loss: -7190.0156 - Accuracy: 0.0000e+00\n",
            "Epoch 46/300\n",
            "5/5 [==============================] - 0s 5ms/step - loss: -7190.0156 - Accuracy: 0.0000e+00\n",
            "Epoch 47/300\n",
            "5/5 [==============================] - 0s 5ms/step - loss: -7190.0156 - Accuracy: 0.0000e+00\n",
            "Epoch 48/300\n",
            "5/5 [==============================] - 0s 6ms/step - loss: -7190.0156 - Accuracy: 0.0000e+00\n",
            "Epoch 49/300\n",
            "5/5 [==============================] - 0s 5ms/step - loss: -7190.0156 - Accuracy: 0.0000e+00\n",
            "Epoch 50/300\n",
            "5/5 [==============================] - 0s 5ms/step - loss: -7190.0156 - Accuracy: 0.0000e+00\n",
            "Epoch 51/300\n",
            "5/5 [==============================] - 0s 5ms/step - loss: -7190.0156 - Accuracy: 0.0000e+00\n",
            "Epoch 52/300\n",
            "5/5 [==============================] - 0s 5ms/step - loss: -7190.0156 - Accuracy: 0.0000e+00\n",
            "Epoch 53/300\n",
            "5/5 [==============================] - 0s 4ms/step - loss: -7190.0156 - Accuracy: 0.0000e+00\n",
            "Epoch 54/300\n",
            "5/5 [==============================] - 0s 4ms/step - loss: -7190.0156 - Accuracy: 0.0000e+00\n",
            "Epoch 55/300\n",
            "5/5 [==============================] - 0s 4ms/step - loss: -7190.0156 - Accuracy: 0.0000e+00\n",
            "Epoch 56/300\n",
            "5/5 [==============================] - 0s 5ms/step - loss: -7190.0156 - Accuracy: 0.0000e+00\n",
            "Epoch 57/300\n",
            "5/5 [==============================] - 0s 4ms/step - loss: -7190.0156 - Accuracy: 0.0000e+00\n",
            "Epoch 58/300\n",
            "5/5 [==============================] - 0s 4ms/step - loss: -7190.0156 - Accuracy: 0.0000e+00\n",
            "Epoch 59/300\n",
            "5/5 [==============================] - 0s 4ms/step - loss: -7190.0156 - Accuracy: 0.0000e+00\n",
            "Epoch 60/300\n",
            "5/5 [==============================] - 0s 5ms/step - loss: -7190.0156 - Accuracy: 0.0000e+00\n",
            "Epoch 61/300\n",
            "5/5 [==============================] - 0s 6ms/step - loss: -7190.0156 - Accuracy: 0.0000e+00\n",
            "Epoch 62/300\n",
            "5/5 [==============================] - 0s 6ms/step - loss: -7190.0151 - Accuracy: 0.0000e+00\n",
            "Epoch 63/300\n",
            "5/5 [==============================] - 0s 4ms/step - loss: -7190.0156 - Accuracy: 0.0000e+00\n",
            "Epoch 64/300\n",
            "5/5 [==============================] - 0s 6ms/step - loss: -7190.0156 - Accuracy: 0.0000e+00\n",
            "Epoch 65/300\n",
            "5/5 [==============================] - 0s 5ms/step - loss: -7190.0156 - Accuracy: 0.0000e+00\n",
            "Epoch 66/300\n",
            "5/5 [==============================] - 0s 5ms/step - loss: -7190.0156 - Accuracy: 0.0000e+00\n",
            "Epoch 67/300\n",
            "5/5 [==============================] - 0s 4ms/step - loss: -7190.0156 - Accuracy: 0.0000e+00\n",
            "Epoch 68/300\n",
            "5/5 [==============================] - 0s 5ms/step - loss: -7190.0156 - Accuracy: 0.0000e+00\n",
            "Epoch 69/300\n",
            "5/5 [==============================] - 0s 6ms/step - loss: -7190.0156 - Accuracy: 0.0000e+00\n",
            "Epoch 70/300\n",
            "5/5 [==============================] - 0s 4ms/step - loss: -7190.0156 - Accuracy: 0.0000e+00\n",
            "Epoch 71/300\n",
            "5/5 [==============================] - 0s 4ms/step - loss: -7190.0156 - Accuracy: 0.0000e+00\n",
            "Epoch 72/300\n",
            "5/5 [==============================] - 0s 4ms/step - loss: -7190.0156 - Accuracy: 0.0000e+00\n",
            "Epoch 73/300\n",
            "5/5 [==============================] - 0s 5ms/step - loss: -7190.0156 - Accuracy: 0.0000e+00\n",
            "Epoch 74/300\n",
            "5/5 [==============================] - 0s 6ms/step - loss: -7190.0156 - Accuracy: 0.0000e+00\n",
            "Epoch 75/300\n",
            "5/5 [==============================] - 0s 7ms/step - loss: -7190.0156 - Accuracy: 0.0000e+00\n",
            "Epoch 76/300\n",
            "5/5 [==============================] - 0s 4ms/step - loss: -7190.0156 - Accuracy: 0.0000e+00\n",
            "Epoch 77/300\n",
            "5/5 [==============================] - 0s 4ms/step - loss: -7190.0156 - Accuracy: 0.0000e+00\n",
            "Epoch 78/300\n",
            "5/5 [==============================] - 0s 5ms/step - loss: -7190.0156 - Accuracy: 0.0000e+00\n",
            "Epoch 79/300\n",
            "5/5 [==============================] - 0s 5ms/step - loss: -7190.0151 - Accuracy: 0.0000e+00\n",
            "Epoch 80/300\n",
            "5/5 [==============================] - 0s 5ms/step - loss: -7190.0151 - Accuracy: 0.0000e+00\n",
            "Epoch 81/300\n",
            "5/5 [==============================] - 0s 4ms/step - loss: -7190.0156 - Accuracy: 0.0000e+00\n",
            "Epoch 82/300\n",
            "5/5 [==============================] - 0s 4ms/step - loss: -7190.0166 - Accuracy: 0.0000e+00\n",
            "Epoch 83/300\n",
            "5/5 [==============================] - 0s 4ms/step - loss: -7190.0156 - Accuracy: 0.0000e+00\n",
            "Epoch 84/300\n",
            "5/5 [==============================] - 0s 7ms/step - loss: -7190.0156 - Accuracy: 0.0000e+00\n",
            "Epoch 85/300\n",
            "5/5 [==============================] - 0s 4ms/step - loss: -7190.0166 - Accuracy: 0.0000e+00\n",
            "Epoch 86/300\n",
            "5/5 [==============================] - 0s 4ms/step - loss: -7190.0156 - Accuracy: 0.0000e+00\n",
            "Epoch 87/300\n",
            "5/5 [==============================] - 0s 5ms/step - loss: -7190.0156 - Accuracy: 0.0000e+00\n",
            "Epoch 88/300\n",
            "5/5 [==============================] - 0s 5ms/step - loss: -7190.0156 - Accuracy: 0.0000e+00\n",
            "Epoch 89/300\n",
            "5/5 [==============================] - 0s 4ms/step - loss: -7190.0156 - Accuracy: 0.0000e+00\n",
            "Epoch 90/300\n",
            "5/5 [==============================] - 0s 4ms/step - loss: -7190.0156 - Accuracy: 0.0000e+00\n",
            "Epoch 91/300\n",
            "5/5 [==============================] - 0s 4ms/step - loss: -7190.0151 - Accuracy: 0.0000e+00\n",
            "Epoch 92/300\n",
            "5/5 [==============================] - 0s 4ms/step - loss: -7190.0156 - Accuracy: 0.0000e+00\n",
            "Epoch 93/300\n",
            "5/5 [==============================] - 0s 5ms/step - loss: -7190.0156 - Accuracy: 0.0000e+00\n",
            "Epoch 94/300\n",
            "5/5 [==============================] - 0s 4ms/step - loss: -7190.0156 - Accuracy: 0.0000e+00\n",
            "Epoch 95/300\n",
            "5/5 [==============================] - 0s 4ms/step - loss: -7190.0156 - Accuracy: 0.0000e+00\n",
            "Epoch 96/300\n",
            "5/5 [==============================] - 0s 4ms/step - loss: -7190.0151 - Accuracy: 0.0000e+00\n",
            "Epoch 97/300\n",
            "5/5 [==============================] - 0s 4ms/step - loss: -7190.0156 - Accuracy: 0.0000e+00\n",
            "Epoch 98/300\n",
            "5/5 [==============================] - 0s 4ms/step - loss: -7190.0156 - Accuracy: 0.0000e+00\n",
            "Epoch 99/300\n",
            "5/5 [==============================] - 0s 4ms/step - loss: -7190.0156 - Accuracy: 0.0000e+00\n",
            "Epoch 100/300\n",
            "5/5 [==============================] - 0s 5ms/step - loss: -7190.0156 - Accuracy: 0.0000e+00\n",
            "Epoch 101/300\n",
            "5/5 [==============================] - 0s 4ms/step - loss: -7190.0156 - Accuracy: 0.0000e+00\n",
            "Epoch 102/300\n",
            "5/5 [==============================] - 0s 5ms/step - loss: -7190.0156 - Accuracy: 0.0000e+00\n",
            "Epoch 103/300\n",
            "5/5 [==============================] - 0s 5ms/step - loss: -7190.0156 - Accuracy: 0.0000e+00\n",
            "Epoch 104/300\n",
            "5/5 [==============================] - 0s 4ms/step - loss: -7190.0156 - Accuracy: 0.0000e+00\n",
            "Epoch 105/300\n",
            "5/5 [==============================] - 0s 4ms/step - loss: -7190.0156 - Accuracy: 0.0000e+00\n",
            "Epoch 106/300\n",
            "5/5 [==============================] - 0s 7ms/step - loss: -7190.0156 - Accuracy: 0.0000e+00\n",
            "Epoch 107/300\n",
            "5/5 [==============================] - 0s 4ms/step - loss: -7190.0151 - Accuracy: 0.0000e+00\n",
            "Epoch 108/300\n",
            "5/5 [==============================] - 0s 4ms/step - loss: -7190.0151 - Accuracy: 0.0000e+00\n",
            "Epoch 109/300\n",
            "5/5 [==============================] - 0s 6ms/step - loss: -7190.0156 - Accuracy: 0.0000e+00\n",
            "Epoch 110/300\n",
            "5/5 [==============================] - 0s 7ms/step - loss: -7190.0156 - Accuracy: 0.0000e+00\n",
            "Epoch 111/300\n",
            "5/5 [==============================] - 0s 6ms/step - loss: -7190.0156 - Accuracy: 0.0000e+00\n",
            "Epoch 112/300\n",
            "5/5 [==============================] - 0s 4ms/step - loss: -7190.0156 - Accuracy: 0.0000e+00\n",
            "Epoch 113/300\n",
            "5/5 [==============================] - 0s 5ms/step - loss: -7190.0151 - Accuracy: 0.0000e+00\n",
            "Epoch 114/300\n",
            "5/5 [==============================] - 0s 5ms/step - loss: -7190.0156 - Accuracy: 0.0000e+00\n",
            "Epoch 115/300\n",
            "5/5 [==============================] - 0s 4ms/step - loss: -7190.0156 - Accuracy: 0.0000e+00\n",
            "Epoch 116/300\n",
            "5/5 [==============================] - 0s 6ms/step - loss: -7190.0156 - Accuracy: 0.0000e+00\n",
            "Epoch 117/300\n",
            "5/5 [==============================] - 0s 5ms/step - loss: -7190.0151 - Accuracy: 0.0000e+00\n",
            "Epoch 118/300\n",
            "5/5 [==============================] - 0s 6ms/step - loss: -7190.0156 - Accuracy: 0.0000e+00\n",
            "Epoch 119/300\n",
            "5/5 [==============================] - 0s 4ms/step - loss: -7190.0156 - Accuracy: 0.0000e+00\n",
            "Epoch 120/300\n",
            "5/5 [==============================] - 0s 6ms/step - loss: -7190.0156 - Accuracy: 0.0000e+00\n",
            "Epoch 121/300\n",
            "5/5 [==============================] - 0s 5ms/step - loss: -7190.0156 - Accuracy: 0.0000e+00\n",
            "Epoch 122/300\n",
            "5/5 [==============================] - 0s 4ms/step - loss: -7190.0156 - Accuracy: 0.0000e+00\n",
            "Epoch 123/300\n",
            "5/5 [==============================] - 0s 5ms/step - loss: -7190.0156 - Accuracy: 0.0000e+00\n",
            "Epoch 124/300\n",
            "5/5 [==============================] - 0s 5ms/step - loss: -7190.0156 - Accuracy: 0.0000e+00\n",
            "Epoch 125/300\n",
            "5/5 [==============================] - 0s 4ms/step - loss: -7190.0151 - Accuracy: 0.0000e+00\n",
            "Epoch 126/300\n",
            "5/5 [==============================] - 0s 5ms/step - loss: -7190.0151 - Accuracy: 0.0000e+00\n",
            "Epoch 127/300\n",
            "5/5 [==============================] - 0s 5ms/step - loss: -7190.0156 - Accuracy: 0.0000e+00\n",
            "Epoch 128/300\n",
            "5/5 [==============================] - 0s 5ms/step - loss: -7190.0156 - Accuracy: 0.0000e+00\n",
            "Epoch 129/300\n",
            "5/5 [==============================] - 0s 5ms/step - loss: -7190.0156 - Accuracy: 0.0000e+00\n",
            "Epoch 130/300\n",
            "5/5 [==============================] - 0s 5ms/step - loss: -7190.0156 - Accuracy: 0.0000e+00\n",
            "Epoch 131/300\n",
            "5/5 [==============================] - 0s 4ms/step - loss: -7190.0156 - Accuracy: 0.0000e+00\n",
            "Epoch 132/300\n",
            "5/5 [==============================] - 0s 5ms/step - loss: -7190.0156 - Accuracy: 0.0000e+00\n",
            "Epoch 133/300\n",
            "5/5 [==============================] - 0s 6ms/step - loss: -7190.0156 - Accuracy: 0.0000e+00\n",
            "Epoch 134/300\n",
            "5/5 [==============================] - 0s 5ms/step - loss: -7190.0156 - Accuracy: 0.0000e+00\n",
            "Epoch 135/300\n",
            "5/5 [==============================] - 0s 5ms/step - loss: -7190.0156 - Accuracy: 0.0000e+00\n",
            "Epoch 136/300\n",
            "5/5 [==============================] - 0s 4ms/step - loss: -7190.0156 - Accuracy: 0.0000e+00\n",
            "Epoch 137/300\n",
            "5/5 [==============================] - 0s 5ms/step - loss: -7190.0151 - Accuracy: 0.0000e+00\n",
            "Epoch 138/300\n",
            "5/5 [==============================] - 0s 5ms/step - loss: -7190.0156 - Accuracy: 0.0000e+00\n",
            "Epoch 139/300\n",
            "5/5 [==============================] - 0s 5ms/step - loss: -7190.0156 - Accuracy: 0.0000e+00\n",
            "Epoch 140/300\n",
            "5/5 [==============================] - 0s 4ms/step - loss: -7190.0156 - Accuracy: 0.0000e+00\n",
            "Epoch 141/300\n",
            "5/5 [==============================] - 0s 5ms/step - loss: -7190.0156 - Accuracy: 0.0000e+00\n",
            "Epoch 142/300\n",
            "5/5 [==============================] - 0s 7ms/step - loss: -7190.0156 - Accuracy: 0.0000e+00\n",
            "Epoch 143/300\n",
            "5/5 [==============================] - 0s 6ms/step - loss: -7190.0156 - Accuracy: 0.0000e+00\n",
            "Epoch 144/300\n",
            "5/5 [==============================] - 0s 5ms/step - loss: -7190.0156 - Accuracy: 0.0000e+00\n",
            "Epoch 145/300\n",
            "5/5 [==============================] - 0s 6ms/step - loss: -7190.0151 - Accuracy: 0.0000e+00\n",
            "Epoch 146/300\n",
            "5/5 [==============================] - 0s 5ms/step - loss: -7190.0156 - Accuracy: 0.0000e+00\n",
            "Epoch 147/300\n",
            "5/5 [==============================] - 0s 5ms/step - loss: -7190.0156 - Accuracy: 0.0000e+00\n",
            "Epoch 148/300\n",
            "5/5 [==============================] - 0s 4ms/step - loss: -7190.0151 - Accuracy: 0.0000e+00\n",
            "Epoch 149/300\n",
            "5/5 [==============================] - 0s 5ms/step - loss: -7190.0156 - Accuracy: 0.0000e+00\n",
            "Epoch 150/300\n",
            "5/5 [==============================] - 0s 5ms/step - loss: -7190.0151 - Accuracy: 0.0000e+00\n",
            "Epoch 151/300\n",
            "5/5 [==============================] - 0s 5ms/step - loss: -7190.0156 - Accuracy: 0.0000e+00\n",
            "Epoch 152/300\n",
            "5/5 [==============================] - 0s 4ms/step - loss: -7190.0156 - Accuracy: 0.0000e+00\n",
            "Epoch 153/300\n",
            "5/5 [==============================] - 0s 4ms/step - loss: -7190.0156 - Accuracy: 0.0000e+00\n",
            "Epoch 154/300\n",
            "5/5 [==============================] - 0s 4ms/step - loss: -7190.0156 - Accuracy: 0.0000e+00\n",
            "Epoch 155/300\n",
            "5/5 [==============================] - 0s 5ms/step - loss: -7190.0156 - Accuracy: 0.0000e+00\n",
            "Epoch 156/300\n",
            "5/5 [==============================] - 0s 4ms/step - loss: -7190.0156 - Accuracy: 0.0000e+00\n",
            "Epoch 157/300\n",
            "5/5 [==============================] - 0s 5ms/step - loss: -7190.0151 - Accuracy: 0.0000e+00\n",
            "Epoch 158/300\n",
            "5/5 [==============================] - 0s 5ms/step - loss: -7190.0151 - Accuracy: 0.0000e+00\n",
            "Epoch 159/300\n",
            "5/5 [==============================] - 0s 5ms/step - loss: -7190.0156 - Accuracy: 0.0000e+00\n",
            "Epoch 160/300\n",
            "5/5 [==============================] - 0s 5ms/step - loss: -7190.0156 - Accuracy: 0.0000e+00\n",
            "Epoch 161/300\n",
            "5/5 [==============================] - 0s 4ms/step - loss: -7190.0156 - Accuracy: 0.0000e+00\n",
            "Epoch 162/300\n",
            "5/5 [==============================] - 0s 4ms/step - loss: -7190.0156 - Accuracy: 0.0000e+00\n",
            "Epoch 163/300\n",
            "5/5 [==============================] - 0s 4ms/step - loss: -7190.0156 - Accuracy: 0.0000e+00\n",
            "Epoch 164/300\n",
            "5/5 [==============================] - 0s 5ms/step - loss: -7190.0151 - Accuracy: 0.0000e+00\n",
            "Epoch 165/300\n",
            "5/5 [==============================] - 0s 4ms/step - loss: -7190.0156 - Accuracy: 0.0000e+00\n",
            "Epoch 166/300\n",
            "5/5 [==============================] - 0s 4ms/step - loss: -7190.0156 - Accuracy: 0.0000e+00\n",
            "Epoch 167/300\n",
            "5/5 [==============================] - 0s 5ms/step - loss: -7190.0156 - Accuracy: 0.0000e+00\n",
            "Epoch 168/300\n",
            "5/5 [==============================] - 0s 4ms/step - loss: -7190.0151 - Accuracy: 0.0000e+00\n",
            "Epoch 169/300\n",
            "5/5 [==============================] - 0s 6ms/step - loss: -7190.0156 - Accuracy: 0.0000e+00\n",
            "Epoch 170/300\n",
            "5/5 [==============================] - 0s 5ms/step - loss: -7190.0156 - Accuracy: 0.0000e+00\n",
            "Epoch 171/300\n",
            "5/5 [==============================] - 0s 5ms/step - loss: -7190.0156 - Accuracy: 0.0000e+00\n",
            "Epoch 172/300\n",
            "5/5 [==============================] - 0s 4ms/step - loss: -7190.0156 - Accuracy: 0.0000e+00\n",
            "Epoch 173/300\n",
            "5/5 [==============================] - 0s 4ms/step - loss: -7190.0156 - Accuracy: 0.0000e+00\n",
            "Epoch 174/300\n",
            "5/5 [==============================] - 0s 6ms/step - loss: -7190.0156 - Accuracy: 0.0000e+00\n",
            "Epoch 175/300\n",
            "5/5 [==============================] - 0s 6ms/step - loss: -7190.0156 - Accuracy: 0.0000e+00\n",
            "Epoch 176/300\n",
            "5/5 [==============================] - 0s 5ms/step - loss: -7190.0156 - Accuracy: 0.0000e+00\n",
            "Epoch 177/300\n",
            "5/5 [==============================] - 0s 4ms/step - loss: -7190.0156 - Accuracy: 0.0000e+00\n",
            "Epoch 178/300\n",
            "5/5 [==============================] - 0s 5ms/step - loss: -7190.0151 - Accuracy: 0.0000e+00\n",
            "Epoch 179/300\n",
            "5/5 [==============================] - 0s 4ms/step - loss: -7190.0156 - Accuracy: 0.0000e+00\n",
            "Epoch 180/300\n",
            "5/5 [==============================] - 0s 4ms/step - loss: -7190.0151 - Accuracy: 0.0000e+00\n",
            "Epoch 181/300\n",
            "5/5 [==============================] - 0s 4ms/step - loss: -7190.0156 - Accuracy: 0.0000e+00\n",
            "Epoch 182/300\n",
            "5/5 [==============================] - 0s 4ms/step - loss: -7190.0156 - Accuracy: 0.0000e+00\n",
            "Epoch 183/300\n",
            "5/5 [==============================] - 0s 5ms/step - loss: -7190.0156 - Accuracy: 0.0000e+00\n",
            "Epoch 184/300\n",
            "5/5 [==============================] - 0s 4ms/step - loss: -7190.0151 - Accuracy: 0.0000e+00\n",
            "Epoch 185/300\n",
            "5/5 [==============================] - 0s 4ms/step - loss: -7190.0151 - Accuracy: 0.0000e+00\n",
            "Epoch 186/300\n",
            "5/5 [==============================] - 0s 5ms/step - loss: -7190.0156 - Accuracy: 0.0000e+00\n",
            "Epoch 187/300\n",
            "5/5 [==============================] - 0s 5ms/step - loss: -7190.0156 - Accuracy: 0.0000e+00\n",
            "Epoch 188/300\n",
            "5/5 [==============================] - 0s 5ms/step - loss: -7190.0156 - Accuracy: 0.0000e+00\n",
            "Epoch 189/300\n",
            "5/5 [==============================] - 0s 5ms/step - loss: -7190.0156 - Accuracy: 0.0000e+00\n",
            "Epoch 190/300\n",
            "5/5 [==============================] - 0s 4ms/step - loss: -7190.0156 - Accuracy: 0.0000e+00\n",
            "Epoch 191/300\n",
            "5/5 [==============================] - 0s 4ms/step - loss: -7190.0156 - Accuracy: 0.0000e+00\n",
            "Epoch 192/300\n",
            "5/5 [==============================] - 0s 6ms/step - loss: -7190.0166 - Accuracy: 0.0000e+00\n",
            "Epoch 193/300\n",
            "5/5 [==============================] - 0s 4ms/step - loss: -7190.0156 - Accuracy: 0.0000e+00\n",
            "Epoch 194/300\n",
            "5/5 [==============================] - 0s 4ms/step - loss: -7190.0156 - Accuracy: 0.0000e+00\n",
            "Epoch 195/300\n",
            "5/5 [==============================] - 0s 5ms/step - loss: -7190.0156 - Accuracy: 0.0000e+00\n",
            "Epoch 196/300\n",
            "5/5 [==============================] - 0s 5ms/step - loss: -7190.0156 - Accuracy: 0.0000e+00\n",
            "Epoch 197/300\n",
            "5/5 [==============================] - 0s 4ms/step - loss: -7190.0156 - Accuracy: 0.0000e+00\n",
            "Epoch 198/300\n",
            "5/5 [==============================] - 0s 4ms/step - loss: -7190.0156 - Accuracy: 0.0000e+00\n",
            "Epoch 199/300\n",
            "5/5 [==============================] - 0s 5ms/step - loss: -7190.0156 - Accuracy: 0.0000e+00\n",
            "Epoch 200/300\n",
            "5/5 [==============================] - 0s 4ms/step - loss: -7190.0151 - Accuracy: 0.0000e+00\n",
            "Epoch 201/300\n",
            "5/5 [==============================] - 0s 6ms/step - loss: -7190.0151 - Accuracy: 0.0000e+00\n",
            "Epoch 202/300\n",
            "5/5 [==============================] - 0s 5ms/step - loss: -7190.0156 - Accuracy: 0.0000e+00\n",
            "Epoch 203/300\n",
            "5/5 [==============================] - 0s 4ms/step - loss: -7190.0156 - Accuracy: 0.0000e+00\n",
            "Epoch 204/300\n",
            "5/5 [==============================] - 0s 4ms/step - loss: -7190.0156 - Accuracy: 0.0000e+00\n",
            "Epoch 205/300\n",
            "5/5 [==============================] - 0s 4ms/step - loss: -7190.0156 - Accuracy: 0.0000e+00\n",
            "Epoch 206/300\n",
            "5/5 [==============================] - 0s 4ms/step - loss: -7190.0156 - Accuracy: 0.0000e+00\n",
            "Epoch 207/300\n",
            "5/5 [==============================] - 0s 5ms/step - loss: -7190.0156 - Accuracy: 0.0000e+00\n",
            "Epoch 208/300\n",
            "5/5 [==============================] - 0s 4ms/step - loss: -7190.0156 - Accuracy: 0.0000e+00\n",
            "Epoch 209/300\n",
            "5/5 [==============================] - 0s 5ms/step - loss: -7190.0151 - Accuracy: 0.0000e+00\n",
            "Epoch 210/300\n",
            "5/5 [==============================] - 0s 5ms/step - loss: -7190.0156 - Accuracy: 0.0000e+00\n",
            "Epoch 211/300\n",
            "5/5 [==============================] - 0s 6ms/step - loss: -7190.0156 - Accuracy: 0.0000e+00\n",
            "Epoch 212/300\n",
            "5/5 [==============================] - 0s 4ms/step - loss: -7190.0156 - Accuracy: 0.0000e+00\n",
            "Epoch 213/300\n",
            "5/5 [==============================] - 0s 4ms/step - loss: -7190.0156 - Accuracy: 0.0000e+00\n",
            "Epoch 214/300\n",
            "5/5 [==============================] - 0s 5ms/step - loss: -7190.0151 - Accuracy: 0.0000e+00\n",
            "Epoch 215/300\n",
            "5/5 [==============================] - 0s 5ms/step - loss: -7190.0156 - Accuracy: 0.0000e+00\n",
            "Epoch 216/300\n",
            "5/5 [==============================] - 0s 5ms/step - loss: -7190.0156 - Accuracy: 0.0000e+00\n",
            "Epoch 217/300\n",
            "5/5 [==============================] - 0s 4ms/step - loss: -7190.0156 - Accuracy: 0.0000e+00\n",
            "Epoch 218/300\n",
            "5/5 [==============================] - 0s 6ms/step - loss: -7190.0151 - Accuracy: 0.0000e+00\n",
            "Epoch 219/300\n",
            "5/5 [==============================] - 0s 4ms/step - loss: -7190.0156 - Accuracy: 0.0000e+00\n",
            "Epoch 220/300\n",
            "5/5 [==============================] - 0s 4ms/step - loss: -7190.0156 - Accuracy: 0.0000e+00\n",
            "Epoch 221/300\n",
            "5/5 [==============================] - 0s 5ms/step - loss: -7190.0156 - Accuracy: 0.0000e+00\n",
            "Epoch 222/300\n",
            "5/5 [==============================] - 0s 5ms/step - loss: -7190.0156 - Accuracy: 0.0000e+00\n",
            "Epoch 223/300\n",
            "5/5 [==============================] - 0s 4ms/step - loss: -7190.0151 - Accuracy: 0.0000e+00\n",
            "Epoch 224/300\n",
            "5/5 [==============================] - 0s 4ms/step - loss: -7190.0151 - Accuracy: 0.0000e+00\n",
            "Epoch 225/300\n",
            "5/5 [==============================] - 0s 4ms/step - loss: -7190.0156 - Accuracy: 0.0000e+00\n",
            "Epoch 226/300\n",
            "5/5 [==============================] - 0s 4ms/step - loss: -7190.0156 - Accuracy: 0.0000e+00\n",
            "Epoch 227/300\n",
            "5/5 [==============================] - 0s 4ms/step - loss: -7190.0156 - Accuracy: 0.0000e+00\n",
            "Epoch 228/300\n",
            "5/5 [==============================] - 0s 4ms/step - loss: -7190.0156 - Accuracy: 0.0000e+00\n",
            "Epoch 229/300\n",
            "5/5 [==============================] - 0s 4ms/step - loss: -7190.0156 - Accuracy: 0.0000e+00\n",
            "Epoch 230/300\n",
            "5/5 [==============================] - 0s 4ms/step - loss: -7190.0156 - Accuracy: 0.0000e+00\n",
            "Epoch 231/300\n",
            "5/5 [==============================] - 0s 5ms/step - loss: -7190.0156 - Accuracy: 0.0000e+00\n",
            "Epoch 232/300\n",
            "5/5 [==============================] - 0s 5ms/step - loss: -7190.0156 - Accuracy: 0.0000e+00\n",
            "Epoch 233/300\n",
            "5/5 [==============================] - 0s 5ms/step - loss: -7190.0156 - Accuracy: 0.0000e+00\n",
            "Epoch 234/300\n",
            "5/5 [==============================] - 0s 6ms/step - loss: -7190.0156 - Accuracy: 0.0000e+00\n",
            "Epoch 235/300\n",
            "5/5 [==============================] - 0s 4ms/step - loss: -7190.0156 - Accuracy: 0.0000e+00\n",
            "Epoch 236/300\n",
            "5/5 [==============================] - 0s 5ms/step - loss: -7190.0151 - Accuracy: 0.0000e+00\n",
            "Epoch 237/300\n",
            "5/5 [==============================] - 0s 5ms/step - loss: -7190.0151 - Accuracy: 0.0000e+00\n",
            "Epoch 238/300\n",
            "5/5 [==============================] - 0s 4ms/step - loss: -7190.0156 - Accuracy: 0.0000e+00\n",
            "Epoch 239/300\n",
            "5/5 [==============================] - 0s 4ms/step - loss: -7190.0156 - Accuracy: 0.0000e+00\n",
            "Epoch 240/300\n",
            "5/5 [==============================] - 0s 6ms/step - loss: -7190.0156 - Accuracy: 0.0000e+00\n",
            "Epoch 241/300\n",
            "5/5 [==============================] - 0s 6ms/step - loss: -7190.0151 - Accuracy: 0.0000e+00\n",
            "Epoch 242/300\n",
            "5/5 [==============================] - 0s 4ms/step - loss: -7190.0156 - Accuracy: 0.0000e+00\n",
            "Epoch 243/300\n",
            "5/5 [==============================] - 0s 5ms/step - loss: -7190.0156 - Accuracy: 0.0000e+00\n",
            "Epoch 244/300\n",
            "5/5 [==============================] - 0s 5ms/step - loss: -7190.0151 - Accuracy: 0.0000e+00\n",
            "Epoch 245/300\n",
            "5/5 [==============================] - 0s 7ms/step - loss: -7190.0156 - Accuracy: 0.0000e+00\n",
            "Epoch 246/300\n",
            "5/5 [==============================] - 0s 5ms/step - loss: -7190.0151 - Accuracy: 0.0000e+00\n",
            "Epoch 247/300\n",
            "5/5 [==============================] - 0s 6ms/step - loss: -7190.0156 - Accuracy: 0.0000e+00\n",
            "Epoch 248/300\n",
            "5/5 [==============================] - 0s 4ms/step - loss: -7190.0151 - Accuracy: 0.0000e+00\n",
            "Epoch 249/300\n",
            "5/5 [==============================] - 0s 5ms/step - loss: -7190.0156 - Accuracy: 0.0000e+00\n",
            "Epoch 250/300\n",
            "5/5 [==============================] - 0s 5ms/step - loss: -7190.0156 - Accuracy: 0.0000e+00\n",
            "Epoch 251/300\n",
            "5/5 [==============================] - 0s 5ms/step - loss: -7190.0151 - Accuracy: 0.0000e+00\n",
            "Epoch 252/300\n",
            "5/5 [==============================] - 0s 5ms/step - loss: -7190.0151 - Accuracy: 0.0000e+00\n",
            "Epoch 253/300\n",
            "5/5 [==============================] - 0s 5ms/step - loss: -7190.0151 - Accuracy: 0.0000e+00\n",
            "Epoch 254/300\n",
            "5/5 [==============================] - 0s 5ms/step - loss: -7190.0156 - Accuracy: 0.0000e+00\n",
            "Epoch 255/300\n",
            "5/5 [==============================] - 0s 6ms/step - loss: -7190.0156 - Accuracy: 0.0000e+00\n",
            "Epoch 256/300\n",
            "5/5 [==============================] - 0s 5ms/step - loss: -7190.0156 - Accuracy: 0.0000e+00\n",
            "Epoch 257/300\n",
            "5/5 [==============================] - 0s 5ms/step - loss: -7190.0156 - Accuracy: 0.0000e+00\n",
            "Epoch 258/300\n",
            "5/5 [==============================] - 0s 5ms/step - loss: -7190.0156 - Accuracy: 0.0000e+00\n",
            "Epoch 259/300\n",
            "5/5 [==============================] - 0s 6ms/step - loss: -7190.0156 - Accuracy: 0.0000e+00\n",
            "Epoch 260/300\n",
            "5/5 [==============================] - 0s 4ms/step - loss: -7190.0156 - Accuracy: 0.0000e+00\n",
            "Epoch 261/300\n",
            "5/5 [==============================] - 0s 4ms/step - loss: -7190.0156 - Accuracy: 0.0000e+00\n",
            "Epoch 262/300\n",
            "5/5 [==============================] - 0s 5ms/step - loss: -7190.0156 - Accuracy: 0.0000e+00\n",
            "Epoch 263/300\n",
            "5/5 [==============================] - 0s 4ms/step - loss: -7190.0151 - Accuracy: 0.0000e+00\n",
            "Epoch 264/300\n",
            "5/5 [==============================] - 0s 4ms/step - loss: -7190.0156 - Accuracy: 0.0000e+00\n",
            "Epoch 265/300\n",
            "5/5 [==============================] - 0s 4ms/step - loss: -7190.0156 - Accuracy: 0.0000e+00\n",
            "Epoch 266/300\n",
            "5/5 [==============================] - 0s 4ms/step - loss: -7190.0156 - Accuracy: 0.0000e+00\n",
            "Epoch 267/300\n",
            "5/5 [==============================] - 0s 4ms/step - loss: -7190.0156 - Accuracy: 0.0000e+00\n",
            "Epoch 268/300\n",
            "5/5 [==============================] - 0s 6ms/step - loss: -7190.0156 - Accuracy: 0.0000e+00\n",
            "Epoch 269/300\n",
            "5/5 [==============================] - 0s 5ms/step - loss: -7190.0156 - Accuracy: 0.0000e+00\n",
            "Epoch 270/300\n",
            "5/5 [==============================] - 0s 4ms/step - loss: -7190.0156 - Accuracy: 0.0000e+00\n",
            "Epoch 271/300\n",
            "5/5 [==============================] - 0s 4ms/step - loss: -7190.0151 - Accuracy: 0.0000e+00\n",
            "Epoch 272/300\n",
            "5/5 [==============================] - 0s 4ms/step - loss: -7190.0156 - Accuracy: 0.0000e+00\n",
            "Epoch 273/300\n",
            "5/5 [==============================] - 0s 5ms/step - loss: -7190.0156 - Accuracy: 0.0000e+00\n",
            "Epoch 274/300\n",
            "5/5 [==============================] - 0s 5ms/step - loss: -7190.0156 - Accuracy: 0.0000e+00\n",
            "Epoch 275/300\n",
            "5/5 [==============================] - 0s 6ms/step - loss: -7190.0156 - Accuracy: 0.0000e+00\n",
            "Epoch 276/300\n",
            "5/5 [==============================] - 0s 5ms/step - loss: -7190.0156 - Accuracy: 0.0000e+00\n",
            "Epoch 277/300\n",
            "5/5 [==============================] - 0s 5ms/step - loss: -7190.0156 - Accuracy: 0.0000e+00\n",
            "Epoch 278/300\n",
            "5/5 [==============================] - 0s 5ms/step - loss: -7190.0156 - Accuracy: 0.0000e+00\n",
            "Epoch 279/300\n",
            "5/5 [==============================] - 0s 7ms/step - loss: -7190.0156 - Accuracy: 0.0000e+00\n",
            "Epoch 280/300\n",
            "5/5 [==============================] - 0s 5ms/step - loss: -7190.0156 - Accuracy: 0.0000e+00\n",
            "Epoch 281/300\n",
            "5/5 [==============================] - 0s 6ms/step - loss: -7190.0156 - Accuracy: 0.0000e+00\n",
            "Epoch 282/300\n",
            "5/5 [==============================] - 0s 4ms/step - loss: -7190.0156 - Accuracy: 0.0000e+00\n",
            "Epoch 283/300\n",
            "5/5 [==============================] - 0s 4ms/step - loss: -7190.0156 - Accuracy: 0.0000e+00\n",
            "Epoch 284/300\n",
            "5/5 [==============================] - 0s 5ms/step - loss: -7190.0151 - Accuracy: 0.0000e+00\n",
            "Epoch 285/300\n",
            "5/5 [==============================] - 0s 5ms/step - loss: -7190.0156 - Accuracy: 0.0000e+00\n",
            "Epoch 286/300\n",
            "5/5 [==============================] - 0s 5ms/step - loss: -7190.0156 - Accuracy: 0.0000e+00\n",
            "Epoch 287/300\n",
            "5/5 [==============================] - 0s 4ms/step - loss: -7190.0156 - Accuracy: 0.0000e+00\n",
            "Epoch 288/300\n",
            "5/5 [==============================] - 0s 5ms/step - loss: -7190.0156 - Accuracy: 0.0000e+00\n",
            "Epoch 289/300\n",
            "5/5 [==============================] - 0s 4ms/step - loss: -7190.0156 - Accuracy: 0.0000e+00\n",
            "Epoch 290/300\n",
            "5/5 [==============================] - 0s 5ms/step - loss: -7190.0156 - Accuracy: 0.0000e+00\n",
            "Epoch 291/300\n",
            "5/5 [==============================] - 0s 5ms/step - loss: -7190.0151 - Accuracy: 0.0000e+00\n",
            "Epoch 292/300\n",
            "5/5 [==============================] - 0s 4ms/step - loss: -7190.0156 - Accuracy: 0.0000e+00\n",
            "Epoch 293/300\n",
            "5/5 [==============================] - 0s 5ms/step - loss: -7190.0156 - Accuracy: 0.0000e+00\n",
            "Epoch 294/300\n",
            "5/5 [==============================] - 0s 4ms/step - loss: -7190.0151 - Accuracy: 0.0000e+00\n",
            "Epoch 295/300\n",
            "5/5 [==============================] - 0s 5ms/step - loss: -7190.0156 - Accuracy: 0.0000e+00\n",
            "Epoch 296/300\n",
            "5/5 [==============================] - 0s 5ms/step - loss: -7190.0156 - Accuracy: 0.0000e+00\n",
            "Epoch 297/300\n",
            "5/5 [==============================] - 0s 5ms/step - loss: -7190.0156 - Accuracy: 0.0000e+00\n",
            "Epoch 298/300\n",
            "5/5 [==============================] - 0s 4ms/step - loss: -7190.0156 - Accuracy: 0.0000e+00\n",
            "Epoch 299/300\n",
            "5/5 [==============================] - 0s 5ms/step - loss: -7190.0156 - Accuracy: 0.0000e+00\n",
            "Epoch 300/300\n",
            "5/5 [==============================] - 0s 5ms/step - loss: -7190.0156 - Accuracy: 0.0000e+00\n"
          ]
        },
        {
          "output_type": "execute_result",
          "data": {
            "text/plain": [
              "<keras.callbacks.History at 0x7f76d5b6b0d0>"
            ]
          },
          "metadata": {},
          "execution_count": 78
        }
      ]
    },
    {
      "cell_type": "code",
      "source": [
        "model_3.summary()"
      ],
      "metadata": {
        "colab": {
          "base_uri": "https://localhost:8080/"
        },
        "id": "PrvLiEiW73lm",
        "outputId": "e4a5e786-af2d-48c9-9473-4edc17a4e178"
      },
      "execution_count": 79,
      "outputs": [
        {
          "output_type": "stream",
          "name": "stdout",
          "text": [
            "Model: \"sequential_16\"\n",
            "_________________________________________________________________\n",
            " Layer (type)                Output Shape              Param #   \n",
            "=================================================================\n",
            " dense_42 (Dense)            (None, None, 100)         200       \n",
            "                                                                 \n",
            " dense_43 (Dense)            (None, None, 10)          1010      \n",
            "                                                                 \n",
            " dense_44 (Dense)            (None, None, 1)           11        \n",
            "                                                                 \n",
            "=================================================================\n",
            "Total params: 1,221\n",
            "Trainable params: 1,221\n",
            "Non-trainable params: 0\n",
            "_________________________________________________________________\n"
          ]
        }
      ]
    },
    {
      "cell_type": "code",
      "source": [
        "tf.random.set_seed(42)\n",
        "\n",
        "model_3=tf.keras.Sequential([\n",
        "                             tf.keras.layers.Dense(100),\n",
        "                             tf.keras.layers.Dense(10),\n",
        "                             tf.keras.layers.Dense(1)\n",
        "])\n",
        "model_3.compile(loss=tf.keras.losses.mae,\n",
        "                optimizer=tf.keras.optimizers.Adam(),\n",
        "                metrics=[\"mae\"])\n",
        "\n",
        "model_3.fit(tf.expand_dims(X_reg_train,axis=-1),y_reg_train, epochs=100)"
      ],
      "metadata": {
        "colab": {
          "base_uri": "https://localhost:8080/"
        },
        "id": "37SjP9P68Rhd",
        "outputId": "5b0e184a-0bc5-4b2e-95bd-6b76d5d91521"
      },
      "execution_count": 80,
      "outputs": [
        {
          "output_type": "stream",
          "name": "stdout",
          "text": [
            "Epoch 1/100\n",
            "5/5 [==============================] - 0s 3ms/step - loss: 248.2155 - mae: 248.2155\n",
            "Epoch 2/100\n",
            "5/5 [==============================] - 0s 3ms/step - loss: 138.9005 - mae: 138.9005\n",
            "Epoch 3/100\n",
            "5/5 [==============================] - 0s 3ms/step - loss: 53.1039 - mae: 53.1039\n",
            "Epoch 4/100\n",
            "5/5 [==============================] - 0s 3ms/step - loss: 73.5170 - mae: 73.5170\n",
            "Epoch 5/100\n",
            "5/5 [==============================] - 0s 3ms/step - loss: 71.2358 - mae: 71.2358\n",
            "Epoch 6/100\n",
            "5/5 [==============================] - 0s 3ms/step - loss: 47.0040 - mae: 47.0040\n",
            "Epoch 7/100\n",
            "5/5 [==============================] - 0s 3ms/step - loss: 45.9386 - mae: 45.9386\n",
            "Epoch 8/100\n",
            "5/5 [==============================] - 0s 3ms/step - loss: 42.3638 - mae: 42.3638\n",
            "Epoch 9/100\n",
            "5/5 [==============================] - 0s 3ms/step - loss: 43.6831 - mae: 43.6831\n",
            "Epoch 10/100\n",
            "5/5 [==============================] - 0s 3ms/step - loss: 42.6198 - mae: 42.6198\n",
            "Epoch 11/100\n",
            "5/5 [==============================] - 0s 3ms/step - loss: 42.4797 - mae: 42.4797\n",
            "Epoch 12/100\n",
            "5/5 [==============================] - 0s 4ms/step - loss: 41.5537 - mae: 41.5537\n",
            "Epoch 13/100\n",
            "5/5 [==============================] - 0s 3ms/step - loss: 42.0972 - mae: 42.0972\n",
            "Epoch 14/100\n",
            "5/5 [==============================] - 0s 3ms/step - loss: 41.8647 - mae: 41.8647\n",
            "Epoch 15/100\n",
            "5/5 [==============================] - 0s 4ms/step - loss: 41.5342 - mae: 41.5342\n",
            "Epoch 16/100\n",
            "5/5 [==============================] - 0s 7ms/step - loss: 41.4028 - mae: 41.4028\n",
            "Epoch 17/100\n",
            "5/5 [==============================] - 0s 4ms/step - loss: 41.6887 - mae: 41.6887\n",
            "Epoch 18/100\n",
            "5/5 [==============================] - 0s 4ms/step - loss: 41.6137 - mae: 41.6137\n",
            "Epoch 19/100\n",
            "5/5 [==============================] - 0s 4ms/step - loss: 41.2796 - mae: 41.2796\n",
            "Epoch 20/100\n",
            "5/5 [==============================] - 0s 3ms/step - loss: 41.1947 - mae: 41.1947\n",
            "Epoch 21/100\n",
            "5/5 [==============================] - 0s 3ms/step - loss: 41.2130 - mae: 41.2130\n",
            "Epoch 22/100\n",
            "5/5 [==============================] - 0s 4ms/step - loss: 41.0893 - mae: 41.0893\n",
            "Epoch 23/100\n",
            "5/5 [==============================] - 0s 4ms/step - loss: 41.2019 - mae: 41.2019\n",
            "Epoch 24/100\n",
            "5/5 [==============================] - 0s 3ms/step - loss: 40.9989 - mae: 40.9989\n",
            "Epoch 25/100\n",
            "5/5 [==============================] - 0s 4ms/step - loss: 41.0131 - mae: 41.0131\n",
            "Epoch 26/100\n",
            "5/5 [==============================] - 0s 3ms/step - loss: 41.0654 - mae: 41.0654\n",
            "Epoch 27/100\n",
            "5/5 [==============================] - 0s 4ms/step - loss: 40.8764 - mae: 40.8764\n",
            "Epoch 28/100\n",
            "5/5 [==============================] - 0s 4ms/step - loss: 41.0545 - mae: 41.0545\n",
            "Epoch 29/100\n",
            "5/5 [==============================] - 0s 4ms/step - loss: 41.0480 - mae: 41.0480\n",
            "Epoch 30/100\n",
            "5/5 [==============================] - 0s 3ms/step - loss: 40.8807 - mae: 40.8807\n",
            "Epoch 31/100\n",
            "5/5 [==============================] - 0s 3ms/step - loss: 41.2695 - mae: 41.2695\n",
            "Epoch 32/100\n",
            "5/5 [==============================] - 0s 3ms/step - loss: 40.9949 - mae: 40.9949\n",
            "Epoch 33/100\n",
            "5/5 [==============================] - 0s 3ms/step - loss: 41.0760 - mae: 41.0760\n",
            "Epoch 34/100\n",
            "5/5 [==============================] - 0s 4ms/step - loss: 41.2471 - mae: 41.2471\n",
            "Epoch 35/100\n",
            "5/5 [==============================] - 0s 3ms/step - loss: 40.6102 - mae: 40.6102\n",
            "Epoch 36/100\n",
            "5/5 [==============================] - 0s 3ms/step - loss: 41.1093 - mae: 41.1093\n",
            "Epoch 37/100\n",
            "5/5 [==============================] - 0s 5ms/step - loss: 40.8191 - mae: 40.8191\n",
            "Epoch 38/100\n",
            "5/5 [==============================] - 0s 3ms/step - loss: 40.2485 - mae: 40.2485\n",
            "Epoch 39/100\n",
            "5/5 [==============================] - 0s 5ms/step - loss: 41.0625 - mae: 41.0625\n",
            "Epoch 40/100\n",
            "5/5 [==============================] - 0s 4ms/step - loss: 40.5311 - mae: 40.5311\n",
            "Epoch 41/100\n",
            "5/5 [==============================] - 0s 4ms/step - loss: 40.5497 - mae: 40.5497\n",
            "Epoch 42/100\n",
            "5/5 [==============================] - 0s 3ms/step - loss: 40.4322 - mae: 40.4322\n",
            "Epoch 43/100\n",
            "5/5 [==============================] - 0s 3ms/step - loss: 40.5367 - mae: 40.5367\n",
            "Epoch 44/100\n",
            "5/5 [==============================] - 0s 4ms/step - loss: 40.2487 - mae: 40.2487\n",
            "Epoch 45/100\n",
            "5/5 [==============================] - 0s 4ms/step - loss: 40.5152 - mae: 40.5152\n",
            "Epoch 46/100\n",
            "5/5 [==============================] - 0s 4ms/step - loss: 40.3702 - mae: 40.3702\n",
            "Epoch 47/100\n",
            "5/5 [==============================] - 0s 3ms/step - loss: 40.4769 - mae: 40.4769\n",
            "Epoch 48/100\n",
            "5/5 [==============================] - 0s 3ms/step - loss: 40.1532 - mae: 40.1532\n",
            "Epoch 49/100\n",
            "5/5 [==============================] - 0s 3ms/step - loss: 40.7291 - mae: 40.7291\n",
            "Epoch 50/100\n",
            "5/5 [==============================] - 0s 4ms/step - loss: 40.1536 - mae: 40.1536\n",
            "Epoch 51/100\n",
            "5/5 [==============================] - 0s 4ms/step - loss: 40.2711 - mae: 40.2711\n",
            "Epoch 52/100\n",
            "5/5 [==============================] - 0s 3ms/step - loss: 40.6572 - mae: 40.6572\n",
            "Epoch 53/100\n",
            "5/5 [==============================] - 0s 3ms/step - loss: 40.6573 - mae: 40.6573\n",
            "Epoch 54/100\n",
            "5/5 [==============================] - 0s 4ms/step - loss: 40.6894 - mae: 40.6894\n",
            "Epoch 55/100\n",
            "5/5 [==============================] - 0s 4ms/step - loss: 41.2771 - mae: 41.2771\n",
            "Epoch 56/100\n",
            "5/5 [==============================] - 0s 4ms/step - loss: 41.8519 - mae: 41.8519\n",
            "Epoch 57/100\n",
            "5/5 [==============================] - 0s 4ms/step - loss: 40.7903 - mae: 40.7903\n",
            "Epoch 58/100\n",
            "5/5 [==============================] - 0s 4ms/step - loss: 40.3128 - mae: 40.3128\n",
            "Epoch 59/100\n",
            "5/5 [==============================] - 0s 5ms/step - loss: 40.7198 - mae: 40.7198\n",
            "Epoch 60/100\n",
            "5/5 [==============================] - 0s 3ms/step - loss: 40.1478 - mae: 40.1478\n",
            "Epoch 61/100\n",
            "5/5 [==============================] - 0s 3ms/step - loss: 40.1116 - mae: 40.1116\n",
            "Epoch 62/100\n",
            "5/5 [==============================] - 0s 4ms/step - loss: 40.7800 - mae: 40.7800\n",
            "Epoch 63/100\n",
            "5/5 [==============================] - 0s 3ms/step - loss: 39.7242 - mae: 39.7242\n",
            "Epoch 64/100\n",
            "5/5 [==============================] - 0s 4ms/step - loss: 40.1465 - mae: 40.1465\n",
            "Epoch 65/100\n",
            "5/5 [==============================] - 0s 3ms/step - loss: 39.6887 - mae: 39.6887\n",
            "Epoch 66/100\n",
            "5/5 [==============================] - 0s 3ms/step - loss: 40.2840 - mae: 40.2840\n",
            "Epoch 67/100\n",
            "5/5 [==============================] - 0s 4ms/step - loss: 39.5541 - mae: 39.5541\n",
            "Epoch 68/100\n",
            "5/5 [==============================] - 0s 3ms/step - loss: 39.7378 - mae: 39.7378\n",
            "Epoch 69/100\n",
            "5/5 [==============================] - 0s 4ms/step - loss: 39.9784 - mae: 39.9784\n",
            "Epoch 70/100\n",
            "5/5 [==============================] - 0s 3ms/step - loss: 40.0016 - mae: 40.0016\n",
            "Epoch 71/100\n",
            "5/5 [==============================] - 0s 4ms/step - loss: 40.0913 - mae: 40.0913\n",
            "Epoch 72/100\n",
            "5/5 [==============================] - 0s 4ms/step - loss: 39.2547 - mae: 39.2547\n",
            "Epoch 73/100\n",
            "5/5 [==============================] - 0s 3ms/step - loss: 39.6828 - mae: 39.6828\n",
            "Epoch 74/100\n",
            "5/5 [==============================] - 0s 3ms/step - loss: 39.5373 - mae: 39.5373\n",
            "Epoch 75/100\n",
            "5/5 [==============================] - 0s 4ms/step - loss: 39.6265 - mae: 39.6265\n",
            "Epoch 76/100\n",
            "5/5 [==============================] - 0s 5ms/step - loss: 39.3110 - mae: 39.3110\n",
            "Epoch 77/100\n",
            "5/5 [==============================] - 0s 3ms/step - loss: 39.1599 - mae: 39.1599\n",
            "Epoch 78/100\n",
            "5/5 [==============================] - 0s 3ms/step - loss: 39.7550 - mae: 39.7550\n",
            "Epoch 79/100\n",
            "5/5 [==============================] - 0s 4ms/step - loss: 39.2542 - mae: 39.2542\n",
            "Epoch 80/100\n",
            "5/5 [==============================] - 0s 6ms/step - loss: 38.6968 - mae: 38.6968\n",
            "Epoch 81/100\n",
            "5/5 [==============================] - 0s 5ms/step - loss: 39.5442 - mae: 39.5442\n",
            "Epoch 82/100\n",
            "5/5 [==============================] - 0s 4ms/step - loss: 39.8686 - mae: 39.8686\n",
            "Epoch 83/100\n",
            "5/5 [==============================] - 0s 4ms/step - loss: 39.1693 - mae: 39.1693\n",
            "Epoch 84/100\n",
            "5/5 [==============================] - 0s 4ms/step - loss: 38.8840 - mae: 38.8840\n",
            "Epoch 85/100\n",
            "5/5 [==============================] - 0s 3ms/step - loss: 38.8887 - mae: 38.8887\n",
            "Epoch 86/100\n",
            "5/5 [==============================] - 0s 5ms/step - loss: 38.6614 - mae: 38.6614\n",
            "Epoch 87/100\n",
            "5/5 [==============================] - 0s 3ms/step - loss: 38.8399 - mae: 38.8399\n",
            "Epoch 88/100\n",
            "5/5 [==============================] - 0s 3ms/step - loss: 38.6604 - mae: 38.6604\n",
            "Epoch 89/100\n",
            "5/5 [==============================] - 0s 3ms/step - loss: 38.7559 - mae: 38.7559\n",
            "Epoch 90/100\n",
            "5/5 [==============================] - 0s 4ms/step - loss: 38.5442 - mae: 38.5442\n",
            "Epoch 91/100\n",
            "5/5 [==============================] - 0s 4ms/step - loss: 38.3247 - mae: 38.3247\n",
            "Epoch 92/100\n",
            "5/5 [==============================] - 0s 4ms/step - loss: 38.8431 - mae: 38.8431\n",
            "Epoch 93/100\n",
            "5/5 [==============================] - 0s 4ms/step - loss: 39.1137 - mae: 39.1137\n",
            "Epoch 94/100\n",
            "5/5 [==============================] - 0s 4ms/step - loss: 38.1463 - mae: 38.1463\n",
            "Epoch 95/100\n",
            "5/5 [==============================] - 0s 4ms/step - loss: 38.3998 - mae: 38.3998\n",
            "Epoch 96/100\n",
            "5/5 [==============================] - 0s 5ms/step - loss: 38.5599 - mae: 38.5599\n",
            "Epoch 97/100\n",
            "5/5 [==============================] - 0s 3ms/step - loss: 38.1038 - mae: 38.1038\n",
            "Epoch 98/100\n",
            "5/5 [==============================] - 0s 3ms/step - loss: 39.0081 - mae: 39.0081\n",
            "Epoch 99/100\n",
            "5/5 [==============================] - 0s 3ms/step - loss: 38.3056 - mae: 38.3056\n",
            "Epoch 100/100\n",
            "5/5 [==============================] - 0s 4ms/step - loss: 37.9976 - mae: 37.9976\n"
          ]
        },
        {
          "output_type": "execute_result",
          "data": {
            "text/plain": [
              "<keras.callbacks.History at 0x7f76d5bbb490>"
            ]
          },
          "metadata": {},
          "execution_count": 80
        }
      ]
    },
    {
      "cell_type": "code",
      "source": [
        "#Make predictions with our trained Model\n",
        "y_reg_preds=model_3.predict(y_reg_test)\n",
        "\n",
        "#Plot the model's predictions against our regression data\n",
        "\n",
        "plt.figure(figsize=(10,7))\n",
        "plt.scatter(X_reg_train,y_reg_train,c=\"b\",label=\"Training Data\")\n",
        "plt.scatter(X_reg_test,y_reg_test,c=\"g\",label=\"Testing Data\")\n",
        "plt.scatter(X_reg_test,y_reg_preds.squeeze(),c=\"r\",label=\"Predictions\")\n",
        "plt.legend()\n"
      ],
      "metadata": {
        "colab": {
          "base_uri": "https://localhost:8080/",
          "height": 446
        },
        "id": "JhzXFDIiwgLW",
        "outputId": "7c618f43-0447-4dd9-c984-9114441f821d"
      },
      "execution_count": 81,
      "outputs": [
        {
          "output_type": "execute_result",
          "data": {
            "text/plain": [
              "<matplotlib.legend.Legend at 0x7f76d46d4410>"
            ]
          },
          "metadata": {},
          "execution_count": 81
        },
        {
          "output_type": "display_data",
          "data": {
            "image/png": "[encoded data removed]",
            "text/plain": [
              "<Figure size 720x504 with 1 Axes>"
            ]
          },
          "metadata": {
            "needs_background": "light"
          }
        }
      ]
    },
    {
      "cell_type": "markdown",
      "source": [
        "# **The missing piece: Non-linearity**"
      ],
      "metadata": {
        "id": "jNmAsO6Czd12"
      }
    },
    {
      "cell_type": "code",
      "source": [
        "tf.random.set_seed(42)\n",
        "\n",
        "#Create the Model\n",
        "\n",
        "model_4=tf.keras.Sequential([\n",
        "                             tf.keras.layers.Dense(1,activation=tf.keras.activations.linear),\n",
        "                             tf.keras.layers.Dense(1)\n",
        "])\n",
        "\n",
        "#Compile the Model\n",
        "model_4.compile(loss=tf.keras.losses.binary_crossentropy,\n",
        "                optimizer=tf.keras.optimizers.Adam(lr=0.001),\n",
        "                metrics=[\"accuracy\"])\n",
        "\n",
        "#Fit the Model\n",
        "history=model_4.fit(X,y,epochs=100)"
      ],
      "metadata": {
        "colab": {
          "base_uri": "https://localhost:8080/"
        },
        "id": "Cr1Mv-iezitF",
        "outputId": "730b7d67-6775-4bb9-9d49-640a53f90236"
      },
      "execution_count": 82,
      "outputs": [
        {
          "output_type": "stream",
          "name": "stderr",
          "text": [
            "/usr/local/lib/python3.7/dist-packages/keras/optimizer_v2/adam.py:105: UserWarning: The `lr` argument is deprecated, use `learning_rate` instead.\n",
            "  super(Adam, self).__init__(name, **kwargs)\n"
          ]
        },
        {
          "output_type": "stream",
          "name": "stdout",
          "text": [
            "Epoch 1/100\n",
            "32/32 [==============================] - 1s 2ms/step - loss: 4.2380 - accuracy: 0.5000\n",
            "Epoch 2/100\n",
            "32/32 [==============================] - 0s 1ms/step - loss: 4.0223 - accuracy: 0.5000\n",
            "Epoch 3/100\n",
            "32/32 [==============================] - 0s 2ms/step - loss: 3.8296 - accuracy: 0.5000\n",
            "Epoch 4/100\n",
            "32/32 [==============================] - 0s 2ms/step - loss: 3.7654 - accuracy: 0.5000\n",
            "Epoch 5/100\n",
            "32/32 [==============================] - 0s 2ms/step - loss: 3.6464 - accuracy: 0.5000\n",
            "Epoch 6/100\n",
            "32/32 [==============================] - 0s 2ms/step - loss: 3.4960 - accuracy: 0.5000\n",
            "Epoch 7/100\n",
            "32/32 [==============================] - 0s 2ms/step - loss: 3.3804 - accuracy: 0.5000\n",
            "Epoch 8/100\n",
            "32/32 [==============================] - 0s 2ms/step - loss: 3.2279 - accuracy: 0.5000\n",
            "Epoch 9/100\n",
            "32/32 [==============================] - 0s 2ms/step - loss: 2.7024 - accuracy: 0.5000\n",
            "Epoch 10/100\n",
            "32/32 [==============================] - 0s 2ms/step - loss: 2.4002 - accuracy: 0.5000\n",
            "Epoch 11/100\n",
            "32/32 [==============================] - 0s 2ms/step - loss: 2.1984 - accuracy: 0.5000\n",
            "Epoch 12/100\n",
            "32/32 [==============================] - 0s 2ms/step - loss: 1.3257 - accuracy: 0.5000\n",
            "Epoch 13/100\n",
            "32/32 [==============================] - 0s 2ms/step - loss: 1.0542 - accuracy: 0.5000\n",
            "Epoch 14/100\n",
            "32/32 [==============================] - 0s 2ms/step - loss: 1.0261 - accuracy: 0.5000\n",
            "Epoch 15/100\n",
            "32/32 [==============================] - 0s 2ms/step - loss: 1.0069 - accuracy: 0.5000\n",
            "Epoch 16/100\n",
            "32/32 [==============================] - 0s 2ms/step - loss: 0.9914 - accuracy: 0.5000\n",
            "Epoch 17/100\n",
            "32/32 [==============================] - 0s 1ms/step - loss: 0.9776 - accuracy: 0.5000\n",
            "Epoch 18/100\n",
            "32/32 [==============================] - 0s 2ms/step - loss: 0.9656 - accuracy: 0.5000\n",
            "Epoch 19/100\n",
            "32/32 [==============================] - 0s 2ms/step - loss: 0.9549 - accuracy: 0.5000\n",
            "Epoch 20/100\n",
            "32/32 [==============================] - 0s 2ms/step - loss: 0.9448 - accuracy: 0.5000\n",
            "Epoch 21/100\n",
            "32/32 [==============================] - 0s 2ms/step - loss: 0.9357 - accuracy: 0.5000\n",
            "Epoch 22/100\n",
            "32/32 [==============================] - 0s 2ms/step - loss: 0.9269 - accuracy: 0.5000\n",
            "Epoch 23/100\n",
            "32/32 [==============================] - 0s 2ms/step - loss: 0.9190 - accuracy: 0.5000\n",
            "Epoch 24/100\n",
            "32/32 [==============================] - 0s 2ms/step - loss: 0.9115 - accuracy: 0.5000\n",
            "Epoch 25/100\n",
            "32/32 [==============================] - 0s 2ms/step - loss: 0.9046 - accuracy: 0.5000\n",
            "Epoch 26/100\n",
            "32/32 [==============================] - 0s 2ms/step - loss: 0.8976 - accuracy: 0.5000\n",
            "Epoch 27/100\n",
            "32/32 [==============================] - 0s 2ms/step - loss: 0.8912 - accuracy: 0.4990\n",
            "Epoch 28/100\n",
            "32/32 [==============================] - 0s 2ms/step - loss: 0.8850 - accuracy: 0.4960\n",
            "Epoch 29/100\n",
            "32/32 [==============================] - 0s 2ms/step - loss: 0.8790 - accuracy: 0.4950\n",
            "Epoch 30/100\n",
            "32/32 [==============================] - 0s 2ms/step - loss: 0.8732 - accuracy: 0.4950\n",
            "Epoch 31/100\n",
            "32/32 [==============================] - 0s 2ms/step - loss: 0.8678 - accuracy: 0.4870\n",
            "Epoch 32/100\n",
            "32/32 [==============================] - 0s 2ms/step - loss: 0.8623 - accuracy: 0.4790\n",
            "Epoch 33/100\n",
            "32/32 [==============================] - 0s 2ms/step - loss: 0.8573 - accuracy: 0.4750\n",
            "Epoch 34/100\n",
            "32/32 [==============================] - 0s 2ms/step - loss: 0.8525 - accuracy: 0.4730\n",
            "Epoch 35/100\n",
            "32/32 [==============================] - 0s 2ms/step - loss: 0.8477 - accuracy: 0.4650\n",
            "Epoch 36/100\n",
            "32/32 [==============================] - 0s 2ms/step - loss: 0.8432 - accuracy: 0.4590\n",
            "Epoch 37/100\n",
            "32/32 [==============================] - 0s 2ms/step - loss: 0.8388 - accuracy: 0.4560\n",
            "Epoch 38/100\n",
            "32/32 [==============================] - 0s 2ms/step - loss: 0.8347 - accuracy: 0.4470\n",
            "Epoch 39/100\n",
            "32/32 [==============================] - 0s 2ms/step - loss: 0.8305 - accuracy: 0.4420\n",
            "Epoch 40/100\n",
            "32/32 [==============================] - 0s 2ms/step - loss: 0.8266 - accuracy: 0.4380\n",
            "Epoch 41/100\n",
            "32/32 [==============================] - 0s 2ms/step - loss: 0.8227 - accuracy: 0.4340\n",
            "Epoch 42/100\n",
            "32/32 [==============================] - 0s 2ms/step - loss: 0.8189 - accuracy: 0.4290\n",
            "Epoch 43/100\n",
            "32/32 [==============================] - 0s 2ms/step - loss: 0.8151 - accuracy: 0.4280\n",
            "Epoch 44/100\n",
            "32/32 [==============================] - 0s 2ms/step - loss: 0.8116 - accuracy: 0.4280\n",
            "Epoch 45/100\n",
            "32/32 [==============================] - 0s 2ms/step - loss: 0.8082 - accuracy: 0.4200\n",
            "Epoch 46/100\n",
            "32/32 [==============================] - 0s 2ms/step - loss: 0.8049 - accuracy: 0.4160\n",
            "Epoch 47/100\n",
            "32/32 [==============================] - 0s 2ms/step - loss: 0.8018 - accuracy: 0.4150\n",
            "Epoch 48/100\n",
            "32/32 [==============================] - 0s 2ms/step - loss: 0.7986 - accuracy: 0.4130\n",
            "Epoch 49/100\n",
            "32/32 [==============================] - 0s 2ms/step - loss: 0.7956 - accuracy: 0.4140\n",
            "Epoch 50/100\n",
            "32/32 [==============================] - 0s 2ms/step - loss: 0.7926 - accuracy: 0.4170\n",
            "Epoch 51/100\n",
            "32/32 [==============================] - 0s 2ms/step - loss: 0.7897 - accuracy: 0.4200\n",
            "Epoch 52/100\n",
            "32/32 [==============================] - 0s 2ms/step - loss: 0.7870 - accuracy: 0.4210\n",
            "Epoch 53/100\n",
            "32/32 [==============================] - 0s 2ms/step - loss: 0.7843 - accuracy: 0.4280\n",
            "Epoch 54/100\n",
            "32/32 [==============================] - 0s 2ms/step - loss: 0.7817 - accuracy: 0.4350\n",
            "Epoch 55/100\n",
            "32/32 [==============================] - 0s 2ms/step - loss: 0.7791 - accuracy: 0.4480\n",
            "Epoch 56/100\n",
            "32/32 [==============================] - 0s 2ms/step - loss: 0.7766 - accuracy: 0.4510\n",
            "Epoch 57/100\n",
            "32/32 [==============================] - 0s 2ms/step - loss: 0.7742 - accuracy: 0.4530\n",
            "Epoch 58/100\n",
            "32/32 [==============================] - 0s 2ms/step - loss: 0.7718 - accuracy: 0.4530\n",
            "Epoch 59/100\n",
            "32/32 [==============================] - 0s 2ms/step - loss: 0.7696 - accuracy: 0.4550\n",
            "Epoch 60/100\n",
            "32/32 [==============================] - 0s 2ms/step - loss: 0.7674 - accuracy: 0.4570\n",
            "Epoch 61/100\n",
            "32/32 [==============================] - 0s 2ms/step - loss: 0.7654 - accuracy: 0.4560\n",
            "Epoch 62/100\n",
            "32/32 [==============================] - 0s 2ms/step - loss: 0.7634 - accuracy: 0.4600\n",
            "Epoch 63/100\n",
            "32/32 [==============================] - 0s 2ms/step - loss: 0.7613 - accuracy: 0.4610\n",
            "Epoch 64/100\n",
            "32/32 [==============================] - 0s 2ms/step - loss: 0.7595 - accuracy: 0.4640\n",
            "Epoch 65/100\n",
            "32/32 [==============================] - 0s 2ms/step - loss: 0.7577 - accuracy: 0.4590\n",
            "Epoch 66/100\n",
            "32/32 [==============================] - 0s 2ms/step - loss: 0.7558 - accuracy: 0.4630\n",
            "Epoch 67/100\n",
            "32/32 [==============================] - 0s 2ms/step - loss: 0.7541 - accuracy: 0.4620\n",
            "Epoch 68/100\n",
            "32/32 [==============================] - 0s 2ms/step - loss: 0.7524 - accuracy: 0.4640\n",
            "Epoch 69/100\n",
            "32/32 [==============================] - 0s 2ms/step - loss: 0.7507 - accuracy: 0.4660\n",
            "Epoch 70/100\n",
            "32/32 [==============================] - 0s 2ms/step - loss: 0.7491 - accuracy: 0.4660\n",
            "Epoch 71/100\n",
            "32/32 [==============================] - 0s 2ms/step - loss: 0.7475 - accuracy: 0.4680\n",
            "Epoch 72/100\n",
            "32/32 [==============================] - 0s 2ms/step - loss: 0.7460 - accuracy: 0.4710\n",
            "Epoch 73/100\n",
            "32/32 [==============================] - 0s 2ms/step - loss: 0.7445 - accuracy: 0.4720\n",
            "Epoch 74/100\n",
            "32/32 [==============================] - 0s 2ms/step - loss: 0.7430 - accuracy: 0.4740\n",
            "Epoch 75/100\n",
            "32/32 [==============================] - 0s 2ms/step - loss: 0.7416 - accuracy: 0.4730\n",
            "Epoch 76/100\n",
            "32/32 [==============================] - 0s 2ms/step - loss: 0.7403 - accuracy: 0.4750\n",
            "Epoch 77/100\n",
            "32/32 [==============================] - 0s 2ms/step - loss: 0.7390 - accuracy: 0.4730\n",
            "Epoch 78/100\n",
            "32/32 [==============================] - 0s 2ms/step - loss: 0.7377 - accuracy: 0.4720\n",
            "Epoch 79/100\n",
            "32/32 [==============================] - 0s 2ms/step - loss: 0.7365 - accuracy: 0.4730\n",
            "Epoch 80/100\n",
            "32/32 [==============================] - 0s 2ms/step - loss: 0.7353 - accuracy: 0.4760\n",
            "Epoch 81/100\n",
            "32/32 [==============================] - 0s 2ms/step - loss: 0.7341 - accuracy: 0.4740\n",
            "Epoch 82/100\n",
            "32/32 [==============================] - 0s 2ms/step - loss: 0.7330 - accuracy: 0.4750\n",
            "Epoch 83/100\n",
            "32/32 [==============================] - 0s 2ms/step - loss: 0.7320 - accuracy: 0.4790\n",
            "Epoch 84/100\n",
            "32/32 [==============================] - 0s 2ms/step - loss: 0.7309 - accuracy: 0.4790\n",
            "Epoch 85/100\n",
            "32/32 [==============================] - 0s 2ms/step - loss: 0.7299 - accuracy: 0.4810\n",
            "Epoch 86/100\n",
            "32/32 [==============================] - 0s 2ms/step - loss: 0.7290 - accuracy: 0.4820\n",
            "Epoch 87/100\n",
            "32/32 [==============================] - 0s 2ms/step - loss: 0.7280 - accuracy: 0.4850\n",
            "Epoch 88/100\n",
            "32/32 [==============================] - 0s 2ms/step - loss: 0.7271 - accuracy: 0.4850\n",
            "Epoch 89/100\n",
            "32/32 [==============================] - 0s 2ms/step - loss: 0.7263 - accuracy: 0.4870\n",
            "Epoch 90/100\n",
            "32/32 [==============================] - 0s 2ms/step - loss: 0.7254 - accuracy: 0.4880\n",
            "Epoch 91/100\n",
            "32/32 [==============================] - 0s 2ms/step - loss: 0.7246 - accuracy: 0.4900\n",
            "Epoch 92/100\n",
            "32/32 [==============================] - 0s 2ms/step - loss: 0.7238 - accuracy: 0.4890\n",
            "Epoch 93/100\n",
            "32/32 [==============================] - 0s 2ms/step - loss: 0.7230 - accuracy: 0.4890\n",
            "Epoch 94/100\n",
            "32/32 [==============================] - 0s 2ms/step - loss: 0.7223 - accuracy: 0.4860\n",
            "Epoch 95/100\n",
            "32/32 [==============================] - 0s 2ms/step - loss: 0.7215 - accuracy: 0.4860\n",
            "Epoch 96/100\n",
            "32/32 [==============================] - 0s 2ms/step - loss: 0.7208 - accuracy: 0.4860\n",
            "Epoch 97/100\n",
            "32/32 [==============================] - 0s 2ms/step - loss: 0.7202 - accuracy: 0.4880\n",
            "Epoch 98/100\n",
            "32/32 [==============================] - 0s 2ms/step - loss: 0.7195 - accuracy: 0.4870\n",
            "Epoch 99/100\n",
            "32/32 [==============================] - 0s 2ms/step - loss: 0.7188 - accuracy: 0.4870\n",
            "Epoch 100/100\n",
            "32/32 [==============================] - 0s 2ms/step - loss: 0.7181 - accuracy: 0.4850\n"
          ]
        }
      ]
    },
    {
      "cell_type": "code",
      "source": [
        "plt.scatter(X[:,0],X[:,1],c=y,cmap=plt.cm.RdYlBu)"
      ],
      "metadata": {
        "colab": {
          "base_uri": "https://localhost:8080/",
          "height": 284
        },
        "id": "cBCVpro32YxX",
        "outputId": "91e41dc2-c042-442d-8e02-5a52453222dd"
      },
      "execution_count": 83,
      "outputs": [
        {
          "output_type": "execute_result",
          "data": {
            "text/plain": [
              "<matplotlib.collections.PathCollection at 0x7f76d7047a90>"
            ]
          },
          "metadata": {},
          "execution_count": 83
        },
        {
          "output_type": "display_data",
          "data": {
            "image/png": "[encoded data removed]",
            "text/plain": [
              "<Figure size 432x288 with 1 Axes>"
            ]
          },
          "metadata": {
            "needs_background": "light"
          }
        }
      ]
    },
    {
      "cell_type": "markdown",
      "source": [
        "# **Now we are gonna check how our model is predicting**"
      ],
      "metadata": {
        "id": "GS42yrlp21Va"
      }
    },
    {
      "cell_type": "code",
      "source": [
        "#Check the decision boundary (Blue is the blue class, yellow is the crossover, red is red class)\n",
        "plot_decision_boundary(model_4,X,y)"
      ],
      "metadata": {
        "colab": {
          "base_uri": "https://localhost:8080/",
          "height": 284
        },
        "id": "ZRlWIqyg3CdK",
        "outputId": "3499f07a-5d45-4e2e-92aa-a4644beb51d7"
      },
      "execution_count": 84,
      "outputs": [
        {
          "output_type": "stream",
          "name": "stdout",
          "text": [
            "Doing Binary Classification...\n"
          ]
        },
        {
          "output_type": "display_data",
          "data": {
            "image/png": "[encoded data removed]",
            "text/plain": [
              "<Figure size 432x288 with 1 Axes>"
            ]
          },
          "metadata": {
            "needs_background": "light"
          }
        }
      ]
    },
    {
      "cell_type": "code",
      "source": [
        "tf.random.set_seed(42)\n",
        "\n",
        "#Create the Model\n",
        "\n",
        "model_5=tf.keras.Sequential([\n",
        "                             tf.keras.layers.Dense(1,activation=tf.keras.activations.relu),\n",
        "                             tf.keras.layers.Dense(1)\n",
        "])\n",
        "\n",
        "#Compile the Model\n",
        "model_5.compile(loss=tf.keras.losses.binary_crossentropy,\n",
        "                optimizer=tf.keras.optimizers.Adam(lr=0.001),\n",
        "                metrics=[\"accuracy\"])\n",
        "\n",
        "#Fit the Model\n",
        "history=model_5.fit(X,y,epochs=100)"
      ],
      "metadata": {
        "colab": {
          "base_uri": "https://localhost:8080/"
        },
        "id": "yNKYLatH3io0",
        "outputId": "46b64fb0-a25a-49fb-8f2f-4f5af2064866"
      },
      "execution_count": 85,
      "outputs": [
        {
          "output_type": "stream",
          "name": "stderr",
          "text": [
            "/usr/local/lib/python3.7/dist-packages/keras/optimizer_v2/adam.py:105: UserWarning: The `lr` argument is deprecated, use `learning_rate` instead.\n",
            "  super(Adam, self).__init__(name, **kwargs)\n"
          ]
        },
        {
          "output_type": "stream",
          "name": "stdout",
          "text": [
            "Epoch 1/100\n",
            "32/32 [==============================] - 1s 2ms/step - loss: 1.8377 - accuracy: 0.5000\n",
            "Epoch 2/100\n",
            "32/32 [==============================] - 0s 2ms/step - loss: 1.4449 - accuracy: 0.5000\n",
            "Epoch 3/100\n",
            "32/32 [==============================] - 0s 2ms/step - loss: 1.3410 - accuracy: 0.5000\n",
            "Epoch 4/100\n",
            "32/32 [==============================] - 0s 2ms/step - loss: 1.2678 - accuracy: 0.4770\n",
            "Epoch 5/100\n",
            "32/32 [==============================] - 0s 2ms/step - loss: 1.2116 - accuracy: 0.4390\n",
            "Epoch 6/100\n",
            "32/32 [==============================] - 0s 2ms/step - loss: 1.1664 - accuracy: 0.4180\n",
            "Epoch 7/100\n",
            "32/32 [==============================] - 0s 2ms/step - loss: 1.1294 - accuracy: 0.4250\n",
            "Epoch 8/100\n",
            "32/32 [==============================] - 0s 2ms/step - loss: 1.0970 - accuracy: 0.4420\n",
            "Epoch 9/100\n",
            "32/32 [==============================] - 0s 2ms/step - loss: 1.0670 - accuracy: 0.4540\n",
            "Epoch 10/100\n",
            "32/32 [==============================] - 0s 2ms/step - loss: 1.0407 - accuracy: 0.4550\n",
            "Epoch 11/100\n",
            "32/32 [==============================] - 0s 2ms/step - loss: 1.0147 - accuracy: 0.4600\n",
            "Epoch 12/100\n",
            "32/32 [==============================] - 0s 2ms/step - loss: 0.9872 - accuracy: 0.4630\n",
            "Epoch 13/100\n",
            "32/32 [==============================] - 0s 2ms/step - loss: 0.9579 - accuracy: 0.4620\n",
            "Epoch 14/100\n",
            "32/32 [==============================] - 0s 2ms/step - loss: 0.9201 - accuracy: 0.4660\n",
            "Epoch 15/100\n",
            "32/32 [==============================] - 0s 2ms/step - loss: 0.8514 - accuracy: 0.4660\n",
            "Epoch 16/100\n",
            "32/32 [==============================] - 0s 2ms/step - loss: 0.7888 - accuracy: 0.4720\n",
            "Epoch 17/100\n",
            "32/32 [==============================] - 0s 2ms/step - loss: 0.7580 - accuracy: 0.4740\n",
            "Epoch 18/100\n",
            "32/32 [==============================] - 0s 2ms/step - loss: 0.7392 - accuracy: 0.4760\n",
            "Epoch 19/100\n",
            "32/32 [==============================] - 0s 2ms/step - loss: 0.7273 - accuracy: 0.4850\n",
            "Epoch 20/100\n",
            "32/32 [==============================] - 0s 2ms/step - loss: 0.7180 - accuracy: 0.4870\n",
            "Epoch 21/100\n",
            "32/32 [==============================] - 0s 2ms/step - loss: 0.7121 - accuracy: 0.4880\n",
            "Epoch 22/100\n",
            "32/32 [==============================] - 0s 2ms/step - loss: 0.7070 - accuracy: 0.4880\n",
            "Epoch 23/100\n",
            "32/32 [==============================] - 0s 2ms/step - loss: 0.7036 - accuracy: 0.4870\n",
            "Epoch 24/100\n",
            "32/32 [==============================] - 0s 2ms/step - loss: 0.7011 - accuracy: 0.4900\n",
            "Epoch 25/100\n",
            "32/32 [==============================] - 0s 2ms/step - loss: 0.6993 - accuracy: 0.4860\n",
            "Epoch 26/100\n",
            "32/32 [==============================] - 0s 2ms/step - loss: 0.6977 - accuracy: 0.4910\n",
            "Epoch 27/100\n",
            "32/32 [==============================] - 0s 2ms/step - loss: 0.6970 - accuracy: 0.4950\n",
            "Epoch 28/100\n",
            "32/32 [==============================] - 0s 2ms/step - loss: 0.6959 - accuracy: 0.4970\n",
            "Epoch 29/100\n",
            "32/32 [==============================] - 0s 2ms/step - loss: 0.6955 - accuracy: 0.4950\n",
            "Epoch 30/100\n",
            "32/32 [==============================] - 0s 2ms/step - loss: 0.6949 - accuracy: 0.4970\n",
            "Epoch 31/100\n",
            "32/32 [==============================] - 0s 2ms/step - loss: 0.6946 - accuracy: 0.4990\n",
            "Epoch 32/100\n",
            "32/32 [==============================] - 0s 2ms/step - loss: 0.6943 - accuracy: 0.4910\n",
            "Epoch 33/100\n",
            "32/32 [==============================] - 0s 2ms/step - loss: 0.6940 - accuracy: 0.5000\n",
            "Epoch 34/100\n",
            "32/32 [==============================] - 0s 2ms/step - loss: 0.6939 - accuracy: 0.4910\n",
            "Epoch 35/100\n",
            "32/32 [==============================] - 0s 2ms/step - loss: 0.6937 - accuracy: 0.4940\n",
            "Epoch 36/100\n",
            "32/32 [==============================] - 0s 2ms/step - loss: 0.6935 - accuracy: 0.4930\n",
            "Epoch 37/100\n",
            "32/32 [==============================] - 0s 2ms/step - loss: 0.6934 - accuracy: 0.4950\n",
            "Epoch 38/100\n",
            "32/32 [==============================] - 0s 2ms/step - loss: 0.6935 - accuracy: 0.4900\n",
            "Epoch 39/100\n",
            "32/32 [==============================] - 0s 2ms/step - loss: 0.6934 - accuracy: 0.4840\n",
            "Epoch 40/100\n",
            "32/32 [==============================] - 0s 2ms/step - loss: 0.6935 - accuracy: 0.5000\n",
            "Epoch 41/100\n",
            "32/32 [==============================] - 0s 2ms/step - loss: 0.6936 - accuracy: 0.5060\n",
            "Epoch 42/100\n",
            "32/32 [==============================] - 0s 2ms/step - loss: 0.6935 - accuracy: 0.4800\n",
            "Epoch 43/100\n",
            "32/32 [==============================] - 0s 2ms/step - loss: 0.6933 - accuracy: 0.5050\n",
            "Epoch 44/100\n",
            "32/32 [==============================] - 0s 2ms/step - loss: 0.6936 - accuracy: 0.4810\n",
            "Epoch 45/100\n",
            "32/32 [==============================] - 0s 2ms/step - loss: 0.6933 - accuracy: 0.4550\n",
            "Epoch 46/100\n",
            "32/32 [==============================] - 0s 2ms/step - loss: 0.6932 - accuracy: 0.4920\n",
            "Epoch 47/100\n",
            "32/32 [==============================] - 0s 2ms/step - loss: 0.6935 - accuracy: 0.4870\n",
            "Epoch 48/100\n",
            "32/32 [==============================] - 0s 2ms/step - loss: 0.6934 - accuracy: 0.5100\n",
            "Epoch 49/100\n",
            "32/32 [==============================] - 0s 2ms/step - loss: 0.6934 - accuracy: 0.4770\n",
            "Epoch 50/100\n",
            "32/32 [==============================] - 0s 2ms/step - loss: 0.6934 - accuracy: 0.5000\n",
            "Epoch 51/100\n",
            "32/32 [==============================] - 0s 2ms/step - loss: 0.6933 - accuracy: 0.4760\n",
            "Epoch 52/100\n",
            "32/32 [==============================] - 0s 2ms/step - loss: 0.6934 - accuracy: 0.5010\n",
            "Epoch 53/100\n",
            "32/32 [==============================] - 0s 2ms/step - loss: 0.6935 - accuracy: 0.4880\n",
            "Epoch 54/100\n",
            "32/32 [==============================] - 0s 2ms/step - loss: 0.6933 - accuracy: 0.5530\n",
            "Epoch 55/100\n",
            "32/32 [==============================] - 0s 2ms/step - loss: 0.6935 - accuracy: 0.5060\n",
            "Epoch 56/100\n",
            "32/32 [==============================] - 0s 2ms/step - loss: 0.6935 - accuracy: 0.5200\n",
            "Epoch 57/100\n",
            "32/32 [==============================] - 0s 2ms/step - loss: 0.6933 - accuracy: 0.4910\n",
            "Epoch 58/100\n",
            "32/32 [==============================] - 0s 2ms/step - loss: 0.6934 - accuracy: 0.4990\n",
            "Epoch 59/100\n",
            "32/32 [==============================] - 0s 2ms/step - loss: 0.6938 - accuracy: 0.5000\n",
            "Epoch 60/100\n",
            "32/32 [==============================] - 0s 2ms/step - loss: 0.6934 - accuracy: 0.5000\n",
            "Epoch 61/100\n",
            "32/32 [==============================] - 0s 2ms/step - loss: 0.6935 - accuracy: 0.4900\n",
            "Epoch 62/100\n",
            "32/32 [==============================] - 0s 2ms/step - loss: 0.6934 - accuracy: 0.4820\n",
            "Epoch 63/100\n",
            "32/32 [==============================] - 0s 2ms/step - loss: 0.6933 - accuracy: 0.4700\n",
            "Epoch 64/100\n",
            "32/32 [==============================] - 0s 2ms/step - loss: 0.6934 - accuracy: 0.4820\n",
            "Epoch 65/100\n",
            "32/32 [==============================] - 0s 1ms/step - loss: 0.6934 - accuracy: 0.4620\n",
            "Epoch 66/100\n",
            "32/32 [==============================] - 0s 2ms/step - loss: 0.6934 - accuracy: 0.4760\n",
            "Epoch 67/100\n",
            "32/32 [==============================] - 0s 2ms/step - loss: 0.6934 - accuracy: 0.4830\n",
            "Epoch 68/100\n",
            "32/32 [==============================] - 0s 2ms/step - loss: 0.6933 - accuracy: 0.4680\n",
            "Epoch 69/100\n",
            "32/32 [==============================] - 0s 2ms/step - loss: 0.6933 - accuracy: 0.5010\n",
            "Epoch 70/100\n",
            "32/32 [==============================] - 0s 2ms/step - loss: 0.6934 - accuracy: 0.4970\n",
            "Epoch 71/100\n",
            "32/32 [==============================] - 0s 2ms/step - loss: 0.6933 - accuracy: 0.4680\n",
            "Epoch 72/100\n",
            "32/32 [==============================] - 0s 2ms/step - loss: 0.6934 - accuracy: 0.5070\n",
            "Epoch 73/100\n",
            "32/32 [==============================] - 0s 2ms/step - loss: 0.6934 - accuracy: 0.5320\n",
            "Epoch 74/100\n",
            "32/32 [==============================] - 0s 2ms/step - loss: 0.6933 - accuracy: 0.5290\n",
            "Epoch 75/100\n",
            "32/32 [==============================] - 0s 2ms/step - loss: 0.6935 - accuracy: 0.5000\n",
            "Epoch 76/100\n",
            "32/32 [==============================] - 0s 2ms/step - loss: 0.6935 - accuracy: 0.4730\n",
            "Epoch 77/100\n",
            "32/32 [==============================] - 0s 2ms/step - loss: 0.6935 - accuracy: 0.4870\n",
            "Epoch 78/100\n",
            "32/32 [==============================] - 0s 2ms/step - loss: 0.6934 - accuracy: 0.4830\n",
            "Epoch 79/100\n",
            "32/32 [==============================] - 0s 2ms/step - loss: 0.6935 - accuracy: 0.4640\n",
            "Epoch 80/100\n",
            "32/32 [==============================] - 0s 2ms/step - loss: 0.6933 - accuracy: 0.5040\n",
            "Epoch 81/100\n",
            "32/32 [==============================] - 0s 2ms/step - loss: 0.6936 - accuracy: 0.5000\n",
            "Epoch 82/100\n",
            "32/32 [==============================] - 0s 2ms/step - loss: 0.6935 - accuracy: 0.5020\n",
            "Epoch 83/100\n",
            "32/32 [==============================] - 0s 2ms/step - loss: 0.6936 - accuracy: 0.4840\n",
            "Epoch 84/100\n",
            "32/32 [==============================] - 0s 2ms/step - loss: 0.6932 - accuracy: 0.5070\n",
            "Epoch 85/100\n",
            "32/32 [==============================] - 0s 2ms/step - loss: 0.6933 - accuracy: 0.5000\n",
            "Epoch 86/100\n",
            "32/32 [==============================] - 0s 2ms/step - loss: 0.6935 - accuracy: 0.5000\n",
            "Epoch 87/100\n",
            "32/32 [==============================] - 0s 2ms/step - loss: 0.6933 - accuracy: 0.5000\n",
            "Epoch 88/100\n",
            "32/32 [==============================] - 0s 2ms/step - loss: 0.6933 - accuracy: 0.4680\n",
            "Epoch 89/100\n",
            "32/32 [==============================] - 0s 2ms/step - loss: 0.6934 - accuracy: 0.4590\n",
            "Epoch 90/100\n",
            "32/32 [==============================] - 0s 2ms/step - loss: 0.6937 - accuracy: 0.4980\n",
            "Epoch 91/100\n",
            "32/32 [==============================] - 0s 2ms/step - loss: 0.6933 - accuracy: 0.4910\n",
            "Epoch 92/100\n",
            "32/32 [==============================] - 0s 2ms/step - loss: 0.6935 - accuracy: 0.4850\n",
            "Epoch 93/100\n",
            "32/32 [==============================] - 0s 2ms/step - loss: 0.6938 - accuracy: 0.4970\n",
            "Epoch 94/100\n",
            "32/32 [==============================] - 0s 2ms/step - loss: 0.6934 - accuracy: 0.4710\n",
            "Epoch 95/100\n",
            "32/32 [==============================] - 0s 2ms/step - loss: 0.6934 - accuracy: 0.4720\n",
            "Epoch 96/100\n",
            "32/32 [==============================] - 0s 2ms/step - loss: 0.6934 - accuracy: 0.4880\n",
            "Epoch 97/100\n",
            "32/32 [==============================] - 0s 2ms/step - loss: 0.6934 - accuracy: 0.4510\n",
            "Epoch 98/100\n",
            "32/32 [==============================] - 0s 2ms/step - loss: 0.6934 - accuracy: 0.4640\n",
            "Epoch 99/100\n",
            "32/32 [==============================] - 0s 2ms/step - loss: 0.6935 - accuracy: 0.4940\n",
            "Epoch 100/100\n",
            "32/32 [==============================] - 0s 2ms/step - loss: 0.6936 - accuracy: 0.5180\n"
          ]
        }
      ]
    },
    {
      "cell_type": "code",
      "source": [
        "tf.random.set_seed(42)\n",
        "\n",
        "#Create the Model\n",
        "\n",
        "model_6=tf.keras.Sequential([\n",
        "                             tf.keras.layers.Dense(1,activation=tf.keras.activations.relu),\n",
        "                             tf.keras.layers.Dense(1,activation=tf.keras.activations.relu),\n",
        "                             tf.keras.layers.Dense(1)\n",
        "])\n",
        "\n",
        "#Compile the Model\n",
        "model_6.compile(loss=tf.keras.losses.binary_crossentropy,\n",
        "                optimizer=tf.keras.optimizers.Adam(lr=0.001),\n",
        "                metrics=[\"accuracy\"])\n",
        "\n",
        "#Fit the Model\n",
        "history=model_6.fit(X,y,epochs=100)"
      ],
      "metadata": {
        "colab": {
          "base_uri": "https://localhost:8080/"
        },
        "id": "zjiJXmmW38Ai",
        "outputId": "58e07686-21a4-4666-a4c1-6170db6d4652"
      },
      "execution_count": 86,
      "outputs": [
        {
          "output_type": "stream",
          "name": "stdout",
          "text": [
            "Epoch 1/100\n"
          ]
        },
        {
          "output_type": "stream",
          "name": "stderr",
          "text": [
            "/usr/local/lib/python3.7/dist-packages/keras/optimizer_v2/adam.py:105: UserWarning: The `lr` argument is deprecated, use `learning_rate` instead.\n",
            "  super(Adam, self).__init__(name, **kwargs)\n"
          ]
        },
        {
          "output_type": "stream",
          "name": "stdout",
          "text": [
            "32/32 [==============================] - 1s 2ms/step - loss: 1.7018 - accuracy: 0.5000\n",
            "Epoch 2/100\n",
            "32/32 [==============================] - 0s 2ms/step - loss: 1.2844 - accuracy: 0.5000\n",
            "Epoch 3/100\n",
            "32/32 [==============================] - 0s 2ms/step - loss: 1.1750 - accuracy: 0.5000\n",
            "Epoch 4/100\n",
            "32/32 [==============================] - 0s 2ms/step - loss: 1.1013 - accuracy: 0.4720\n",
            "Epoch 5/100\n",
            "32/32 [==============================] - 0s 2ms/step - loss: 1.0471 - accuracy: 0.4260\n",
            "Epoch 6/100\n",
            "32/32 [==============================] - 0s 2ms/step - loss: 1.0059 - accuracy: 0.4230\n",
            "Epoch 7/100\n",
            "32/32 [==============================] - 0s 2ms/step - loss: 0.9742 - accuracy: 0.4490\n",
            "Epoch 8/100\n",
            "32/32 [==============================] - 0s 2ms/step - loss: 0.9480 - accuracy: 0.4610\n",
            "Epoch 9/100\n",
            "32/32 [==============================] - 0s 2ms/step - loss: 0.9255 - accuracy: 0.4600\n",
            "Epoch 10/100\n",
            "32/32 [==============================] - 0s 2ms/step - loss: 0.9046 - accuracy: 0.4630\n",
            "Epoch 11/100\n",
            "32/32 [==============================] - 0s 2ms/step - loss: 0.8858 - accuracy: 0.4690\n",
            "Epoch 12/100\n",
            "32/32 [==============================] - 0s 2ms/step - loss: 0.8689 - accuracy: 0.4680\n",
            "Epoch 13/100\n",
            "32/32 [==============================] - 0s 2ms/step - loss: 0.8516 - accuracy: 0.4740\n",
            "Epoch 14/100\n",
            "32/32 [==============================] - 0s 2ms/step - loss: 0.8348 - accuracy: 0.4760\n",
            "Epoch 15/100\n",
            "32/32 [==============================] - 0s 2ms/step - loss: 0.8178 - accuracy: 0.4730\n",
            "Epoch 16/100\n",
            "32/32 [==============================] - 0s 2ms/step - loss: 0.7988 - accuracy: 0.4750\n",
            "Epoch 17/100\n",
            "32/32 [==============================] - 0s 2ms/step - loss: 0.7676 - accuracy: 0.4820\n",
            "Epoch 18/100\n",
            "32/32 [==============================] - 0s 2ms/step - loss: 0.7399 - accuracy: 0.4820\n",
            "Epoch 19/100\n",
            "32/32 [==============================] - 0s 2ms/step - loss: 0.7262 - accuracy: 0.4880\n",
            "Epoch 20/100\n",
            "32/32 [==============================] - 0s 2ms/step - loss: 0.7165 - accuracy: 0.4920\n",
            "Epoch 21/100\n",
            "32/32 [==============================] - 0s 2ms/step - loss: 0.7107 - accuracy: 0.4850\n",
            "Epoch 22/100\n",
            "32/32 [==============================] - 0s 2ms/step - loss: 0.7057 - accuracy: 0.4890\n",
            "Epoch 23/100\n",
            "32/32 [==============================] - 0s 2ms/step - loss: 0.7026 - accuracy: 0.4910\n",
            "Epoch 24/100\n",
            "32/32 [==============================] - 0s 2ms/step - loss: 0.7004 - accuracy: 0.4920\n",
            "Epoch 25/100\n",
            "32/32 [==============================] - 0s 2ms/step - loss: 0.6988 - accuracy: 0.4940\n",
            "Epoch 26/100\n",
            "32/32 [==============================] - 0s 2ms/step - loss: 0.6973 - accuracy: 0.4950\n",
            "Epoch 27/100\n",
            "32/32 [==============================] - 0s 2ms/step - loss: 0.6969 - accuracy: 0.4940\n",
            "Epoch 28/100\n",
            "32/32 [==============================] - 0s 2ms/step - loss: 0.6957 - accuracy: 0.5000\n",
            "Epoch 29/100\n",
            "32/32 [==============================] - 0s 2ms/step - loss: 0.6954 - accuracy: 0.4950\n",
            "Epoch 30/100\n",
            "32/32 [==============================] - 0s 2ms/step - loss: 0.6949 - accuracy: 0.4950\n",
            "Epoch 31/100\n",
            "32/32 [==============================] - 0s 2ms/step - loss: 0.6946 - accuracy: 0.5010\n",
            "Epoch 32/100\n",
            "32/32 [==============================] - 0s 2ms/step - loss: 0.6943 - accuracy: 0.4900\n",
            "Epoch 33/100\n",
            "32/32 [==============================] - 0s 2ms/step - loss: 0.6940 - accuracy: 0.4990\n",
            "Epoch 34/100\n",
            "32/32 [==============================] - 0s 2ms/step - loss: 0.6940 - accuracy: 0.4890\n",
            "Epoch 35/100\n",
            "32/32 [==============================] - 0s 2ms/step - loss: 0.6938 - accuracy: 0.4960\n",
            "Epoch 36/100\n",
            "32/32 [==============================] - 0s 2ms/step - loss: 0.6935 - accuracy: 0.4910\n",
            "Epoch 37/100\n",
            "32/32 [==============================] - 0s 2ms/step - loss: 0.6935 - accuracy: 0.4920\n",
            "Epoch 38/100\n",
            "32/32 [==============================] - 0s 1ms/step - loss: 0.6935 - accuracy: 0.4850\n",
            "Epoch 39/100\n",
            "32/32 [==============================] - 0s 2ms/step - loss: 0.6934 - accuracy: 0.4830\n",
            "Epoch 40/100\n",
            "32/32 [==============================] - 0s 2ms/step - loss: 0.6935 - accuracy: 0.4970\n",
            "Epoch 41/100\n",
            "32/32 [==============================] - 0s 2ms/step - loss: 0.6936 - accuracy: 0.5210\n",
            "Epoch 42/100\n",
            "32/32 [==============================] - 0s 2ms/step - loss: 0.6935 - accuracy: 0.4850\n",
            "Epoch 43/100\n",
            "32/32 [==============================] - 0s 2ms/step - loss: 0.6934 - accuracy: 0.4980\n",
            "Epoch 44/100\n",
            "32/32 [==============================] - 0s 2ms/step - loss: 0.6938 - accuracy: 0.4950\n",
            "Epoch 45/100\n",
            "32/32 [==============================] - 0s 2ms/step - loss: 0.6933 - accuracy: 0.4740\n",
            "Epoch 46/100\n",
            "32/32 [==============================] - 0s 2ms/step - loss: 0.6933 - accuracy: 0.4890\n",
            "Epoch 47/100\n",
            "32/32 [==============================] - 0s 2ms/step - loss: 0.6937 - accuracy: 0.5010\n",
            "Epoch 48/100\n",
            "32/32 [==============================] - 0s 2ms/step - loss: 0.6934 - accuracy: 0.5140\n",
            "Epoch 49/100\n",
            "32/32 [==============================] - 0s 2ms/step - loss: 0.6934 - accuracy: 0.4850\n",
            "Epoch 50/100\n",
            "32/32 [==============================] - 0s 2ms/step - loss: 0.6934 - accuracy: 0.5000\n",
            "Epoch 51/100\n",
            "32/32 [==============================] - 0s 2ms/step - loss: 0.6934 - accuracy: 0.4620\n",
            "Epoch 52/100\n",
            "32/32 [==============================] - 0s 2ms/step - loss: 0.6935 - accuracy: 0.5100\n",
            "Epoch 53/100\n",
            "32/32 [==============================] - 0s 1ms/step - loss: 0.6935 - accuracy: 0.4800\n",
            "Epoch 54/100\n",
            "32/32 [==============================] - 0s 2ms/step - loss: 0.6933 - accuracy: 0.5200\n",
            "Epoch 55/100\n",
            "32/32 [==============================] - 0s 2ms/step - loss: 0.6936 - accuracy: 0.5000\n",
            "Epoch 56/100\n",
            "32/32 [==============================] - 0s 2ms/step - loss: 0.6935 - accuracy: 0.4840\n",
            "Epoch 57/100\n",
            "32/32 [==============================] - 0s 2ms/step - loss: 0.6934 - accuracy: 0.4740\n",
            "Epoch 58/100\n",
            "32/32 [==============================] - 0s 2ms/step - loss: 0.6935 - accuracy: 0.5010\n",
            "Epoch 59/100\n",
            "32/32 [==============================] - 0s 2ms/step - loss: 0.6940 - accuracy: 0.5000\n",
            "Epoch 60/100\n",
            "32/32 [==============================] - 0s 2ms/step - loss: 0.6934 - accuracy: 0.5000\n",
            "Epoch 61/100\n",
            "32/32 [==============================] - 0s 2ms/step - loss: 0.6936 - accuracy: 0.4860\n",
            "Epoch 62/100\n",
            "32/32 [==============================] - 0s 2ms/step - loss: 0.6935 - accuracy: 0.4800\n",
            "Epoch 63/100\n",
            "32/32 [==============================] - 0s 2ms/step - loss: 0.6933 - accuracy: 0.4800\n",
            "Epoch 64/100\n",
            "32/32 [==============================] - 0s 2ms/step - loss: 0.6934 - accuracy: 0.4710\n",
            "Epoch 65/100\n",
            "32/32 [==============================] - 0s 2ms/step - loss: 0.6934 - accuracy: 0.4600\n",
            "Epoch 66/100\n",
            "32/32 [==============================] - 0s 2ms/step - loss: 0.6935 - accuracy: 0.4800\n",
            "Epoch 67/100\n",
            "32/32 [==============================] - 0s 2ms/step - loss: 0.6934 - accuracy: 0.4950\n",
            "Epoch 68/100\n",
            "32/32 [==============================] - 0s 2ms/step - loss: 0.6934 - accuracy: 0.4620\n",
            "Epoch 69/100\n",
            "32/32 [==============================] - 0s 2ms/step - loss: 0.6933 - accuracy: 0.5020\n",
            "Epoch 70/100\n",
            "32/32 [==============================] - 0s 2ms/step - loss: 0.6934 - accuracy: 0.5010\n",
            "Epoch 71/100\n",
            "32/32 [==============================] - 0s 2ms/step - loss: 0.6934 - accuracy: 0.4750\n",
            "Epoch 72/100\n",
            "32/32 [==============================] - 0s 2ms/step - loss: 0.6934 - accuracy: 0.5110\n",
            "Epoch 73/100\n",
            "32/32 [==============================] - 0s 2ms/step - loss: 0.6934 - accuracy: 0.5170\n",
            "Epoch 74/100\n",
            "32/32 [==============================] - 0s 2ms/step - loss: 0.6934 - accuracy: 0.5160\n",
            "Epoch 75/100\n",
            "32/32 [==============================] - 0s 2ms/step - loss: 0.6935 - accuracy: 0.5000\n",
            "Epoch 76/100\n",
            "32/32 [==============================] - 0s 2ms/step - loss: 0.6936 - accuracy: 0.4820\n",
            "Epoch 77/100\n",
            "32/32 [==============================] - 0s 2ms/step - loss: 0.6936 - accuracy: 0.4800\n",
            "Epoch 78/100\n",
            "32/32 [==============================] - 0s 2ms/step - loss: 0.6935 - accuracy: 0.4810\n",
            "Epoch 79/100\n",
            "32/32 [==============================] - 0s 2ms/step - loss: 0.6935 - accuracy: 0.4630\n",
            "Epoch 80/100\n",
            "32/32 [==============================] - 0s 2ms/step - loss: 0.6933 - accuracy: 0.5030\n",
            "Epoch 81/100\n",
            "32/32 [==============================] - 0s 2ms/step - loss: 0.6936 - accuracy: 0.5000\n",
            "Epoch 82/100\n",
            "32/32 [==============================] - 0s 3ms/step - loss: 0.6936 - accuracy: 0.4690\n",
            "Epoch 83/100\n",
            "32/32 [==============================] - 0s 2ms/step - loss: 0.6937 - accuracy: 0.4890\n",
            "Epoch 84/100\n",
            "32/32 [==============================] - 0s 2ms/step - loss: 0.6932 - accuracy: 0.5080\n",
            "Epoch 85/100\n",
            "32/32 [==============================] - 0s 2ms/step - loss: 0.6933 - accuracy: 0.5000\n",
            "Epoch 86/100\n",
            "32/32 [==============================] - 0s 2ms/step - loss: 0.6936 - accuracy: 0.5000\n",
            "Epoch 87/100\n",
            "32/32 [==============================] - 0s 2ms/step - loss: 0.6933 - accuracy: 0.5020\n",
            "Epoch 88/100\n",
            "32/32 [==============================] - 0s 2ms/step - loss: 0.6933 - accuracy: 0.4810\n",
            "Epoch 89/100\n",
            "32/32 [==============================] - 0s 2ms/step - loss: 0.6935 - accuracy: 0.4700\n",
            "Epoch 90/100\n",
            "32/32 [==============================] - 0s 2ms/step - loss: 0.6939 - accuracy: 0.5010\n",
            "Epoch 91/100\n",
            "32/32 [==============================] - 0s 2ms/step - loss: 0.6933 - accuracy: 0.4920\n",
            "Epoch 92/100\n",
            "32/32 [==============================] - 0s 2ms/step - loss: 0.6936 - accuracy: 0.4960\n",
            "Epoch 93/100\n",
            "32/32 [==============================] - 0s 2ms/step - loss: 0.6940 - accuracy: 0.4990\n",
            "Epoch 94/100\n",
            "32/32 [==============================] - 0s 2ms/step - loss: 0.6934 - accuracy: 0.4760\n",
            "Epoch 95/100\n",
            "32/32 [==============================] - 0s 2ms/step - loss: 0.6934 - accuracy: 0.4720\n",
            "Epoch 96/100\n",
            "32/32 [==============================] - 0s 2ms/step - loss: 0.6935 - accuracy: 0.4880\n",
            "Epoch 97/100\n",
            "32/32 [==============================] - 0s 2ms/step - loss: 0.6935 - accuracy: 0.4740\n",
            "Epoch 98/100\n",
            "32/32 [==============================] - 0s 2ms/step - loss: 0.6934 - accuracy: 0.4660\n",
            "Epoch 99/100\n",
            "32/32 [==============================] - 0s 2ms/step - loss: 0.6937 - accuracy: 0.5040\n",
            "Epoch 100/100\n",
            "32/32 [==============================] - 0s 2ms/step - loss: 0.6936 - accuracy: 0.5220\n"
          ]
        }
      ]
    },
    {
      "cell_type": "code",
      "source": [
        "plot_decision_boundary(model_6,X,y)"
      ],
      "metadata": {
        "colab": {
          "base_uri": "https://localhost:8080/",
          "height": 284
        },
        "id": "07aAUCwq4XrR",
        "outputId": "00d4021a-6092-4b56-cbf6-b8f42bf6e36a"
      },
      "execution_count": 87,
      "outputs": [
        {
          "output_type": "stream",
          "name": "stdout",
          "text": [
            "Doing Binary Classification...\n"
          ]
        },
        {
          "output_type": "display_data",
          "data": {
            "image/png": "[encoded data removed]",
            "text/plain": [
              "<Figure size 432x288 with 1 Axes>"
            ]
          },
          "metadata": {
            "needs_background": "light"
          }
        }
      ]
    },
    {
      "cell_type": "code",
      "source": [
        "tf.random.set_seed(42)\n",
        "\n",
        "#Create the Model\n",
        "\n",
        "model_7=tf.keras.Sequential([\n",
        "                             tf.keras.layers.Dense(4,activation=tf.keras.activations.relu),\n",
        "                             tf.keras.layers.Dense(4,activation=tf.keras.activations.relu),\n",
        "                             tf.keras.layers.Dense(1,activation=tf.keras.activations.sigmoid)\n",
        "                             \n",
        "])\n",
        "\n",
        "#Compile the Model\n",
        "model_7.compile(loss=tf.keras.losses.binary_crossentropy,\n",
        "                optimizer=tf.keras.optimizers.Adam(lr=0.001),\n",
        "                metrics=[\"accuracy\"])\n",
        "\n",
        "#Fit the Model\n",
        "history=model_7.fit(X,y,epochs=100)"
      ],
      "metadata": {
        "colab": {
          "base_uri": "https://localhost:8080/"
        },
        "id": "wClEOEJD4nH-",
        "outputId": "8b7debc4-3196-42a0-8fc8-5ba423fc5692"
      },
      "execution_count": 88,
      "outputs": [
        {
          "output_type": "stream",
          "name": "stderr",
          "text": [
            "/usr/local/lib/python3.7/dist-packages/keras/optimizer_v2/adam.py:105: UserWarning: The `lr` argument is deprecated, use `learning_rate` instead.\n",
            "  super(Adam, self).__init__(name, **kwargs)\n"
          ]
        },
        {
          "output_type": "stream",
          "name": "stdout",
          "text": [
            "Epoch 1/100\n",
            "32/32 [==============================] - 1s 2ms/step - loss: 0.6891 - accuracy: 0.5020\n",
            "Epoch 2/100\n",
            "32/32 [==============================] - 0s 2ms/step - loss: 0.6848 - accuracy: 0.5170\n",
            "Epoch 3/100\n",
            "32/32 [==============================] - 0s 2ms/step - loss: 0.6824 - accuracy: 0.5160\n",
            "Epoch 4/100\n",
            "32/32 [==============================] - 0s 2ms/step - loss: 0.6813 - accuracy: 0.5300\n",
            "Epoch 5/100\n",
            "32/32 [==============================] - 0s 2ms/step - loss: 0.6802 - accuracy: 0.5390\n",
            "Epoch 6/100\n",
            "32/32 [==============================] - 0s 2ms/step - loss: 0.6794 - accuracy: 0.5380\n",
            "Epoch 7/100\n",
            "32/32 [==============================] - 0s 2ms/step - loss: 0.6785 - accuracy: 0.5500\n",
            "Epoch 8/100\n",
            "32/32 [==============================] - 0s 2ms/step - loss: 0.6778 - accuracy: 0.5480\n",
            "Epoch 9/100\n",
            "32/32 [==============================] - 0s 2ms/step - loss: 0.6772 - accuracy: 0.5530\n",
            "Epoch 10/100\n",
            "32/32 [==============================] - 0s 2ms/step - loss: 0.6766 - accuracy: 0.5510\n",
            "Epoch 11/100\n",
            "32/32 [==============================] - 0s 2ms/step - loss: 0.6760 - accuracy: 0.5500\n",
            "Epoch 12/100\n",
            "32/32 [==============================] - 0s 2ms/step - loss: 0.6754 - accuracy: 0.5550\n",
            "Epoch 13/100\n",
            "32/32 [==============================] - 0s 2ms/step - loss: 0.6747 - accuracy: 0.5560\n",
            "Epoch 14/100\n",
            "32/32 [==============================] - 0s 2ms/step - loss: 0.6741 - accuracy: 0.5540\n",
            "Epoch 15/100\n",
            "32/32 [==============================] - 0s 2ms/step - loss: 0.6734 - accuracy: 0.5580\n",
            "Epoch 16/100\n",
            "32/32 [==============================] - 0s 2ms/step - loss: 0.6727 - accuracy: 0.5550\n",
            "Epoch 17/100\n",
            "32/32 [==============================] - 0s 2ms/step - loss: 0.6722 - accuracy: 0.5550\n",
            "Epoch 18/100\n",
            "32/32 [==============================] - 0s 2ms/step - loss: 0.6716 - accuracy: 0.5550\n",
            "Epoch 19/100\n",
            "32/32 [==============================] - 0s 2ms/step - loss: 0.6710 - accuracy: 0.5590\n",
            "Epoch 20/100\n",
            "32/32 [==============================] - 0s 2ms/step - loss: 0.6702 - accuracy: 0.5600\n",
            "Epoch 21/100\n",
            "32/32 [==============================] - 0s 2ms/step - loss: 0.6696 - accuracy: 0.5640\n",
            "Epoch 22/100\n",
            "32/32 [==============================] - 0s 2ms/step - loss: 0.6688 - accuracy: 0.5600\n",
            "Epoch 23/100\n",
            "32/32 [==============================] - 0s 2ms/step - loss: 0.6682 - accuracy: 0.5700\n",
            "Epoch 24/100\n",
            "32/32 [==============================] - 0s 2ms/step - loss: 0.6679 - accuracy: 0.5570\n",
            "Epoch 25/100\n",
            "32/32 [==============================] - 0s 2ms/step - loss: 0.6671 - accuracy: 0.5670\n",
            "Epoch 26/100\n",
            "32/32 [==============================] - 0s 2ms/step - loss: 0.6662 - accuracy: 0.5750\n",
            "Epoch 27/100\n",
            "32/32 [==============================] - 0s 2ms/step - loss: 0.6657 - accuracy: 0.5810\n",
            "Epoch 28/100\n",
            "32/32 [==============================] - 0s 2ms/step - loss: 0.6645 - accuracy: 0.5700\n",
            "Epoch 29/100\n",
            "32/32 [==============================] - 0s 2ms/step - loss: 0.6642 - accuracy: 0.5700\n",
            "Epoch 30/100\n",
            "32/32 [==============================] - 0s 2ms/step - loss: 0.6634 - accuracy: 0.5790\n",
            "Epoch 31/100\n",
            "32/32 [==============================] - 0s 2ms/step - loss: 0.6627 - accuracy: 0.5760\n",
            "Epoch 32/100\n",
            "32/32 [==============================] - 0s 2ms/step - loss: 0.6619 - accuracy: 0.5760\n",
            "Epoch 33/100\n",
            "32/32 [==============================] - 0s 2ms/step - loss: 0.6610 - accuracy: 0.5760\n",
            "Epoch 34/100\n",
            "32/32 [==============================] - 0s 2ms/step - loss: 0.6606 - accuracy: 0.5760\n",
            "Epoch 35/100\n",
            "32/32 [==============================] - 0s 2ms/step - loss: 0.6597 - accuracy: 0.5790\n",
            "Epoch 36/100\n",
            "32/32 [==============================] - 0s 2ms/step - loss: 0.6586 - accuracy: 0.5780\n",
            "Epoch 37/100\n",
            "32/32 [==============================] - 0s 2ms/step - loss: 0.6580 - accuracy: 0.5780\n",
            "Epoch 38/100\n",
            "32/32 [==============================] - 0s 2ms/step - loss: 0.6573 - accuracy: 0.5790\n",
            "Epoch 39/100\n",
            "32/32 [==============================] - 0s 2ms/step - loss: 0.6564 - accuracy: 0.5790\n",
            "Epoch 40/100\n",
            "32/32 [==============================] - 0s 2ms/step - loss: 0.6556 - accuracy: 0.5760\n",
            "Epoch 41/100\n",
            "32/32 [==============================] - 0s 2ms/step - loss: 0.6548 - accuracy: 0.5780\n",
            "Epoch 42/100\n",
            "32/32 [==============================] - 0s 2ms/step - loss: 0.6540 - accuracy: 0.5750\n",
            "Epoch 43/100\n",
            "32/32 [==============================] - 0s 2ms/step - loss: 0.6530 - accuracy: 0.5780\n",
            "Epoch 44/100\n",
            "32/32 [==============================] - 0s 2ms/step - loss: 0.6521 - accuracy: 0.5810\n",
            "Epoch 45/100\n",
            "32/32 [==============================] - 0s 2ms/step - loss: 0.6496 - accuracy: 0.5810\n",
            "Epoch 46/100\n",
            "32/32 [==============================] - 0s 2ms/step - loss: 0.6481 - accuracy: 0.5830\n",
            "Epoch 47/100\n",
            "32/32 [==============================] - 0s 2ms/step - loss: 0.6472 - accuracy: 0.5850\n",
            "Epoch 48/100\n",
            "32/32 [==============================] - 0s 2ms/step - loss: 0.6451 - accuracy: 0.5880\n",
            "Epoch 49/100\n",
            "32/32 [==============================] - 0s 2ms/step - loss: 0.6426 - accuracy: 0.5880\n",
            "Epoch 50/100\n",
            "32/32 [==============================] - 0s 2ms/step - loss: 0.6404 - accuracy: 0.5940\n",
            "Epoch 51/100\n",
            "32/32 [==============================] - 0s 2ms/step - loss: 0.6384 - accuracy: 0.6010\n",
            "Epoch 52/100\n",
            "32/32 [==============================] - 0s 2ms/step - loss: 0.6364 - accuracy: 0.6130\n",
            "Epoch 53/100\n",
            "32/32 [==============================] - 0s 2ms/step - loss: 0.6344 - accuracy: 0.6110\n",
            "Epoch 54/100\n",
            "32/32 [==============================] - 0s 2ms/step - loss: 0.6312 - accuracy: 0.6280\n",
            "Epoch 55/100\n",
            "32/32 [==============================] - 0s 2ms/step - loss: 0.6287 - accuracy: 0.6380\n",
            "Epoch 56/100\n",
            "32/32 [==============================] - 0s 2ms/step - loss: 0.6259 - accuracy: 0.6840\n",
            "Epoch 57/100\n",
            "32/32 [==============================] - 0s 2ms/step - loss: 0.6227 - accuracy: 0.6950\n",
            "Epoch 58/100\n",
            "32/32 [==============================] - 0s 2ms/step - loss: 0.6200 - accuracy: 0.6990\n",
            "Epoch 59/100\n",
            "32/32 [==============================] - 0s 2ms/step - loss: 0.6168 - accuracy: 0.6950\n",
            "Epoch 60/100\n",
            "32/32 [==============================] - 0s 2ms/step - loss: 0.6133 - accuracy: 0.7240\n",
            "Epoch 61/100\n",
            "32/32 [==============================] - 0s 2ms/step - loss: 0.6101 - accuracy: 0.7200\n",
            "Epoch 62/100\n",
            "32/32 [==============================] - 0s 2ms/step - loss: 0.6059 - accuracy: 0.7330\n",
            "Epoch 63/100\n",
            "32/32 [==============================] - 0s 2ms/step - loss: 0.6014 - accuracy: 0.7400\n",
            "Epoch 64/100\n",
            "32/32 [==============================] - 0s 2ms/step - loss: 0.5966 - accuracy: 0.7460\n",
            "Epoch 65/100\n",
            "32/32 [==============================] - 0s 2ms/step - loss: 0.5905 - accuracy: 0.7440\n",
            "Epoch 66/100\n",
            "32/32 [==============================] - 0s 2ms/step - loss: 0.5830 - accuracy: 0.7450\n",
            "Epoch 67/100\n",
            "32/32 [==============================] - 0s 2ms/step - loss: 0.5757 - accuracy: 0.7460\n",
            "Epoch 68/100\n",
            "32/32 [==============================] - 0s 2ms/step - loss: 0.5683 - accuracy: 0.7800\n",
            "Epoch 69/100\n",
            "32/32 [==============================] - 0s 2ms/step - loss: 0.5614 - accuracy: 0.8010\n",
            "Epoch 70/100\n",
            "32/32 [==============================] - 0s 2ms/step - loss: 0.5548 - accuracy: 0.8010\n",
            "Epoch 71/100\n",
            "32/32 [==============================] - 0s 2ms/step - loss: 0.5474 - accuracy: 0.8240\n",
            "Epoch 72/100\n",
            "32/32 [==============================] - 0s 2ms/step - loss: 0.5406 - accuracy: 0.8460\n",
            "Epoch 73/100\n",
            "32/32 [==============================] - 0s 2ms/step - loss: 0.5327 - accuracy: 0.8470\n",
            "Epoch 74/100\n",
            "32/32 [==============================] - 0s 2ms/step - loss: 0.5243 - accuracy: 0.8620\n",
            "Epoch 75/100\n",
            "32/32 [==============================] - 0s 2ms/step - loss: 0.5148 - accuracy: 0.8870\n",
            "Epoch 76/100\n",
            "32/32 [==============================] - 0s 2ms/step - loss: 0.5042 - accuracy: 0.8820\n",
            "Epoch 77/100\n",
            "32/32 [==============================] - 0s 2ms/step - loss: 0.4927 - accuracy: 0.9300\n",
            "Epoch 78/100\n",
            "32/32 [==============================] - 0s 2ms/step - loss: 0.4824 - accuracy: 0.9090\n",
            "Epoch 79/100\n",
            "32/32 [==============================] - 0s 2ms/step - loss: 0.4733 - accuracy: 0.9460\n",
            "Epoch 80/100\n",
            "32/32 [==============================] - 0s 2ms/step - loss: 0.4632 - accuracy: 0.9600\n",
            "Epoch 81/100\n",
            "32/32 [==============================] - 0s 2ms/step - loss: 0.4546 - accuracy: 0.9600\n",
            "Epoch 82/100\n",
            "32/32 [==============================] - 0s 2ms/step - loss: 0.4456 - accuracy: 0.9580\n",
            "Epoch 83/100\n",
            "32/32 [==============================] - 0s 2ms/step - loss: 0.4360 - accuracy: 0.9630\n",
            "Epoch 84/100\n",
            "32/32 [==============================] - 0s 2ms/step - loss: 0.4260 - accuracy: 0.9690\n",
            "Epoch 85/100\n",
            "32/32 [==============================] - 0s 2ms/step - loss: 0.4145 - accuracy: 0.9700\n",
            "Epoch 86/100\n",
            "32/32 [==============================] - 0s 2ms/step - loss: 0.4059 - accuracy: 0.9740\n",
            "Epoch 87/100\n",
            "32/32 [==============================] - 0s 2ms/step - loss: 0.3962 - accuracy: 0.9750\n",
            "Epoch 88/100\n",
            "32/32 [==============================] - 0s 2ms/step - loss: 0.3873 - accuracy: 0.9720\n",
            "Epoch 89/100\n",
            "32/32 [==============================] - 0s 2ms/step - loss: 0.3795 - accuracy: 0.9750\n",
            "Epoch 90/100\n",
            "32/32 [==============================] - 0s 2ms/step - loss: 0.3716 - accuracy: 0.9750\n",
            "Epoch 91/100\n",
            "32/32 [==============================] - 0s 2ms/step - loss: 0.3635 - accuracy: 0.9840\n",
            "Epoch 92/100\n",
            "32/32 [==============================] - 0s 2ms/step - loss: 0.3554 - accuracy: 0.9830\n",
            "Epoch 93/100\n",
            "32/32 [==============================] - 0s 2ms/step - loss: 0.3482 - accuracy: 0.9800\n",
            "Epoch 94/100\n",
            "32/32 [==============================] - 0s 2ms/step - loss: 0.3404 - accuracy: 0.9820\n",
            "Epoch 95/100\n",
            "32/32 [==============================] - 0s 2ms/step - loss: 0.3329 - accuracy: 0.9880\n",
            "Epoch 96/100\n",
            "32/32 [==============================] - 0s 2ms/step - loss: 0.3268 - accuracy: 0.9870\n",
            "Epoch 97/100\n",
            "32/32 [==============================] - 0s 2ms/step - loss: 0.3190 - accuracy: 0.9870\n",
            "Epoch 98/100\n",
            "32/32 [==============================] - 0s 2ms/step - loss: 0.3122 - accuracy: 0.9890\n",
            "Epoch 99/100\n",
            "32/32 [==============================] - 0s 2ms/step - loss: 0.3059 - accuracy: 0.9880\n",
            "Epoch 100/100\n",
            "32/32 [==============================] - 0s 2ms/step - loss: 0.2993 - accuracy: 0.9890\n"
          ]
        }
      ]
    },
    {
      "cell_type": "code",
      "source": [
        "model_7.evaluate(X,y)"
      ],
      "metadata": {
        "colab": {
          "base_uri": "https://localhost:8080/"
        },
        "id": "ynqDSpbo4yQI",
        "outputId": "77214ef4-551c-469c-f024-44dea169a00a"
      },
      "execution_count": 89,
      "outputs": [
        {
          "output_type": "stream",
          "name": "stdout",
          "text": [
            "32/32 [==============================] - 0s 1ms/step - loss: 0.2948 - accuracy: 0.9910\n"
          ]
        },
        {
          "output_type": "execute_result",
          "data": {
            "text/plain": [
              "[0.2948004901409149, 0.9909999966621399]"
            ]
          },
          "metadata": {},
          "execution_count": 89
        }
      ]
    },
    {
      "cell_type": "code",
      "source": [
        "plot_decision_boundary(model_7,X,y)"
      ],
      "metadata": {
        "colab": {
          "base_uri": "https://localhost:8080/",
          "height": 284
        },
        "id": "xJdg-hOz5Rn8",
        "outputId": "aeb0fcff-1d8d-4cfc-fce2-6156bec92357"
      },
      "execution_count": 90,
      "outputs": [
        {
          "output_type": "stream",
          "name": "stdout",
          "text": [
            "Doing Binary Classification...\n"
          ]
        },
        {
          "output_type": "display_data",
          "data": {
            "image/png": "[encoded data removed]",
            "text/plain": [
              "<Figure size 432x288 with 1 Axes>"
            ]
          },
          "metadata": {
            "needs_background": "light"
          }
        }
      ]
    },
    {
      "cell_type": "markdown",
      "source": [
        "# **Linear Function **"
      ],
      "metadata": {
        "id": "NcjshZkG6hKD"
      }
    },
    {
      "cell_type": "code",
      "source": [
        "#Create a toy tensor \n",
        "A=tf.cast(tf.range(-10,10),tf.float32)\n",
        "A"
      ],
      "metadata": {
        "colab": {
          "base_uri": "https://localhost:8080/"
        },
        "id": "I034PQ6m52Ax",
        "outputId": "d933ee11-5285-42f3-9a37-9c8aa8c4e088"
      },
      "execution_count": 91,
      "outputs": [
        {
          "output_type": "execute_result",
          "data": {
            "text/plain": [
              "<tf.Tensor: shape=(20,), dtype=float32, numpy=\n",
              "array([-10.,  -9.,  -8.,  -7.,  -6.,  -5.,  -4.,  -3.,  -2.,  -1.,   0.,\n",
              "         1.,   2.,   3.,   4.,   5.,   6.,   7.,   8.,   9.],\n",
              "      dtype=float32)>"
            ]
          },
          "metadata": {},
          "execution_count": 91
        }
      ]
    },
    {
      "cell_type": "code",
      "source": [
        "plt.plot(A)"
      ],
      "metadata": {
        "colab": {
          "base_uri": "https://localhost:8080/",
          "height": 284
        },
        "id": "A8_5aUjg6HWX",
        "outputId": "8cd20b75-9ca9-422b-98c9-ad005168893f"
      },
      "execution_count": 92,
      "outputs": [
        {
          "output_type": "execute_result",
          "data": {
            "text/plain": [
              "[<matplotlib.lines.Line2D at 0x7f76d4904050>]"
            ]
          },
          "metadata": {},
          "execution_count": 92
        },
        {
          "output_type": "display_data",
          "data": {
            "image/png": "[encoded data removed]",
            "text/plain": [
              "<Figure size 432x288 with 1 Axes>"
            ]
          },
          "metadata": {
            "needs_background": "light"
          }
        }
      ]
    },
    {
      "cell_type": "markdown",
      "source": [
        "# **Sigmoid Function**"
      ],
      "metadata": {
        "id": "8iBvFyC06j2S"
      }
    },
    {
      "cell_type": "code",
      "source": [
        "def sigmoid(x):\n",
        "  return 1/(1+tf.exp(-x))\n",
        "\n",
        "sigmoid(A)"
      ],
      "metadata": {
        "colab": {
          "base_uri": "https://localhost:8080/"
        },
        "id": "fPV6STp-6LKi",
        "outputId": "d0efee54-d7b4-40f3-c1bd-aa197dfc1fcd"
      },
      "execution_count": 93,
      "outputs": [
        {
          "output_type": "execute_result",
          "data": {
            "text/plain": [
              "<tf.Tensor: shape=(20,), dtype=float32, numpy=\n",
              "array([4.5397872e-05, 1.2339458e-04, 3.3535014e-04, 9.1105117e-04,\n",
              "       2.4726233e-03, 6.6928510e-03, 1.7986210e-02, 4.7425874e-02,\n",
              "       1.1920292e-01, 2.6894143e-01, 5.0000000e-01, 7.3105860e-01,\n",
              "       8.8079703e-01, 9.5257413e-01, 9.8201376e-01, 9.9330717e-01,\n",
              "       9.9752742e-01, 9.9908900e-01, 9.9966466e-01, 9.9987662e-01],\n",
              "      dtype=float32)>"
            ]
          },
          "metadata": {},
          "execution_count": 93
        }
      ]
    },
    {
      "cell_type": "code",
      "source": [
        "plt.plot(sigmoid(A))"
      ],
      "metadata": {
        "colab": {
          "base_uri": "https://localhost:8080/",
          "height": 284
        },
        "id": "VbQ9Eey36V0i",
        "outputId": "69688d10-e524-400b-d2e6-6568e40333e5"
      },
      "execution_count": 94,
      "outputs": [
        {
          "output_type": "execute_result",
          "data": {
            "text/plain": [
              "[<matplotlib.lines.Line2D at 0x7f76d47b4f90>]"
            ]
          },
          "metadata": {},
          "execution_count": 94
        },
        {
          "output_type": "display_data",
          "data": {
            "image/png": "[encoded data removed]",
            "text/plain": [
              "<Figure size 432x288 with 1 Axes>"
            ]
          },
          "metadata": {
            "needs_background": "light"
          }
        }
      ]
    },
    {
      "cell_type": "markdown",
      "source": [
        "# **Relu Function**"
      ],
      "metadata": {
        "id": "82bPH3z96rwZ"
      }
    },
    {
      "cell_type": "code",
      "source": [
        "def relu(x):\n",
        "  return tf.maximum(0,x)\n",
        "\n",
        "  relu(A)"
      ],
      "metadata": {
        "id": "kxx0yn3q6vdv"
      },
      "execution_count": 95,
      "outputs": []
    },
    {
      "cell_type": "code",
      "source": [
        "plt.plot(relu(A))"
      ],
      "metadata": {
        "colab": {
          "base_uri": "https://localhost:8080/",
          "height": 284
        },
        "id": "G8aWmfbh64-l",
        "outputId": "d36e09d2-d099-46be-a48c-72061d57b62c"
      },
      "execution_count": 96,
      "outputs": [
        {
          "output_type": "execute_result",
          "data": {
            "text/plain": [
              "[<matplotlib.lines.Line2D at 0x7f76d4745150>]"
            ]
          },
          "metadata": {},
          "execution_count": 96
        },
        {
          "output_type": "display_data",
          "data": {
            "image/png": "[encoded data removed]",
            "text/plain": [
              "<Figure size 432x288 with 1 Axes>"
            ]
          },
          "metadata": {
            "needs_background": "light"
          }
        }
      ]
    },
    {
      "cell_type": "markdown",
      "source": [
        "# **Evaluating and imporving our classiffication model**"
      ],
      "metadata": {
        "id": "QLh3Zsvo7sxB"
      }
    },
    {
      "cell_type": "code",
      "source": [
        "len(X)"
      ],
      "metadata": {
        "colab": {
          "base_uri": "https://localhost:8080/"
        },
        "id": "HPXJbWUq7sQ1",
        "outputId": "fab6f8a7-f9b6-47ed-fa32-a5725feb91d6"
      },
      "execution_count": 97,
      "outputs": [
        {
          "output_type": "execute_result",
          "data": {
            "text/plain": [
              "1000"
            ]
          },
          "metadata": {},
          "execution_count": 97
        }
      ]
    },
    {
      "cell_type": "code",
      "source": [
        "#Split the data into train and test set \n",
        "X_train,y_train=X[:800],y[:800]\n",
        "X_test,y_test=X[800:],y[800:]\n",
        "\n",
        "X_train.shape,X_test.shape"
      ],
      "metadata": {
        "colab": {
          "base_uri": "https://localhost:8080/"
        },
        "id": "aAYjsKAu7zog",
        "outputId": "6836b966-ad5c-4c2b-cf5f-f718f30ce332"
      },
      "execution_count": 98,
      "outputs": [
        {
          "output_type": "execute_result",
          "data": {
            "text/plain": [
              "((800, 2), (200, 2))"
            ]
          },
          "metadata": {},
          "execution_count": 98
        }
      ]
    },
    {
      "cell_type": "code",
      "source": [
        "tf.random.set_seed(42)\n",
        "\n",
        "#Create the Model\n",
        "\n",
        "model_8=tf.keras.Sequential([\n",
        "                             tf.keras.layers.Dense(4,activation=tf.keras.activations.relu),\n",
        "                             tf.keras.layers.Dense(4,activation=tf.keras.activations.relu),\n",
        "                             tf.keras.layers.Dense(1,activation=tf.keras.activations.sigmoid)\n",
        "                             \n",
        "])\n",
        "\n",
        "#Compile the Model\n",
        "model_8.compile(loss=tf.keras.losses.binary_crossentropy,\n",
        "                optimizer=tf.keras.optimizers.Adam(lr=0.001),\n",
        "                metrics=[\"accuracy\"])\n",
        "\n",
        "#Fit the Model\n",
        "history=model_8.fit(X_train,y_train,epochs=100)"
      ],
      "metadata": {
        "colab": {
          "base_uri": "https://localhost:8080/"
        },
        "id": "YHu4HQb-98fz",
        "outputId": "3304d2ca-5dd8-4487-f9ad-bc098847321a"
      },
      "execution_count": 99,
      "outputs": [
        {
          "output_type": "stream",
          "name": "stderr",
          "text": [
            "/usr/local/lib/python3.7/dist-packages/keras/optimizer_v2/adam.py:105: UserWarning: The `lr` argument is deprecated, use `learning_rate` instead.\n",
            "  super(Adam, self).__init__(name, **kwargs)\n"
          ]
        },
        {
          "output_type": "stream",
          "name": "stdout",
          "text": [
            "Epoch 1/100\n",
            "25/25 [==============================] - 1s 2ms/step - loss: 0.6920 - accuracy: 0.4975\n",
            "Epoch 2/100\n",
            "25/25 [==============================] - 0s 2ms/step - loss: 0.6873 - accuracy: 0.5138\n",
            "Epoch 3/100\n",
            "25/25 [==============================] - 0s 2ms/step - loss: 0.6846 - accuracy: 0.5175\n",
            "Epoch 4/100\n",
            "25/25 [==============================] - 0s 2ms/step - loss: 0.6832 - accuracy: 0.5200\n",
            "Epoch 5/100\n",
            "25/25 [==============================] - 0s 2ms/step - loss: 0.6823 - accuracy: 0.5300\n",
            "Epoch 6/100\n",
            "25/25 [==============================] - 0s 3ms/step - loss: 0.6816 - accuracy: 0.5350\n",
            "Epoch 7/100\n",
            "25/25 [==============================] - 0s 2ms/step - loss: 0.6810 - accuracy: 0.5400\n",
            "Epoch 8/100\n",
            "25/25 [==============================] - 0s 2ms/step - loss: 0.6805 - accuracy: 0.5400\n",
            "Epoch 9/100\n",
            "25/25 [==============================] - 0s 2ms/step - loss: 0.6801 - accuracy: 0.5425\n",
            "Epoch 10/100\n",
            "25/25 [==============================] - 0s 2ms/step - loss: 0.6795 - accuracy: 0.5387\n",
            "Epoch 11/100\n",
            "25/25 [==============================] - 0s 2ms/step - loss: 0.6792 - accuracy: 0.5412\n",
            "Epoch 12/100\n",
            "25/25 [==============================] - 0s 2ms/step - loss: 0.6788 - accuracy: 0.5475\n",
            "Epoch 13/100\n",
            "25/25 [==============================] - 0s 2ms/step - loss: 0.6781 - accuracy: 0.5487\n",
            "Epoch 14/100\n",
            "25/25 [==============================] - 0s 2ms/step - loss: 0.6778 - accuracy: 0.5475\n",
            "Epoch 15/100\n",
            "25/25 [==============================] - 0s 2ms/step - loss: 0.6773 - accuracy: 0.5475\n",
            "Epoch 16/100\n",
            "25/25 [==============================] - 0s 2ms/step - loss: 0.6767 - accuracy: 0.5525\n",
            "Epoch 17/100\n",
            "25/25 [==============================] - 0s 2ms/step - loss: 0.6764 - accuracy: 0.5500\n",
            "Epoch 18/100\n",
            "25/25 [==============================] - 0s 2ms/step - loss: 0.6757 - accuracy: 0.5500\n",
            "Epoch 19/100\n",
            "25/25 [==============================] - 0s 1ms/step - loss: 0.6755 - accuracy: 0.5512\n",
            "Epoch 20/100\n",
            "25/25 [==============================] - 0s 2ms/step - loss: 0.6750 - accuracy: 0.5525\n",
            "Epoch 21/100\n",
            "25/25 [==============================] - 0s 2ms/step - loss: 0.6745 - accuracy: 0.5512\n",
            "Epoch 22/100\n",
            "25/25 [==============================] - 0s 2ms/step - loss: 0.6739 - accuracy: 0.5487\n",
            "Epoch 23/100\n",
            "25/25 [==============================] - 0s 2ms/step - loss: 0.6736 - accuracy: 0.5525\n",
            "Epoch 24/100\n",
            "25/25 [==============================] - 0s 2ms/step - loss: 0.6730 - accuracy: 0.5512\n",
            "Epoch 25/100\n",
            "25/25 [==============================] - 0s 3ms/step - loss: 0.6726 - accuracy: 0.5525\n",
            "Epoch 26/100\n",
            "25/25 [==============================] - 0s 2ms/step - loss: 0.6721 - accuracy: 0.5525\n",
            "Epoch 27/100\n",
            "25/25 [==============================] - 0s 2ms/step - loss: 0.6717 - accuracy: 0.5512\n",
            "Epoch 28/100\n",
            "25/25 [==============================] - 0s 2ms/step - loss: 0.6711 - accuracy: 0.5537\n",
            "Epoch 29/100\n",
            "25/25 [==============================] - 0s 2ms/step - loss: 0.6707 - accuracy: 0.5612\n",
            "Epoch 30/100\n",
            "25/25 [==============================] - 0s 2ms/step - loss: 0.6701 - accuracy: 0.5612\n",
            "Epoch 31/100\n",
            "25/25 [==============================] - 0s 2ms/step - loss: 0.6696 - accuracy: 0.5625\n",
            "Epoch 32/100\n",
            "25/25 [==============================] - 0s 2ms/step - loss: 0.6691 - accuracy: 0.5587\n",
            "Epoch 33/100\n",
            "25/25 [==============================] - 0s 2ms/step - loss: 0.6685 - accuracy: 0.5612\n",
            "Epoch 34/100\n",
            "25/25 [==============================] - 0s 2ms/step - loss: 0.6680 - accuracy: 0.5638\n",
            "Epoch 35/100\n",
            "25/25 [==============================] - 0s 2ms/step - loss: 0.6679 - accuracy: 0.5675\n",
            "Epoch 36/100\n",
            "25/25 [==============================] - 0s 2ms/step - loss: 0.6671 - accuracy: 0.5638\n",
            "Epoch 37/100\n",
            "25/25 [==============================] - 0s 2ms/step - loss: 0.6666 - accuracy: 0.5625\n",
            "Epoch 38/100\n",
            "25/25 [==============================] - 0s 2ms/step - loss: 0.6665 - accuracy: 0.5537\n",
            "Epoch 39/100\n",
            "25/25 [==============================] - 0s 2ms/step - loss: 0.6655 - accuracy: 0.5638\n",
            "Epoch 40/100\n",
            "25/25 [==============================] - 0s 3ms/step - loss: 0.6651 - accuracy: 0.5700\n",
            "Epoch 41/100\n",
            "25/25 [==============================] - 0s 2ms/step - loss: 0.6647 - accuracy: 0.5713\n",
            "Epoch 42/100\n",
            "25/25 [==============================] - 0s 2ms/step - loss: 0.6638 - accuracy: 0.5700\n",
            "Epoch 43/100\n",
            "25/25 [==============================] - 0s 2ms/step - loss: 0.6635 - accuracy: 0.5675\n",
            "Epoch 44/100\n",
            "25/25 [==============================] - 0s 2ms/step - loss: 0.6626 - accuracy: 0.5700\n",
            "Epoch 45/100\n",
            "25/25 [==============================] - 0s 2ms/step - loss: 0.6616 - accuracy: 0.5700\n",
            "Epoch 46/100\n",
            "25/25 [==============================] - 0s 2ms/step - loss: 0.6604 - accuracy: 0.5713\n",
            "Epoch 47/100\n",
            "25/25 [==============================] - 0s 2ms/step - loss: 0.6596 - accuracy: 0.5713\n",
            "Epoch 48/100\n",
            "25/25 [==============================] - 0s 2ms/step - loss: 0.6590 - accuracy: 0.5675\n",
            "Epoch 49/100\n",
            "25/25 [==============================] - 0s 2ms/step - loss: 0.6581 - accuracy: 0.5788\n",
            "Epoch 50/100\n",
            "25/25 [==============================] - 0s 2ms/step - loss: 0.6572 - accuracy: 0.5738\n",
            "Epoch 51/100\n",
            "25/25 [==============================] - 0s 2ms/step - loss: 0.6565 - accuracy: 0.5750\n",
            "Epoch 52/100\n",
            "25/25 [==============================] - 0s 2ms/step - loss: 0.6555 - accuracy: 0.5775\n",
            "Epoch 53/100\n",
            "25/25 [==============================] - 0s 2ms/step - loss: 0.6548 - accuracy: 0.5788\n",
            "Epoch 54/100\n",
            "25/25 [==============================] - 0s 2ms/step - loss: 0.6540 - accuracy: 0.5800\n",
            "Epoch 55/100\n",
            "25/25 [==============================] - 0s 2ms/step - loss: 0.6532 - accuracy: 0.5788\n",
            "Epoch 56/100\n",
            "25/25 [==============================] - 0s 2ms/step - loss: 0.6519 - accuracy: 0.5813\n",
            "Epoch 57/100\n",
            "25/25 [==============================] - 0s 2ms/step - loss: 0.6510 - accuracy: 0.5775\n",
            "Epoch 58/100\n",
            "25/25 [==============================] - 0s 2ms/step - loss: 0.6498 - accuracy: 0.5800\n",
            "Epoch 59/100\n",
            "25/25 [==============================] - 0s 2ms/step - loss: 0.6487 - accuracy: 0.5788\n",
            "Epoch 60/100\n",
            "25/25 [==============================] - 0s 2ms/step - loss: 0.6478 - accuracy: 0.5950\n",
            "Epoch 61/100\n",
            "25/25 [==============================] - 0s 2ms/step - loss: 0.6462 - accuracy: 0.5875\n",
            "Epoch 62/100\n",
            "25/25 [==============================] - 0s 2ms/step - loss: 0.6448 - accuracy: 0.5900\n",
            "Epoch 63/100\n",
            "25/25 [==============================] - 0s 2ms/step - loss: 0.6434 - accuracy: 0.5987\n",
            "Epoch 64/100\n",
            "25/25 [==============================] - 0s 2ms/step - loss: 0.6412 - accuracy: 0.6025\n",
            "Epoch 65/100\n",
            "25/25 [==============================] - 0s 2ms/step - loss: 0.6386 - accuracy: 0.6137\n",
            "Epoch 66/100\n",
            "25/25 [==============================] - 0s 2ms/step - loss: 0.6359 - accuracy: 0.6263\n",
            "Epoch 67/100\n",
            "25/25 [==============================] - 0s 2ms/step - loss: 0.6340 - accuracy: 0.6438\n",
            "Epoch 68/100\n",
            "25/25 [==============================] - 0s 2ms/step - loss: 0.6318 - accuracy: 0.6787\n",
            "Epoch 69/100\n",
            "25/25 [==============================] - 0s 2ms/step - loss: 0.6298 - accuracy: 0.6837\n",
            "Epoch 70/100\n",
            "25/25 [==============================] - 0s 2ms/step - loss: 0.6275 - accuracy: 0.7138\n",
            "Epoch 71/100\n",
            "25/25 [==============================] - 0s 3ms/step - loss: 0.6254 - accuracy: 0.7188\n",
            "Epoch 72/100\n",
            "25/25 [==============================] - 0s 2ms/step - loss: 0.6228 - accuracy: 0.7362\n",
            "Epoch 73/100\n",
            "25/25 [==============================] - 0s 2ms/step - loss: 0.6207 - accuracy: 0.7362\n",
            "Epoch 74/100\n",
            "25/25 [==============================] - 0s 2ms/step - loss: 0.6180 - accuracy: 0.7387\n",
            "Epoch 75/100\n",
            "25/25 [==============================] - 0s 2ms/step - loss: 0.6161 - accuracy: 0.7625\n",
            "Epoch 76/100\n",
            "25/25 [==============================] - 0s 2ms/step - loss: 0.6135 - accuracy: 0.7538\n",
            "Epoch 77/100\n",
            "25/25 [==============================] - 0s 2ms/step - loss: 0.6107 - accuracy: 0.7538\n",
            "Epoch 78/100\n",
            "25/25 [==============================] - 0s 2ms/step - loss: 0.6082 - accuracy: 0.7513\n",
            "Epoch 79/100\n",
            "25/25 [==============================] - 0s 2ms/step - loss: 0.6058 - accuracy: 0.7538\n",
            "Epoch 80/100\n",
            "25/25 [==============================] - 0s 2ms/step - loss: 0.6031 - accuracy: 0.7475\n",
            "Epoch 81/100\n",
            "25/25 [==============================] - 0s 2ms/step - loss: 0.6000 - accuracy: 0.7663\n",
            "Epoch 82/100\n",
            "25/25 [==============================] - 0s 2ms/step - loss: 0.5974 - accuracy: 0.7550\n",
            "Epoch 83/100\n",
            "25/25 [==============================] - 0s 2ms/step - loss: 0.5945 - accuracy: 0.7700\n",
            "Epoch 84/100\n",
            "25/25 [==============================] - 0s 2ms/step - loss: 0.5913 - accuracy: 0.7700\n",
            "Epoch 85/100\n",
            "25/25 [==============================] - 0s 2ms/step - loss: 0.5890 - accuracy: 0.7775\n",
            "Epoch 86/100\n",
            "25/25 [==============================] - 0s 2ms/step - loss: 0.5865 - accuracy: 0.7400\n",
            "Epoch 87/100\n",
            "25/25 [==============================] - 0s 2ms/step - loss: 0.5833 - accuracy: 0.7750\n",
            "Epoch 88/100\n",
            "25/25 [==============================] - 0s 2ms/step - loss: 0.5803 - accuracy: 0.7800\n",
            "Epoch 89/100\n",
            "25/25 [==============================] - 0s 2ms/step - loss: 0.5772 - accuracy: 0.7775\n",
            "Epoch 90/100\n",
            "25/25 [==============================] - 0s 2ms/step - loss: 0.5741 - accuracy: 0.7862\n",
            "Epoch 91/100\n",
            "25/25 [==============================] - 0s 2ms/step - loss: 0.5712 - accuracy: 0.7875\n",
            "Epoch 92/100\n",
            "25/25 [==============================] - 0s 2ms/step - loss: 0.5679 - accuracy: 0.7837\n",
            "Epoch 93/100\n",
            "25/25 [==============================] - 0s 2ms/step - loss: 0.5650 - accuracy: 0.7788\n",
            "Epoch 94/100\n",
            "25/25 [==============================] - 0s 2ms/step - loss: 0.5616 - accuracy: 0.7837\n",
            "Epoch 95/100\n",
            "25/25 [==============================] - 0s 2ms/step - loss: 0.5586 - accuracy: 0.7887\n",
            "Epoch 96/100\n",
            "25/25 [==============================] - 0s 2ms/step - loss: 0.5553 - accuracy: 0.7825\n",
            "Epoch 97/100\n",
            "25/25 [==============================] - 0s 2ms/step - loss: 0.5524 - accuracy: 0.7850\n",
            "Epoch 98/100\n",
            "25/25 [==============================] - 0s 2ms/step - loss: 0.5485 - accuracy: 0.7875\n",
            "Epoch 99/100\n",
            "25/25 [==============================] - 0s 2ms/step - loss: 0.5449 - accuracy: 0.7937\n",
            "Epoch 100/100\n",
            "25/25 [==============================] - 0s 2ms/step - loss: 0.5412 - accuracy: 0.7912\n"
          ]
        }
      ]
    },
    {
      "cell_type": "code",
      "source": [
        "#Plot the decision boundaries for the training and test sets\n",
        "\n",
        "plt.figure(figsize=(12,6))\n",
        "plt.subplot(1,2,1)\n",
        "plt.title(\"Train\")\n",
        "plot_decision_boundary(model_8,X=X_train,y=y_train)\n",
        "plt.subplot(1,2,2)\n",
        "plt.title(\"Test\")\n",
        "\n",
        "plot_decision_boundary(model_8,X=X_test,y=y_test)\n",
        "plt.show()\n"
      ],
      "metadata": {
        "colab": {
          "base_uri": "https://localhost:8080/",
          "height": 426
        },
        "id": "2AmAxvvw-Vh9",
        "outputId": "f9ec188b-cc37-4058-eeab-f972599f903b"
      },
      "execution_count": 100,
      "outputs": [
        {
          "output_type": "stream",
          "name": "stdout",
          "text": [
            "Doing Binary Classification...\n",
            "Doing Binary Classification...\n"
          ]
        },
        {
          "output_type": "display_data",
          "data": {
            "image/png": "[encoded data removed]",
            "text/plain": [
              "<Figure size 864x432 with 2 Axes>"
            ]
          },
          "metadata": {
            "needs_background": "light"
          }
        }
      ]
    },
    {
      "cell_type": "markdown",
      "source": [
        "# **Plot the Loss Curves**"
      ],
      "metadata": {
        "id": "2t4FnfF14pXZ"
      }
    },
    {
      "cell_type": "code",
      "source": [
        "pd.DataFrame(history.history)"
      ],
      "metadata": {
        "colab": {
          "base_uri": "https://localhost:8080/",
          "height": 424
        },
        "id": "OL0GnDw94s9z",
        "outputId": "eddf81d7-d9d2-46af-f707-4c96f181c37a"
      },
      "execution_count": 101,
      "outputs": [
        {
          "output_type": "execute_result",
          "data": {
            "text/html": [
              "\n",
              "  <div id=\"df-10aca34f-6ae7-4d48-9919-0192dc9b7863\">\n",
              "    <div class=\"colab-df-container\">\n",
              "      <div>\n",
              "<style scoped>\n",
              "    .dataframe tbody tr th:only-of-type {\n",
              "        vertical-align: middle;\n",
              "    }\n",
              "\n",
              "    .dataframe tbody tr th {\n",
              "        vertical-align: top;\n",
              "    }\n",
              "\n",
              "    .dataframe thead th {\n",
              "        text-align: right;\n",
              "    }\n",
              "</style>\n",
              "<table border=\"1\" class=\"dataframe\">\n",
              "  <thead>\n",
              "    <tr style=\"text-align: right;\">\n",
              "      <th></th>\n",
              "      <th>loss</th>\n",
              "      <th>accuracy</th>\n",
              "    </tr>\n",
              "  </thead>\n",
              "  <tbody>\n",
              "    <tr>\n",
              "      <th>0</th>\n",
              "      <td>0.692022</td>\n",
              "      <td>0.49750</td>\n",
              "    </tr>\n",
              "    <tr>\n",
              "      <th>1</th>\n",
              "      <td>0.687350</td>\n",
              "      <td>0.51375</td>\n",
              "    </tr>\n",
              "    <tr>\n",
              "      <th>2</th>\n",
              "      <td>0.684560</td>\n",
              "      <td>0.51750</td>\n",
              "    </tr>\n",
              "    <tr>\n",
              "      <th>3</th>\n",
              "      <td>0.683247</td>\n",
              "      <td>0.52000</td>\n",
              "    </tr>\n",
              "    <tr>\n",
              "      <th>4</th>\n",
              "      <td>0.682328</td>\n",
              "      <td>0.53000</td>\n",
              "    </tr>\n",
              "    <tr>\n",
              "      <th>...</th>\n",
              "      <td>...</td>\n",
              "      <td>...</td>\n",
              "    </tr>\n",
              "    <tr>\n",
              "      <th>95</th>\n",
              "      <td>0.555288</td>\n",
              "      <td>0.78250</td>\n",
              "    </tr>\n",
              "    <tr>\n",
              "      <th>96</th>\n",
              "      <td>0.552419</td>\n",
              "      <td>0.78500</td>\n",
              "    </tr>\n",
              "    <tr>\n",
              "      <th>97</th>\n",
              "      <td>0.548467</td>\n",
              "      <td>0.78750</td>\n",
              "    </tr>\n",
              "    <tr>\n",
              "      <th>98</th>\n",
              "      <td>0.544930</td>\n",
              "      <td>0.79375</td>\n",
              "    </tr>\n",
              "    <tr>\n",
              "      <th>99</th>\n",
              "      <td>0.541231</td>\n",
              "      <td>0.79125</td>\n",
              "    </tr>\n",
              "  </tbody>\n",
              "</table>\n",
              "<p>100 rows × 2 columns</p>\n",
              "</div>\n",
              "      <button class=\"colab-df-convert\" onclick=\"convertToInteractive('df-10aca34f-6ae7-4d48-9919-0192dc9b7863')\"\n",
              "              title=\"Convert this dataframe to an interactive table.\"\n",
              "              style=\"display:none;\">\n",
              "        \n",
              "  <svg xmlns=\"http://www.w3.org/2000/svg\" height=\"24px\"viewBox=\"0 0 24 24\"\n",
              "       width=\"24px\">\n",
              "    <path d=\"M0 0h24v24H0V0z\" fill=\"none\"/>\n",
              "    <path d=\"M18.56 5.44l.94 2.06.94-2.06 2.06-.94-2.06-.94-.94-2.06-.94 2.06-2.06.94zm-11 1L8.5 8.5l.94-2.06 2.06-.94-2.06-.94L8.5 2.5l-.94 2.06-2.06.94zm10 10l.94 2.06.94-2.06 2.06-.94-2.06-.94-.94-2.06-.94 2.06-2.06.94z\"/><path d=\"M17.41 7.96l-1.37-1.37c-.4-.4-.92-.59-1.43-.59-.52 0-1.04.2-1.43.59L10.3 9.45l-7.72 7.72c-.78.78-.78 2.05 0 2.83L4 21.41c.39.39.9.59 1.41.59.51 0 1.02-.2 1.41-.59l7.78-7.78 2.81-2.81c.8-.78.8-2.07 0-2.86zM5.41 20L4 18.59l7.72-7.72 1.47 1.35L5.41 20z\"/>\n",
              "  </svg>\n",
              "      </button>\n",
              "      \n",
              "  <style>\n",
              "    .colab-df-container {\n",
              "      display:flex;\n",
              "      flex-wrap:wrap;\n",
              "      gap: 12px;\n",
              "    }\n",
              "\n",
              "    .colab-df-convert {\n",
              "      background-color: #E8F0FE;\n",
              "      border: none;\n",
              "      border-radius: 50%;\n",
              "      cursor: pointer;\n",
              "      display: none;\n",
              "      fill: #1967D2;\n",
              "      height: 32px;\n",
              "      padding: 0 0 0 0;\n",
              "      width: 32px;\n",
              "    }\n",
              "\n",
              "    .colab-df-convert:hover {\n",
              "      background-color: #E2EBFA;\n",
              "      box-shadow: 0px 1px 2px rgba(60, 64, 67, 0.3), 0px 1px 3px 1px rgba(60, 64, 67, 0.15);\n",
              "      fill: #174EA6;\n",
              "    }\n",
              "\n",
              "    [theme=dark] .colab-df-convert {\n",
              "      background-color: #3B4455;\n",
              "      fill: #D2E3FC;\n",
              "    }\n",
              "\n",
              "    [theme=dark] .colab-df-convert:hover {\n",
              "      background-color: #434B5C;\n",
              "      box-shadow: 0px 1px 3px 1px rgba(0, 0, 0, 0.15);\n",
              "      filter: drop-shadow(0px 1px 2px rgba(0, 0, 0, 0.3));\n",
              "      fill: #FFFFFF;\n",
              "    }\n",
              "  </style>\n",
              "\n",
              "      <script>\n",
              "        const buttonEl =\n",
              "          document.querySelector('#df-10aca34f-6ae7-4d48-9919-0192dc9b7863 button.colab-df-convert');\n",
              "        buttonEl.style.display =\n",
              "          google.colab.kernel.accessAllowed ? 'block' : 'none';\n",
              "\n",
              "        async function convertToInteractive(key) {\n",
              "          const element = document.querySelector('#df-10aca34f-6ae7-4d48-9919-0192dc9b7863');\n",
              "          const dataTable =\n",
              "            await google.colab.kernel.invokeFunction('convertToInteractive',\n",
              "                                                     [key], {});\n",
              "          if (!dataTable) return;\n",
              "\n",
              "          const docLinkHtml = 'Like what you see? Visit the ' +\n",
              "            '<a target=\"_blank\" href=https://colab.research.google.com/notebooks/data_table.ipynb>data table notebook</a>'\n",
              "            + ' to learn more about interactive tables.';\n",
              "          element.innerHTML = '';\n",
              "          dataTable['output_type'] = 'display_data';\n",
              "          await google.colab.output.renderOutput(dataTable, element);\n",
              "          const docLink = document.createElement('div');\n",
              "          docLink.innerHTML = docLinkHtml;\n",
              "          element.appendChild(docLink);\n",
              "        }\n",
              "      </script>\n",
              "    </div>\n",
              "  </div>\n",
              "  "
            ],
            "text/plain": [
              "        loss  accuracy\n",
              "0   0.692022   0.49750\n",
              "1   0.687350   0.51375\n",
              "2   0.684560   0.51750\n",
              "3   0.683247   0.52000\n",
              "4   0.682328   0.53000\n",
              "..       ...       ...\n",
              "95  0.555288   0.78250\n",
              "96  0.552419   0.78500\n",
              "97  0.548467   0.78750\n",
              "98  0.544930   0.79375\n",
              "99  0.541231   0.79125\n",
              "\n",
              "[100 rows x 2 columns]"
            ]
          },
          "metadata": {},
          "execution_count": 101
        }
      ]
    },
    {
      "cell_type": "code",
      "source": [
        "#Plot the loss curves\n",
        "pd.DataFrame(history.history).plot()\n",
        "plt.title(\"Model_8 training curves\");"
      ],
      "metadata": {
        "colab": {
          "base_uri": "https://localhost:8080/",
          "height": 281
        },
        "id": "7C1GkrrW5FpI",
        "outputId": "4b617bd5-863e-4d83-b983-127c1fbba3b0"
      },
      "execution_count": 102,
      "outputs": [
        {
          "output_type": "display_data",
          "data": {
            "image/png": "[encoded data removed]",
            "text/plain": [
              "<Figure size 432x288 with 1 Axes>"
            ]
          },
          "metadata": {
            "needs_background": "light"
          }
        }
      ]
    },
    {
      "cell_type": "markdown",
      "source": [
        "# **Finding the best Learning Rate**"
      ],
      "metadata": {
        "id": "j0lWkIvp5sB-"
      }
    },
    {
      "cell_type": "code",
      "source": [
        "tf.random.set_seed(42)\n",
        "\n",
        "model_9=tf.keras.Sequential([\n",
        "                             tf.keras.layers.Dense(4,activation=\"relu\"),\n",
        "                             tf.keras.layers.Dense(4,activation=\"relu\"),\n",
        "                             tf.keras.layers.Dense(1,activation=\"sigmoid\")\n",
        "])\n",
        "\n",
        "model_9.compile(loss=\"binary_crossentropy\",\n",
        "                optimizer=\"Adam\",\n",
        "                metrics=[\"accuracy\"])\n",
        "\n",
        "#Create a learning rate scheduler callback\n",
        "lr_scheduler=tf.keras.callbacks.LearningRateScheduler(lambda epoch: 1e-4 * 10**(epoch/20))\n",
        "\n",
        "history=model_9.fit(X_train,\n",
        "                    y_train,\n",
        "                    epochs=100,\n",
        "                    callbacks=[lr_scheduler])\n"
      ],
      "metadata": {
        "colab": {
          "base_uri": "https://localhost:8080/"
        },
        "id": "B2IVjHBT5xOk",
        "outputId": "b3c14b3f-e553-468d-89e0-5fe2e8daf5c1"
      },
      "execution_count": 103,
      "outputs": [
        {
          "output_type": "stream",
          "name": "stdout",
          "text": [
            "Epoch 1/100\n",
            "25/25 [==============================] - 1s 2ms/step - loss: 0.6945 - accuracy: 0.4988 - lr: 1.0000e-04\n",
            "Epoch 2/100\n",
            "25/25 [==============================] - 0s 2ms/step - loss: 0.6938 - accuracy: 0.4975 - lr: 1.1220e-04\n",
            "Epoch 3/100\n",
            "25/25 [==============================] - 0s 2ms/step - loss: 0.6930 - accuracy: 0.4963 - lr: 1.2589e-04\n",
            "Epoch 4/100\n",
            "25/25 [==============================] - 0s 2ms/step - loss: 0.6922 - accuracy: 0.4975 - lr: 1.4125e-04\n",
            "Epoch 5/100\n",
            "25/25 [==============================] - 0s 2ms/step - loss: 0.6914 - accuracy: 0.5063 - lr: 1.5849e-04\n",
            "Epoch 6/100\n",
            "25/25 [==============================] - 0s 2ms/step - loss: 0.6906 - accuracy: 0.5013 - lr: 1.7783e-04\n",
            "Epoch 7/100\n",
            "25/25 [==============================] - 0s 2ms/step - loss: 0.6898 - accuracy: 0.4950 - lr: 1.9953e-04\n",
            "Epoch 8/100\n",
            "25/25 [==============================] - 0s 2ms/step - loss: 0.6889 - accuracy: 0.5038 - lr: 2.2387e-04\n",
            "Epoch 9/100\n",
            "25/25 [==============================] - 0s 2ms/step - loss: 0.6880 - accuracy: 0.5013 - lr: 2.5119e-04\n",
            "Epoch 10/100\n",
            "25/25 [==============================] - 0s 2ms/step - loss: 0.6871 - accuracy: 0.5050 - lr: 2.8184e-04\n",
            "Epoch 11/100\n",
            "25/25 [==============================] - 0s 2ms/step - loss: 0.6863 - accuracy: 0.5200 - lr: 3.1623e-04\n",
            "Epoch 12/100\n",
            "25/25 [==============================] - 0s 2ms/step - loss: 0.6856 - accuracy: 0.5163 - lr: 3.5481e-04\n",
            "Epoch 13/100\n",
            "25/25 [==============================] - 0s 2ms/step - loss: 0.6847 - accuracy: 0.5175 - lr: 3.9811e-04\n",
            "Epoch 14/100\n",
            "25/25 [==============================] - 0s 2ms/step - loss: 0.6842 - accuracy: 0.5200 - lr: 4.4668e-04\n",
            "Epoch 15/100\n",
            "25/25 [==============================] - 0s 2ms/step - loss: 0.6835 - accuracy: 0.5213 - lr: 5.0119e-04\n",
            "Epoch 16/100\n",
            "25/25 [==============================] - 0s 2ms/step - loss: 0.6829 - accuracy: 0.5213 - lr: 5.6234e-04\n",
            "Epoch 17/100\n",
            "25/25 [==============================] - 0s 2ms/step - loss: 0.6826 - accuracy: 0.5225 - lr: 6.3096e-04\n",
            "Epoch 18/100\n",
            "25/25 [==============================] - 0s 2ms/step - loss: 0.6819 - accuracy: 0.5300 - lr: 7.0795e-04\n",
            "Epoch 19/100\n",
            "25/25 [==============================] - 0s 2ms/step - loss: 0.6816 - accuracy: 0.5312 - lr: 7.9433e-04\n",
            "Epoch 20/100\n",
            "25/25 [==============================] - 0s 2ms/step - loss: 0.6811 - accuracy: 0.5387 - lr: 8.9125e-04\n",
            "Epoch 21/100\n",
            "25/25 [==============================] - 0s 2ms/step - loss: 0.6806 - accuracy: 0.5400 - lr: 0.0010\n",
            "Epoch 22/100\n",
            "25/25 [==============================] - 0s 2ms/step - loss: 0.6801 - accuracy: 0.5412 - lr: 0.0011\n",
            "Epoch 23/100\n",
            "25/25 [==============================] - 0s 2ms/step - loss: 0.6796 - accuracy: 0.5400 - lr: 0.0013\n",
            "Epoch 24/100\n",
            "25/25 [==============================] - 0s 2ms/step - loss: 0.6790 - accuracy: 0.5425 - lr: 0.0014\n",
            "Epoch 25/100\n",
            "25/25 [==============================] - 0s 2ms/step - loss: 0.6784 - accuracy: 0.5450 - lr: 0.0016\n",
            "Epoch 26/100\n",
            "25/25 [==============================] - 0s 2ms/step - loss: 0.6778 - accuracy: 0.5387 - lr: 0.0018\n",
            "Epoch 27/100\n",
            "25/25 [==============================] - 0s 2ms/step - loss: 0.6770 - accuracy: 0.5425 - lr: 0.0020\n",
            "Epoch 28/100\n",
            "25/25 [==============================] - 0s 2ms/step - loss: 0.6760 - accuracy: 0.5537 - lr: 0.0022\n",
            "Epoch 29/100\n",
            "25/25 [==============================] - 0s 2ms/step - loss: 0.6754 - accuracy: 0.5512 - lr: 0.0025\n",
            "Epoch 30/100\n",
            "25/25 [==============================] - 0s 2ms/step - loss: 0.6739 - accuracy: 0.5575 - lr: 0.0028\n",
            "Epoch 31/100\n",
            "25/25 [==============================] - 0s 2ms/step - loss: 0.6726 - accuracy: 0.5500 - lr: 0.0032\n",
            "Epoch 32/100\n",
            "25/25 [==============================] - 0s 2ms/step - loss: 0.6711 - accuracy: 0.5512 - lr: 0.0035\n",
            "Epoch 33/100\n",
            "25/25 [==============================] - 0s 2ms/step - loss: 0.6688 - accuracy: 0.5562 - lr: 0.0040\n",
            "Epoch 34/100\n",
            "25/25 [==============================] - 0s 2ms/step - loss: 0.6672 - accuracy: 0.5612 - lr: 0.0045\n",
            "Epoch 35/100\n",
            "25/25 [==============================] - 0s 2ms/step - loss: 0.6660 - accuracy: 0.5888 - lr: 0.0050\n",
            "Epoch 36/100\n",
            "25/25 [==============================] - 0s 2ms/step - loss: 0.6625 - accuracy: 0.5625 - lr: 0.0056\n",
            "Epoch 37/100\n",
            "25/25 [==============================] - 0s 2ms/step - loss: 0.6560 - accuracy: 0.5813 - lr: 0.0063\n",
            "Epoch 38/100\n",
            "25/25 [==============================] - 0s 2ms/step - loss: 0.6521 - accuracy: 0.6025 - lr: 0.0071\n",
            "Epoch 39/100\n",
            "25/25 [==============================] - 0s 2ms/step - loss: 0.6415 - accuracy: 0.7088 - lr: 0.0079\n",
            "Epoch 40/100\n",
            "25/25 [==============================] - 0s 2ms/step - loss: 0.6210 - accuracy: 0.7113 - lr: 0.0089\n",
            "Epoch 41/100\n",
            "25/25 [==============================] - 0s 2ms/step - loss: 0.5904 - accuracy: 0.7487 - lr: 0.0100\n",
            "Epoch 42/100\n",
            "25/25 [==============================] - 0s 2ms/step - loss: 0.5688 - accuracy: 0.7312 - lr: 0.0112\n",
            "Epoch 43/100\n",
            "25/25 [==============================] - 0s 2ms/step - loss: 0.5346 - accuracy: 0.7563 - lr: 0.0126\n",
            "Epoch 44/100\n",
            "25/25 [==============================] - 0s 2ms/step - loss: 0.4533 - accuracy: 0.8150 - lr: 0.0141\n",
            "Epoch 45/100\n",
            "25/25 [==============================] - 0s 2ms/step - loss: 0.3455 - accuracy: 0.9112 - lr: 0.0158\n",
            "Epoch 46/100\n",
            "25/25 [==============================] - 0s 2ms/step - loss: 0.2570 - accuracy: 0.9463 - lr: 0.0178\n",
            "Epoch 47/100\n",
            "25/25 [==============================] - 0s 2ms/step - loss: 0.1968 - accuracy: 0.9575 - lr: 0.0200\n",
            "Epoch 48/100\n",
            "25/25 [==============================] - 0s 2ms/step - loss: 0.1336 - accuracy: 0.9700 - lr: 0.0224\n",
            "Epoch 49/100\n",
            "25/25 [==============================] - 0s 2ms/step - loss: 0.1310 - accuracy: 0.9613 - lr: 0.0251\n",
            "Epoch 50/100\n",
            "25/25 [==============================] - 0s 2ms/step - loss: 0.1002 - accuracy: 0.9700 - lr: 0.0282\n",
            "Epoch 51/100\n",
            "25/25 [==============================] - 0s 2ms/step - loss: 0.1166 - accuracy: 0.9638 - lr: 0.0316\n",
            "Epoch 52/100\n",
            "25/25 [==============================] - 0s 2ms/step - loss: 0.1368 - accuracy: 0.9513 - lr: 0.0355\n",
            "Epoch 53/100\n",
            "25/25 [==============================] - 0s 2ms/step - loss: 0.0879 - accuracy: 0.9787 - lr: 0.0398\n",
            "Epoch 54/100\n",
            "25/25 [==============================] - 0s 2ms/step - loss: 0.1187 - accuracy: 0.9588 - lr: 0.0447\n",
            "Epoch 55/100\n",
            "25/25 [==============================] - 0s 2ms/step - loss: 0.0733 - accuracy: 0.9712 - lr: 0.0501\n",
            "Epoch 56/100\n",
            "25/25 [==============================] - 0s 2ms/step - loss: 0.1132 - accuracy: 0.9550 - lr: 0.0562\n",
            "Epoch 57/100\n",
            "25/25 [==============================] - 0s 2ms/step - loss: 0.1057 - accuracy: 0.9613 - lr: 0.0631\n",
            "Epoch 58/100\n",
            "25/25 [==============================] - 0s 2ms/step - loss: 0.0664 - accuracy: 0.9750 - lr: 0.0708\n",
            "Epoch 59/100\n",
            "25/25 [==============================] - 0s 2ms/step - loss: 0.1898 - accuracy: 0.9275 - lr: 0.0794\n",
            "Epoch 60/100\n",
            "25/25 [==============================] - 0s 2ms/step - loss: 0.1895 - accuracy: 0.9312 - lr: 0.0891\n",
            "Epoch 61/100\n",
            "25/25 [==============================] - 0s 2ms/step - loss: 0.4131 - accuracy: 0.8612 - lr: 0.1000\n",
            "Epoch 62/100\n",
            "25/25 [==============================] - 0s 2ms/step - loss: 0.1707 - accuracy: 0.9725 - lr: 0.1122\n",
            "Epoch 63/100\n",
            "25/25 [==============================] - 0s 2ms/step - loss: 0.0569 - accuracy: 0.9937 - lr: 0.1259\n",
            "Epoch 64/100\n",
            "25/25 [==============================] - 0s 2ms/step - loss: 0.1007 - accuracy: 0.9638 - lr: 0.1413\n",
            "Epoch 65/100\n",
            "25/25 [==============================] - 0s 2ms/step - loss: 0.1323 - accuracy: 0.9488 - lr: 0.1585\n",
            "Epoch 66/100\n",
            "25/25 [==============================] - 0s 2ms/step - loss: 0.1819 - accuracy: 0.9375 - lr: 0.1778\n",
            "Epoch 67/100\n",
            "25/25 [==============================] - 0s 2ms/step - loss: 0.6672 - accuracy: 0.7613 - lr: 0.1995\n",
            "Epoch 68/100\n",
            "25/25 [==============================] - 0s 2ms/step - loss: 0.5301 - accuracy: 0.6687 - lr: 0.2239\n",
            "Epoch 69/100\n",
            "25/25 [==============================] - 0s 2ms/step - loss: 0.4140 - accuracy: 0.7925 - lr: 0.2512\n",
            "Epoch 70/100\n",
            "25/25 [==============================] - 0s 2ms/step - loss: 0.4574 - accuracy: 0.7412 - lr: 0.2818\n",
            "Epoch 71/100\n",
            "25/25 [==============================] - 0s 2ms/step - loss: 0.4759 - accuracy: 0.7262 - lr: 0.3162\n",
            "Epoch 72/100\n",
            "25/25 [==============================] - 0s 2ms/step - loss: 0.3748 - accuracy: 0.8112 - lr: 0.3548\n",
            "Epoch 73/100\n",
            "25/25 [==============================] - 0s 2ms/step - loss: 0.4710 - accuracy: 0.8150 - lr: 0.3981\n",
            "Epoch 74/100\n",
            "25/25 [==============================] - 0s 2ms/step - loss: 0.4143 - accuracy: 0.8087 - lr: 0.4467\n",
            "Epoch 75/100\n",
            "25/25 [==============================] - 0s 2ms/step - loss: 0.5961 - accuracy: 0.7412 - lr: 0.5012\n",
            "Epoch 76/100\n",
            "25/25 [==============================] - 0s 2ms/step - loss: 0.4787 - accuracy: 0.7713 - lr: 0.5623\n",
            "Epoch 77/100\n",
            "25/25 [==============================] - 0s 2ms/step - loss: 0.4720 - accuracy: 0.7113 - lr: 0.6310\n",
            "Epoch 78/100\n",
            "25/25 [==============================] - 0s 2ms/step - loss: 0.2565 - accuracy: 0.8675 - lr: 0.7079\n",
            "Epoch 79/100\n",
            "25/25 [==============================] - 0s 2ms/step - loss: 1.1824 - accuracy: 0.6275 - lr: 0.7943\n",
            "Epoch 80/100\n",
            "25/25 [==============================] - 0s 2ms/step - loss: 0.6873 - accuracy: 0.5425 - lr: 0.8913\n",
            "Epoch 81/100\n",
            "25/25 [==============================] - 0s 2ms/step - loss: 0.7068 - accuracy: 0.5575 - lr: 1.0000\n",
            "Epoch 82/100\n",
            "25/25 [==============================] - 0s 2ms/step - loss: 0.6879 - accuracy: 0.5838 - lr: 1.1220\n",
            "Epoch 83/100\n",
            "25/25 [==============================] - 0s 2ms/step - loss: 0.6996 - accuracy: 0.5700 - lr: 1.2589\n",
            "Epoch 84/100\n",
            "25/25 [==============================] - 0s 2ms/step - loss: 0.6471 - accuracy: 0.5863 - lr: 1.4125\n",
            "Epoch 85/100\n",
            "25/25 [==============================] - 0s 2ms/step - loss: 0.7457 - accuracy: 0.5312 - lr: 1.5849\n",
            "Epoch 86/100\n",
            "25/25 [==============================] - 0s 2ms/step - loss: 0.7546 - accuracy: 0.5038 - lr: 1.7783\n",
            "Epoch 87/100\n",
            "25/25 [==============================] - 0s 2ms/step - loss: 0.7681 - accuracy: 0.5063 - lr: 1.9953\n",
            "Epoch 88/100\n",
            "25/25 [==============================] - 0s 2ms/step - loss: 0.7596 - accuracy: 0.4963 - lr: 2.2387\n",
            "Epoch 89/100\n",
            "25/25 [==============================] - 0s 2ms/step - loss: 0.7778 - accuracy: 0.5063 - lr: 2.5119\n",
            "Epoch 90/100\n",
            "25/25 [==============================] - 0s 2ms/step - loss: 0.7741 - accuracy: 0.4787 - lr: 2.8184\n",
            "Epoch 91/100\n",
            "25/25 [==============================] - 0s 2ms/step - loss: 0.7851 - accuracy: 0.5163 - lr: 3.1623\n",
            "Epoch 92/100\n",
            "25/25 [==============================] - 0s 2ms/step - loss: 0.7441 - accuracy: 0.4888 - lr: 3.5481\n",
            "Epoch 93/100\n",
            "25/25 [==============================] - 0s 2ms/step - loss: 0.7354 - accuracy: 0.5163 - lr: 3.9811\n",
            "Epoch 94/100\n",
            "25/25 [==============================] - 0s 2ms/step - loss: 0.7548 - accuracy: 0.4938 - lr: 4.4668\n",
            "Epoch 95/100\n",
            "25/25 [==============================] - 0s 2ms/step - loss: 0.8087 - accuracy: 0.4863 - lr: 5.0119\n",
            "Epoch 96/100\n",
            "25/25 [==============================] - 0s 2ms/step - loss: 0.7714 - accuracy: 0.4638 - lr: 5.6234\n",
            "Epoch 97/100\n",
            "25/25 [==============================] - 0s 2ms/step - loss: 0.8001 - accuracy: 0.5013 - lr: 6.3096\n",
            "Epoch 98/100\n",
            "25/25 [==============================] - 0s 2ms/step - loss: 0.9554 - accuracy: 0.4963 - lr: 7.0795\n",
            "Epoch 99/100\n",
            "25/25 [==============================] - 0s 2ms/step - loss: 0.9268 - accuracy: 0.4913 - lr: 7.9433\n",
            "Epoch 100/100\n",
            "25/25 [==============================] - 0s 2ms/step - loss: 0.8563 - accuracy: 0.4663 - lr: 8.9125\n"
          ]
        }
      ]
    },
    {
      "cell_type": "code",
      "source": [
        "#CheckOut the history\n",
        "\n",
        "pd.DataFrame(history.history).plot(figsize=(10,7),xlabel=\"epochs\")"
      ],
      "metadata": {
        "colab": {
          "base_uri": "https://localhost:8080/",
          "height": 460
        },
        "id": "6HJVm29a8bX8",
        "outputId": "91873ec6-ca85-4bd8-ab65-7678213a6098"
      },
      "execution_count": 104,
      "outputs": [
        {
          "output_type": "execute_result",
          "data": {
            "text/plain": [
              "<matplotlib.axes._subplots.AxesSubplot at 0x7f76d4336710>"
            ]
          },
          "metadata": {},
          "execution_count": 104
        },
        {
          "output_type": "display_data",
          "data": {
            "image/png": "[encoded data removed]",
            "text/plain": [
              "<Figure size 720x504 with 1 Axes>"
            ]
          },
          "metadata": {
            "needs_background": "light"
          }
        }
      ]
    },
    {
      "cell_type": "code",
      "source": [
        "#Plot the learning rate versus the loss\n",
        "lrs=1e-4 * (10**(np.arange(100)/20))\n",
        "plt.semilogx(lrs,history.history[\"loss\"])\n",
        "plt.xlabel(\"Learning Rate\")\n",
        "plt.ylabel(\"Loss\")\n",
        "plt.xlabel(\"Learning Rate\")\n",
        "plt.title(\"Learning rate vs. loss\")\n"
      ],
      "metadata": {
        "colab": {
          "base_uri": "https://localhost:8080/",
          "height": 317
        },
        "id": "wBubULV484_X",
        "outputId": "446db166-93e3-44cc-ea7b-edefe43af2d5"
      },
      "execution_count": 105,
      "outputs": [
        {
          "output_type": "execute_result",
          "data": {
            "text/plain": [
              "Text(0.5, 1.0, 'Learning rate vs. loss')"
            ]
          },
          "metadata": {},
          "execution_count": 105
        },
        {
          "output_type": "display_data",
          "data": {
            "image/png": "[encoded data removed]",
            "text/plain": [
              "<Figure size 432x288 with 1 Axes>"
            ]
          },
          "metadata": {
            "needs_background": "light"
          }
        }
      ]
    },
    {
      "cell_type": "markdown",
      "source": [
        "# **The ideal learning rate is 0.02**"
      ],
      "metadata": {
        "id": "s2PP2naEBBzv"
      }
    },
    {
      "cell_type": "code",
      "source": [
        "tf.random.set_seed(42)\n",
        "\n",
        "model_10=tf.keras.Sequential([\n",
        "                             tf.keras.layers.Dense(4,activation=\"relu\"),\n",
        "                             tf.keras.layers.Dense(4,activation=\"relu\"),\n",
        "                             tf.keras.layers.Dense(1,activation=\"sigmoid\")\n",
        "])\n",
        "\n",
        "model_10.compile(loss=\"binary_crossentropy\",\n",
        "                 optimizer=tf.keras.optimizers.Adam(lr=0.02),\n",
        "                 metrics=[\"accuracy\"])\n",
        "\n",
        "history=model_10.fit(X_train,y_train,epochs=20)\n",
        "\n"
      ],
      "metadata": {
        "colab": {
          "base_uri": "https://localhost:8080/"
        },
        "id": "wEKCT9dlBHyQ",
        "outputId": "c9abc930-f1c8-41c3-ac14-cab6890cbc03"
      },
      "execution_count": 106,
      "outputs": [
        {
          "output_type": "stream",
          "name": "stderr",
          "text": [
            "/usr/local/lib/python3.7/dist-packages/keras/optimizer_v2/adam.py:105: UserWarning: The `lr` argument is deprecated, use `learning_rate` instead.\n",
            "  super(Adam, self).__init__(name, **kwargs)\n"
          ]
        },
        {
          "output_type": "stream",
          "name": "stdout",
          "text": [
            "Epoch 1/20\n",
            "25/25 [==============================] - 1s 2ms/step - loss: 0.6837 - accuracy: 0.5600\n",
            "Epoch 2/20\n",
            "25/25 [==============================] - 0s 2ms/step - loss: 0.6744 - accuracy: 0.5750\n",
            "Epoch 3/20\n",
            "25/25 [==============================] - 0s 2ms/step - loss: 0.6626 - accuracy: 0.5875\n",
            "Epoch 4/20\n",
            "25/25 [==============================] - 0s 2ms/step - loss: 0.6332 - accuracy: 0.6388\n",
            "Epoch 5/20\n",
            "25/25 [==============================] - 0s 3ms/step - loss: 0.5830 - accuracy: 0.7563\n",
            "Epoch 6/20\n",
            "25/25 [==============================] - 0s 2ms/step - loss: 0.4907 - accuracy: 0.8313\n",
            "Epoch 7/20\n",
            "25/25 [==============================] - 0s 2ms/step - loss: 0.4251 - accuracy: 0.8450\n",
            "Epoch 8/20\n",
            "25/25 [==============================] - 0s 2ms/step - loss: 0.3596 - accuracy: 0.8875\n",
            "Epoch 9/20\n",
            "25/25 [==============================] - 0s 2ms/step - loss: 0.3152 - accuracy: 0.9100\n",
            "Epoch 10/20\n",
            "25/25 [==============================] - 0s 2ms/step - loss: 0.2512 - accuracy: 0.9500\n",
            "Epoch 11/20\n",
            "25/25 [==============================] - 0s 2ms/step - loss: 0.2152 - accuracy: 0.9500\n",
            "Epoch 12/20\n",
            "25/25 [==============================] - 0s 2ms/step - loss: 0.1721 - accuracy: 0.9750\n",
            "Epoch 13/20\n",
            "25/25 [==============================] - 0s 2ms/step - loss: 0.1443 - accuracy: 0.9837\n",
            "Epoch 14/20\n",
            "25/25 [==============================] - 0s 2ms/step - loss: 0.1232 - accuracy: 0.9862\n",
            "Epoch 15/20\n",
            "25/25 [==============================] - 0s 2ms/step - loss: 0.1085 - accuracy: 0.9850\n",
            "Epoch 16/20\n",
            "25/25 [==============================] - 0s 2ms/step - loss: 0.0940 - accuracy: 0.9937\n",
            "Epoch 17/20\n",
            "25/25 [==============================] - 0s 2ms/step - loss: 0.0827 - accuracy: 0.9962\n",
            "Epoch 18/20\n",
            "25/25 [==============================] - 0s 2ms/step - loss: 0.0798 - accuracy: 0.9937\n",
            "Epoch 19/20\n",
            "25/25 [==============================] - 0s 2ms/step - loss: 0.0845 - accuracy: 0.9875\n",
            "Epoch 20/20\n",
            "25/25 [==============================] - 0s 2ms/step - loss: 0.0790 - accuracy: 0.9887\n"
          ]
        }
      ]
    },
    {
      "cell_type": "code",
      "source": [
        "#Evaluate model on the data set\n",
        "model_10.evaluate(X_test, y_test)"
      ],
      "metadata": {
        "colab": {
          "base_uri": "https://localhost:8080/"
        },
        "id": "c5IpCudOCsIZ",
        "outputId": "eaffbdc0-5d6b-42e6-e18a-9b27fb0594f7"
      },
      "execution_count": 107,
      "outputs": [
        {
          "output_type": "stream",
          "name": "stdout",
          "text": [
            "7/7 [==============================] - 0s 2ms/step - loss: 0.0574 - accuracy: 0.9900\n"
          ]
        },
        {
          "output_type": "execute_result",
          "data": {
            "text/plain": [
              "[0.05740184709429741, 0.9900000095367432]"
            ]
          },
          "metadata": {},
          "execution_count": 107
        }
      ]
    },
    {
      "cell_type": "code",
      "source": [
        "#Plot the decision boundaries for the training and test sets\n",
        "plt.figure(figsize=(12,6))\n",
        "plt.subplot(1,2,1)\n",
        "plt.title(\"Train\")\n",
        "plot_decision_boundary(model_10,X=X_train, y= y_train)\n",
        "plt.subplot(1,2,2)\n",
        "plt.title(\"Test\")\n",
        "plot_decision_boundary(model_10,X=X_test,y=y_test)\n",
        "plt.show()"
      ],
      "metadata": {
        "colab": {
          "base_uri": "https://localhost:8080/",
          "height": 426
        },
        "id": "1aLPi0wjC_j-",
        "outputId": "4705e079-9694-41ae-ed4c-b37073ccfa35"
      },
      "execution_count": 108,
      "outputs": [
        {
          "output_type": "stream",
          "name": "stdout",
          "text": [
            "Doing Binary Classification...\n",
            "Doing Binary Classification...\n"
          ]
        },
        {
          "output_type": "display_data",
          "data": {
            "image/png": "[encoded data removed]",
            "text/plain": [
              "<Figure size 864x432 with 2 Axes>"
            ]
          },
          "metadata": {
            "needs_background": "light"
          }
        }
      ]
    },
    {
      "cell_type": "markdown",
      "source": [
        "# **More Classification evaluation Models**"
      ],
      "metadata": {
        "id": "TSp3Su1R4O-7"
      }
    },
    {
      "cell_type": "code",
      "source": [
        "#check the accuracy of our model\n",
        "loss,accuracy=model_10.evaluate(X_test, y_test)\n",
        "\n",
        "print(\"Model loss on test set : {}\".format(loss))\n",
        "print(\"Model accuracy on test set: {}\".format(accuracy*100))"
      ],
      "metadata": {
        "colab": {
          "base_uri": "https://localhost:8080/"
        },
        "id": "FokHbUi84YPF",
        "outputId": "a3d73475-620e-4fd0-e250-b427250fa4af"
      },
      "execution_count": 109,
      "outputs": [
        {
          "output_type": "stream",
          "name": "stdout",
          "text": [
            "7/7 [==============================] - 0s 2ms/step - loss: 0.0574 - accuracy: 0.9900\n",
            "Model loss on test set : 0.05740184709429741\n",
            "Model accuracy on test set: 99.00000095367432\n"
          ]
        }
      ]
    },
    {
      "cell_type": "code",
      "source": [
        "y_preds=model_10.predict(X_test)"
      ],
      "metadata": {
        "id": "2KZVANouHAE7"
      },
      "execution_count": 110,
      "outputs": []
    },
    {
      "cell_type": "code",
      "source": [
        "tf.round(y_preds)[:10]"
      ],
      "metadata": {
        "colab": {
          "base_uri": "https://localhost:8080/"
        },
        "id": "NJgieQNoHFhh",
        "outputId": "49a1c1cc-c273-4956-f6a6-a73505af90b2"
      },
      "execution_count": 111,
      "outputs": [
        {
          "output_type": "execute_result",
          "data": {
            "text/plain": [
              "<tf.Tensor: shape=(10, 1), dtype=float32, numpy=\n",
              "array([[1.],\n",
              "       [1.],\n",
              "       [1.],\n",
              "       [1.],\n",
              "       [0.],\n",
              "       [0.],\n",
              "       [1.],\n",
              "       [0.],\n",
              "       [1.],\n",
              "       [0.]], dtype=float32)>"
            ]
          },
          "metadata": {},
          "execution_count": 111
        }
      ]
    },
    {
      "cell_type": "code",
      "source": [
        "from sklearn.metrics import confusion_matrix"
      ],
      "metadata": {
        "id": "71gp23NvHeHx"
      },
      "execution_count": 112,
      "outputs": []
    },
    {
      "cell_type": "code",
      "source": [
        "#Create a confusion matrix to evaluate how our model predicting\n",
        "confusion_matrix(y_test,tf.round(y_preds))"
      ],
      "metadata": {
        "colab": {
          "base_uri": "https://localhost:8080/"
        },
        "id": "dCKJZ9f_HTBS",
        "outputId": "b5cb885a-184b-4d4e-d543-e179a99d4a37"
      },
      "execution_count": 113,
      "outputs": [
        {
          "output_type": "execute_result",
          "data": {
            "text/plain": [
              "array([[99,  2],\n",
              "       [ 0, 99]])"
            ]
          },
          "metadata": {},
          "execution_count": 113
        }
      ]
    }
  ]
}